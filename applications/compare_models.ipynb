{
 "cells": [
  {
   "cell_type": "code",
   "execution_count": 1,
   "metadata": {},
   "outputs": [],
   "source": [
    "import warnings\n",
    "warnings.filterwarnings(\"ignore\")\n",
    "\n",
    "import os\n",
    "import sys\n",
    "import yaml\n",
    "import copy\n",
    "import torch\n",
    "import pickle\n",
    "import logging\n",
    "import traceback\n",
    "import numpy as np\n",
    "import pandas as pd\n",
    "import tensorflow as tf\n",
    "import multiprocessing as mp\n",
    "import matplotlib.pyplot as plt\n",
    "\n",
    "from sklearn.preprocessing import StandardScaler, MinMaxScaler\n",
    "from sklearn.metrics import mean_squared_error, mean_absolute_error, r2_score\n",
    "    \n",
    "from geckoml.models import DenseNeuralNetwork, GRUNet\n",
    "from geckoml.metrics import *\n",
    "from geckoml.data import *\n",
    "#from geckoml.box import *\n",
    "\n",
    "from scipy.stats import pearsonr\n",
    "from scipy.optimize import linear_sum_assignment\n",
    "from scipy.spatial.distance import cdist\n",
    "\n",
    "import tqdm"
   ]
  },
  {
   "cell_type": "code",
   "execution_count": 2,
   "metadata": {},
   "outputs": [],
   "source": [
    "%matplotlib inline"
   ]
  },
  {
   "cell_type": "code",
   "execution_count": 3,
   "metadata": {},
   "outputs": [],
   "source": [
    "def EarthMoverDist2D(Y1, Y2): \n",
    "    # https://stackoverflow.com/questions/57562613/python-earth-mover-distance-of-2d-arrays\n",
    "    d = cdist(Y1, Y2)\n",
    "    assignment = linear_sum_assignment(d)\n",
    "    return d[assignment].sum() / Y1.shape[0]\n",
    "\n",
    "\n",
    "def metrics(truth, preds, stable_thresh = 1.0):\n",
    "        \n",
    "    for i, l in zip([1,2,3], [\"prec\", \"gas\", \"aero\"]):\n",
    "        t = truth.iloc[:, i]\n",
    "        p = preds.iloc[:, i]\n",
    "        \n",
    "        if i == 1:\n",
    "            t = 10**t\n",
    "            p = 10**p\n",
    "        \n",
    "        mae = mean_absolute_error(t,p)\n",
    "        r2 = r2_corr(t, p)\n",
    "        hd = hellinger_distance(t, p)\n",
    "        pearson = pearsonr(t,p)[0]\n",
    "\n",
    "        experiments = int(t.shape[0] / 1439)\n",
    "        t = t.to_numpy().reshape((experiments, 1439))\n",
    "        p = p.to_numpy().reshape((experiments, 1439))\n",
    "        emd = EarthMoverDist2D(t, p)\n",
    "        \n",
    "        print(f\"{l} -- \", f\"MAE: {mae:.5f} R2: {r2:.3f} Pearson {pearson:.3f} Hellinger: {hd:.5f} EMD: {emd:.3f}\") "
   ]
  },
  {
   "cell_type": "code",
   "execution_count": 33,
   "metadata": {},
   "outputs": [],
   "source": [
    "def plot(truth, preds, fontsize = 14, prec_lim = 0.085, gas_lim = 0.034, aero_lim = 0.0105):\n",
    "\n",
    "    plt.figure(figsize=(12,8))\n",
    "\n",
    "    for k, exp in enumerate([\"Exp1709\", \"Exp1632\", \"Exp1769\"]):\n",
    "        colors = [\"r\", \"g\", \"b\"]\n",
    "\n",
    "        #exp = \"Exp1769\"\n",
    "        c1 = (preds[\"id\"] == exp)\n",
    "        c2 = (truth[\"id\"] == exp)\n",
    "\n",
    "        #plt.title(f\"{exp}\")\n",
    "\n",
    "        plt.subplot(3, 3, k + 1)\n",
    "        plt.plot(preds[c1][\"Time [s]\"] / 3600, \n",
    "                 preds[c1][\"Precursor [ug/m3]\"], \n",
    "                 c = colors[k], \n",
    "                 linewidth = 3)\n",
    "        plt.plot(truth[c2][\"Time [s]\"] / 3600, \n",
    "                 truth[c2][\"Precursor [ug/m3]\"], \n",
    "                 ls = '--', \n",
    "                 c = 'k', \n",
    "                 linewidth = 3)\n",
    "        if k == 0:\n",
    "            plt.ylabel(\"Precursor\", fontsize=fontsize)\n",
    "\n",
    "        plt.legend([\"Pred\", \"True\"], fontsize=fontsize)\n",
    "        plt.ylim([0, prec_lim])\n",
    "        plt.xticks(fontsize=fontsize)\n",
    "        plt.yticks(fontsize=fontsize)\n",
    "        plt.title(exp, fontsize=fontsize)\n",
    "        \n",
    "    #     plt.tick_params(axis = \"both\", left='on', top='off', right='off', bottom='on', \n",
    "    #                     labelleft='off' if k > 0 else 'on', \n",
    "    #                     labeltop='off', \n",
    "    #                     labelright='off', \n",
    "    #                     labelbottom='off' if k != 2 else 'on',\n",
    "    #                     direction = \"in\")\n",
    "\n",
    "        plt.subplot(3, 3, k + 4)\n",
    "        plt.plot(preds[c1][\"Time [s]\"] / 3600, preds[c1][\"Gas [ug/m3]\"], c = colors[k], linewidth = 3)\n",
    "        plt.plot(truth[c2][\"Time [s]\"] / 3600, truth[c2][\"Gas [ug/m3]\"], ls = '--', c = 'k', linewidth = 3)\n",
    "        if k == 0:\n",
    "            plt.ylabel(\"Gas\", fontsize=fontsize)\n",
    "        #plt.legend([\"Pred\", \"True\"])\n",
    "        #plt.xlim([0, 1440])\n",
    "        plt.ylim([0, gas_lim])\n",
    "        plt.xticks(fontsize=fontsize)\n",
    "        plt.yticks(fontsize=fontsize)\n",
    "\n",
    "        plt.subplot(3, 3, k + 7)\n",
    "        plt.plot(preds[c1][\"Time [s]\"] / 3600, preds[c1][\"Aerosol [ug_m3]\"], c = colors[k], linewidth = 3)\n",
    "        plt.plot(truth[c2][\"Time [s]\"] / 3600, truth[c2][\"Aerosol [ug_m3]\"], ls = '--', c = 'k', linewidth = 3)\n",
    "        if k == 0:\n",
    "            plt.ylabel(\"Aerosol\", fontsize=fontsize)\n",
    "        plt.xlabel(\"Time (hr)\", fontsize=fontsize)\n",
    "        #plt.legend([\"Pred\", \"True\"])\n",
    "        plt.ylim([0, aero_lim])\n",
    "        #plt.xlim([0, 1440])\n",
    "        plt.xticks(fontsize=fontsize)\n",
    "        plt.yticks(fontsize=fontsize)\n",
    "\n",
    "    plt.tight_layout()\n",
    "    plt.show()"
   ]
  },
  {
   "cell_type": "code",
   "execution_count": 26,
   "metadata": {},
   "outputs": [],
   "source": [
    "def box_val(mod, exps, num_timesteps, in_array, env_array, y_scaler, output_cols, out_val, stable_thresh = 1.0):\n",
    "    \n",
    "    # use initial condition @ t = 0 and get the first prediction\n",
    "    pred_array = np.empty((len(exps), 1439, 3))\n",
    "    pred = mod.predict(in_array[:, 0, :])\n",
    "    pred_array[:, 0, :] = pred\n",
    "\n",
    "    # use the first prediction to get the next, and so on for num_timesteps\n",
    "    for i in tqdm.tqdm(range(1, num_timesteps)):\n",
    "        temperature = in_array[:, i, 3:4]\n",
    "        static_env = env_array[:, -5:]\n",
    "        new_input = np.block([pred, temperature, static_env])\n",
    "        #pred = mod(new_input, training=False)\n",
    "        pred = mod.predict(new_input)\n",
    "        pred_array[:, i, :] = pred\n",
    "\n",
    "    # loop over the batch to fill up results dict\n",
    "    results_dict = {}\n",
    "    for k, exp in enumerate(exps):\n",
    "        results_dict[exp] = pd.DataFrame(y_scaler.inverse_transform(pred_array[k]), columns=output_cols[1:-1])\n",
    "        results_dict[exp]['id'] = exp\n",
    "        results_dict[exp]['Time [s]'] = out_val['Time [s]'].unique()\n",
    "        results_dict[exp] = results_dict[exp].reindex(output_cols, axis=1)\n",
    "        \n",
    "    preds = pd.concat(results_dict.values())\n",
    "    truth = out_val.loc[out_val['id'].isin(exps)]\n",
    "    truth = truth.sort_values(['id', 'Time [s]']).reset_index(drop=True)\n",
    "    preds = preds.sort_values(['id', 'Time [s]']).reset_index(drop=True)\n",
    "    \n",
    "    # Check for instabilities\n",
    "    preds = preds.copy()\n",
    "    preds['Precursor [ug/m3]'] = 10**(preds['Precursor [ug/m3]'])\n",
    "    truth['Precursor [ug/m3]'] = 10**(truth['Precursor [ug/m3]'])\n",
    "    unstable = preds.groupby('id')['Precursor [ug/m3]'].apply(\n",
    "        lambda x: x[(x > stable_thresh) | (x < -stable_thresh)].any())\n",
    "    stable_exps = unstable[unstable == False].index\n",
    "    failed_exps = unstable[unstable == True].index\n",
    "    c1 = ~truth[\"id\"].isin(failed_exps)\n",
    "    c2 = ~preds[\"id\"].isin(failed_exps)\n",
    "    box_mae = mean_absolute_error(preds[c2].iloc[:, 2:-1], truth[c1].iloc[:, 2:-1])\n",
    "    \n",
    "    return box_mae, truth, preds, failed_exps"
   ]
  },
  {
   "cell_type": "code",
   "execution_count": 27,
   "metadata": {},
   "outputs": [],
   "source": [
    "def box_val_rnn(mod, exps, num_timesteps, in_array, env_array, y_scaler, output_cols, out_val, stable_thresh = 1.0):\n",
    "    with torch.no_grad():\n",
    "        # use initial condition @ t = 0 and get the first prediction\n",
    "        pred_array = np.empty((len(exps), 1439, 3))\n",
    "        h0 = mod.init_hidden(torch.from_numpy(in_array[:, 0, :]).float())\n",
    "        pred, h0 = mod.predict(in_array[:, 0, :], h0)\n",
    "        pred_array[:, 0, :] = pred\n",
    "\n",
    "        # use the first prediction to get the next, and so on for num_timesteps\n",
    "        for i in range(1, num_timesteps): \n",
    "            temperature = in_array[:, i, 3:4]\n",
    "            static_env = env_array[:, -5:]\n",
    "            new_input = np.block([pred, temperature, static_env])\n",
    "            pred, h0 = mod.predict(new_input, h0)\n",
    "            pred_array[:, i, :] = pred\n",
    "\n",
    "    # loop over the batch to fill up results dict\n",
    "    results_dict = {}\n",
    "    for k, exp in enumerate(exps):\n",
    "        results_dict[exp] = pd.DataFrame(y_scaler.inverse_transform(pred_array[k]), columns=output_cols[1:-1])\n",
    "        results_dict[exp]['id'] = exp\n",
    "        results_dict[exp]['Time [s]'] = out_val['Time [s]'].unique()\n",
    "        results_dict[exp] = results_dict[exp].reindex(output_cols, axis=1)\n",
    "\n",
    "    preds = pd.concat(results_dict.values())\n",
    "    truth = out_val.loc[out_val['id'].isin(exps)]\n",
    "    truth = truth.sort_values(['id', 'Time [s]']).reset_index(drop=True)\n",
    "    preds = preds.sort_values(['id', 'Time [s]']).reset_index(drop=True)\n",
    "    \n",
    "    # Check for instabilities\n",
    "    preds = preds.copy()\n",
    "    preds['Precursor [ug/m3]'] = 10**(preds['Precursor [ug/m3]'])\n",
    "    truth['Precursor [ug/m3]'] = 10**(truth['Precursor [ug/m3]'])\n",
    "    unstable = preds.groupby('id')['Precursor [ug/m3]'].apply(\n",
    "        lambda x: x[(x > stable_thresh) | (x < -stable_thresh)].any())\n",
    "    stable_exps = unstable[unstable == False].index\n",
    "    failed_exps = unstable[unstable == True].index\n",
    "    c1 = ~truth[\"id\"].isin(failed_exps)\n",
    "    c2 = ~preds[\"id\"].isin(failed_exps)\n",
    "    box_mae = mean_absolute_error(preds[c2].iloc[:, 2:-1], truth[c1].iloc[:, 2:-1])\n",
    "    \n",
    "    return box_mae, truth, preds, failed_exps"
   ]
  },
  {
   "cell_type": "markdown",
   "metadata": {},
   "source": [
    "### Load a species configuration (having the latest torch settings for the rnn model)"
   ]
  },
  {
   "cell_type": "code",
   "execution_count": 10,
   "metadata": {},
   "outputs": [],
   "source": [
    "with open(\"../config/toluene_agg.yml\") as config_file:\n",
    "    conf = yaml.load(config_file, Loader=yaml.FullLoader)"
   ]
  },
  {
   "cell_type": "markdown",
   "metadata": {},
   "source": [
    "### Specify the locations of the model weights"
   ]
  },
  {
   "cell_type": "code",
   "execution_count": 8,
   "metadata": {},
   "outputs": [],
   "source": [
    "# toluene\n",
    "tolu_keras_mlp = \"/glade/work/keelyl/geckonew/gecko-ml/toluene_agg_runs_unvaried/4_27_models/toluene_dnn_1_6/\"\n",
    "tolu_torch_rnn = \"/glade/work/schreck/repos/GECKO_OPT/gecko-ml/echo/toluene/6/best.pt\"\n",
    "\n",
    "# apin\n",
    "apin_keras_mlp = \"/glade/work/keelyl/geckonew/gecko-ml/apin_agg_runs/05_14_models/apin_O3_dnn_1_2/\"\n",
    "apin_torch_rnn = \"/glade/work/schreck/repos/GECKO_OPT/gecko-ml/echo/apin/7/best.pt\"\n",
    "\n",
    "# dodecane\n",
    "dode_keras_mlp = \"/glade/work/keelyl/geckonew/gecko-ml/dodecane_agg_runs/05_06_models/dodecane_dnn_1_6/\"\n",
    "dode_torch_rnn = \"/glade/work/schreck/repos/GECKO_OPT/gecko-ml/echo/dodecane/3/best.pt\""
   ]
  },
  {
   "cell_type": "markdown",
   "metadata": {},
   "source": [
    "### Load and prepare the training and validation data"
   ]
  },
  {
   "cell_type": "code",
   "execution_count": 13,
   "metadata": {},
   "outputs": [],
   "source": [
    "scalers = {\n",
    "        \"MinMaxScaler\": MinMaxScaler,\n",
    "        \"StandardScaler\": StandardScaler\n",
    "}\n",
    "\n",
    "species = conf['species']\n",
    "dir_path = conf['dir_path']\n",
    "summary_file = conf['summary_file']\n",
    "aggregate_bins = conf['aggregate_bins']\n",
    "bin_prefix = conf['bin_prefix']\n",
    "input_vars = conf['input_vars']\n",
    "output_vars = conf['output_vars']\n",
    "output_path = conf['output_path']\n",
    "scaler_type = conf['scaler_type']\n",
    "seq_length = conf['seq_length']\n",
    "#ensemble_members = conf[\"ensemble_members\"]\n",
    "seed = conf['random_seed']\n",
    "\n",
    "# Model settings\n",
    "rnn_conf = conf[\"model_configurations\"][\"single_ts_models\"][\"gru\"]\n",
    "\n",
    "epochs = rnn_conf[\"epochs\"]\n",
    "batch_size = rnn_conf[\"batch_size\"]\n",
    "learning_rate = rnn_conf[\"lr\"]\n",
    "weight_decay = rnn_conf[\"l2_weight\"]\n",
    "n_layers = rnn_conf[\"n_layers\"]\n",
    "hidden_dim = rnn_conf[\"hidden_size\"]\n",
    "rnn_dropout = rnn_conf[\"rnn_dropout\"]\n",
    "verbose = rnn_conf[\"verbose\"]\n",
    "lr_patience = 3\n",
    "stopping_patience = 10\n",
    "\n",
    "### Want to be able to reliably test L2 penalty = 0, but the \n",
    "### optuna loguniform prevents this -- so truncate below a certain value\n",
    "weight_decay = weight_decay if weight_decay > 1e-10 else 0.0\n",
    "\n",
    "# Load GECKO experiment data, split into ML inputs and outputs and persistence outputs\n",
    "input_data, output_data = combine_data(\n",
    "    dir_path, \n",
    "    summary_file, \n",
    "    aggregate_bins, \n",
    "    bin_prefix, \n",
    "    input_vars, \n",
    "    output_vars, \n",
    "    species\n",
    ")\n",
    "\n",
    "# Split into training, validation, testing subsets\n",
    "in_train, out_train, in_val, out_val, in_test, out_test = split_data(\n",
    "    input_data=input_data, \n",
    "    output_data=output_data, \n",
    "    train_start=conf['train_start_exp'],\n",
    "    train_end=conf['train_end_exp'],\n",
    "    val_start=conf['val_start_exp'],\n",
    "    val_end=conf['val_end_exp'],\n",
    "    test_start=conf['test_start_exp'],\n",
    "    test_end=conf['test_end_exp']\n",
    ")\n",
    "\n",
    "num_timesteps = in_train['Time [s]'].nunique()\n",
    "\n",
    "# Rescale training and validation / testing data\n",
    "if scaler_type == \"MinMaxScaler\":\n",
    "    x_scaler = scalers[scaler_type]((conf['min_scale_range'], conf['max_scale_range']))\n",
    "else:\n",
    "    x_scaler = scalers[scaler_type]()\n",
    "\n",
    "scaled_in_train = x_scaler.fit_transform(in_train.drop(['Time [s]', 'id'], axis=1))\n",
    "scaled_in_val = x_scaler.transform(in_val.drop(['Time [s]', 'id'], axis=1))\n",
    "\n",
    "y_scaler = get_output_scaler(x_scaler, output_vars, scaler_type, data_range=(\n",
    "    conf['min_scale_range'], conf['max_scale_range']))\n",
    "\n",
    "scaled_out_train = y_scaler.transform(out_train.drop(['Time [s]', 'id'], axis=1))\n",
    "scaled_out_val = y_scaler.transform(out_val.drop(['Time [s]', 'id'], axis=1))\n",
    "\n",
    "y = partition_y_output(scaled_out_train, 1, aggregate_bins)\n",
    "y_val = partition_y_output(scaled_out_val, 1, aggregate_bins)"
   ]
  },
  {
   "cell_type": "code",
   "execution_count": 14,
   "metadata": {},
   "outputs": [],
   "source": [
    "if species == \"toluene\":\n",
    "    keras_mlp = tolu_keras_mlp\n",
    "    torch_rnn = tolu_torch_rnn\n",
    "    prec_lim = 0.05\n",
    "    gas_lim = 0.0275\n",
    "    aero_lim = 0.008\n",
    "elif species == \"dodecane\":\n",
    "    keras_mlp = dode_keras_mlp\n",
    "    torch_rnn = dode_torch_rnn\n",
    "    prec_lim = 0.075\n",
    "    gas_lim = 0.1\n",
    "    aero_lim = 0.08\n",
    "else:\n",
    "    keras_mlp = apin_keras_mlp\n",
    "    torch_rnn = apin_torch_rnn\n",
    "    prec_lim = 0.075\n",
    "    gas_lim = 0.1\n",
    "    aero_lim = 0.07\n",
    "    \n",
    "fontsize = 14"
   ]
  },
  {
   "cell_type": "code",
   "execution_count": 15,
   "metadata": {},
   "outputs": [
    {
     "name": "stderr",
     "output_type": "stream",
     "text": [
      "100%|██████████| 1600/1600 [00:23<00:00, 68.29it/s]\n"
     ]
    }
   ],
   "source": [
    "# Batch the training experiments \n",
    "#logging.info(\"Batching the training data by experiment, this may take a few minutes\")\n",
    "def work(exp):\n",
    "    in_data = x_scaler.transform(in_train[in_train['id'] == exp].iloc[:, 1:-1])\n",
    "    env_conds = in_data[0, -6:]\n",
    "    return (np.expand_dims(in_data, axis=0), np.expand_dims(env_conds, axis=0))\n",
    "train_exps = list(in_train['id'].unique())\n",
    "with mp.Pool(processes=8) as p:\n",
    "    in_array, env_array = zip(*[result for result in tqdm.tqdm(p.imap(work, train_exps), total=len(train_exps))])\n",
    "#in_array, env_array = zip(*[work(x) for x in train_exps])\n",
    "in_array = np.concatenate(in_array) # (num_experiments, num_timesteps, outputs)\n",
    "env_array = np.concatenate(env_array)"
   ]
  },
  {
   "cell_type": "code",
   "execution_count": 16,
   "metadata": {},
   "outputs": [
    {
     "name": "stderr",
     "output_type": "stream",
     "text": [
      "100%|██████████| 200/200 [00:03<00:00, 65.03it/s]\n"
     ]
    }
   ],
   "source": [
    "#logging.info(\"Batching the validation data by experiment\")\n",
    "def work(exp):\n",
    "    in_data = x_scaler.transform(in_val[in_val['id'] == exp].iloc[:, 1:-1])\n",
    "    env_conds = in_data[0, -6:]\n",
    "    return (np.expand_dims(in_data, axis=0), np.expand_dims(env_conds, axis=0))\n",
    "val_exps = list(in_val['id'].unique())\n",
    "val_in_array, val_env_array = zip(*[work(x) for x in tqdm.tqdm(val_exps)])\n",
    "val_in_array = np.concatenate(val_in_array) # (num_experiments, num_timesteps, outputs)\n",
    "val_env_array = np.concatenate(val_env_array)"
   ]
  },
  {
   "cell_type": "markdown",
   "metadata": {},
   "source": [
    "### Linear regression model"
   ]
  },
  {
   "cell_type": "code",
   "execution_count": 17,
   "metadata": {},
   "outputs": [
    {
     "data": {
      "text/plain": [
       "LinearRegression(copy_X=True, fit_intercept=True, n_jobs=None, normalize=False)"
      ]
     },
     "execution_count": 17,
     "metadata": {},
     "output_type": "execute_result"
    }
   ],
   "source": [
    "from sklearn.linear_model import LinearRegression\n",
    "lin_model = LinearRegression()\n",
    "lin_model.fit(scaled_in_train, y[0])"
   ]
  },
  {
   "cell_type": "code",
   "execution_count": 28,
   "metadata": {},
   "outputs": [
    {
     "name": "stderr",
     "output_type": "stream",
     "text": [
      "100%|██████████| 1438/1438 [00:00<00:00, 13344.68it/s]\n"
     ]
    }
   ],
   "source": [
    "lin_mae, truth, preds, failed_exps = box_val(\n",
    "    lin_model, \n",
    "    val_exps, \n",
    "    num_timesteps, \n",
    "    val_in_array, \n",
    "    val_env_array, \n",
    "    y_scaler, \n",
    "    output_vars, \n",
    "    out_val\n",
    ")"
   ]
  },
  {
   "cell_type": "code",
   "execution_count": 29,
   "metadata": {},
   "outputs": [
    {
     "data": {
      "text/plain": [
       "0.0027381539144233405"
      ]
     },
     "execution_count": 29,
     "metadata": {},
     "output_type": "execute_result"
    }
   ],
   "source": [
    "lin_mae"
   ]
  },
  {
   "cell_type": "code",
   "execution_count": 30,
   "metadata": {},
   "outputs": [
    {
     "data": {
      "text/plain": [
       "Index([], dtype='object', name='id')"
      ]
     },
     "execution_count": 30,
     "metadata": {},
     "output_type": "execute_result"
    }
   ],
   "source": [
    "failed_exps"
   ]
  },
  {
   "cell_type": "code",
   "execution_count": 31,
   "metadata": {},
   "outputs": [
    {
     "name": "stdout",
     "output_type": "stream",
     "text": [
      "prec --  MAE: 0.00084 R2: 0.975 Pearson 0.988 Hellinger: 0.00015 EMD: 0.026\n",
      "gas --  MAE: 0.00354 R2: 0.428 Pearson 0.654 Hellinger: 0.03190 EMD: 0.123\n",
      "aero --  MAE: 0.00193 R2: 0.531 Pearson 0.728 Hellinger: 0.20457 EMD: 0.073\n"
     ]
    }
   ],
   "source": [
    "metrics(truth, preds)"
   ]
  },
  {
   "cell_type": "code",
   "execution_count": 34,
   "metadata": {},
   "outputs": [
    {
     "data": {
      "image/png": "[encoded data removed]",
      "text/plain": [
       "<Figure size 864x576 with 9 Axes>"
      ]
     },
     "metadata": {
      "needs_background": "light"
     },
     "output_type": "display_data"
    }
   ],
   "source": [
    "plot(truth, preds, fontsize, prec_lim, gas_lim, aero_lim)"
   ]
  },
  {
   "cell_type": "markdown",
   "metadata": {},
   "source": [
    "### Random forest model"
   ]
  },
  {
   "cell_type": "code",
   "execution_count": 35,
   "metadata": {},
   "outputs": [],
   "source": [
    "from sklearn.ensemble import RandomForestRegressor"
   ]
  },
  {
   "cell_type": "code",
   "execution_count": 36,
   "metadata": {},
   "outputs": [
    {
     "data": {
      "text/plain": [
       "RandomForestRegressor(bootstrap=True, ccp_alpha=0.0, criterion='mse',\n",
       "                      max_depth=None, max_features='auto', max_leaf_nodes=None,\n",
       "                      max_samples=None, min_impurity_decrease=0.0,\n",
       "                      min_impurity_split=None, min_samples_leaf=1,\n",
       "                      min_samples_split=2, min_weight_fraction_leaf=0.0,\n",
       "                      n_estimators=2, n_jobs=None, oob_score=False,\n",
       "                      random_state=None, verbose=0, warm_start=False)"
      ]
     },
     "execution_count": 36,
     "metadata": {},
     "output_type": "execute_result"
    }
   ],
   "source": [
    "n = 2\n",
    "n_samples = scaled_in_train.shape[0]\n",
    "rf_model = RandomForestRegressor(n_estimators=n)\n",
    "rf_model.fit(scaled_in_train[:n_samples], y[0][:n_samples])"
   ]
  },
  {
   "cell_type": "code",
   "execution_count": 38,
   "metadata": {},
   "outputs": [
    {
     "name": "stderr",
     "output_type": "stream",
     "text": [
      "100%|██████████| 1438/1438 [00:00<00:00, 2109.16it/s]\n"
     ]
    }
   ],
   "source": [
    "rf_mae, truth, preds, failed_exps = box_val(\n",
    "    rf_model, \n",
    "    val_exps, \n",
    "    num_timesteps, \n",
    "    val_in_array, \n",
    "    val_env_array, \n",
    "    y_scaler, \n",
    "    output_vars, \n",
    "    out_val\n",
    ")"
   ]
  },
  {
   "cell_type": "code",
   "execution_count": 39,
   "metadata": {},
   "outputs": [
    {
     "data": {
      "text/plain": [
       "0.005063674309253639"
      ]
     },
     "execution_count": 39,
     "metadata": {},
     "output_type": "execute_result"
    }
   ],
   "source": [
    "rf_mae"
   ]
  },
  {
   "cell_type": "code",
   "execution_count": 40,
   "metadata": {},
   "outputs": [
    {
     "data": {
      "text/plain": [
       "Index([], dtype='object', name='id')"
      ]
     },
     "execution_count": 40,
     "metadata": {},
     "output_type": "execute_result"
    }
   ],
   "source": [
    "failed_exps"
   ]
  },
  {
   "cell_type": "code",
   "execution_count": 43,
   "metadata": {},
   "outputs": [
    {
     "name": "stdout",
     "output_type": "stream",
     "text": [
      "prec --  MAE: 0.03525 R2: 0.351 Pearson 0.592 Hellinger: 0.50162 EMD: 1.405\n",
      "gas --  MAE: 0.00793 R2: 0.006 Pearson 0.074 Hellinger: 0.21563 EMD: 0.302\n",
      "aero --  MAE: 0.00219 R2: 0.148 Pearson 0.385 Hellinger: 0.13030 EMD: 0.081\n"
     ]
    }
   ],
   "source": [
    "metrics(truth, preds)"
   ]
  },
  {
   "cell_type": "code",
   "execution_count": 44,
   "metadata": {},
   "outputs": [
    {
     "data": {
      "image/png": "[encoded data removed]",
      "text/plain": [
       "<Figure size 864x576 with 9 Axes>"
      ]
     },
     "metadata": {
      "needs_background": "light"
     },
     "output_type": "display_data"
    }
   ],
   "source": [
    "plot(truth, preds, fontsize, prec_lim, gas_lim, aero_lim)"
   ]
  },
  {
   "cell_type": "markdown",
   "metadata": {},
   "source": [
    "### SVM "
   ]
  },
  {
   "cell_type": "code",
   "execution_count": 45,
   "metadata": {},
   "outputs": [],
   "source": [
    "from sklearn.multioutput import MultiOutputRegressor\n",
    "from sklearn import svm"
   ]
  },
  {
   "cell_type": "code",
   "execution_count": null,
   "metadata": {},
   "outputs": [],
   "source": [
    "svm_model = MultiOutputRegressor(svm.SVR())\n",
    "svm_model.fit(scaled_in_train, y[0])"
   ]
  },
  {
   "cell_type": "code",
   "execution_count": null,
   "metadata": {},
   "outputs": [],
   "source": [
    "svm_mae, truth, preds, failed_exps = box_val(\n",
    "    svm_model, \n",
    "    val_exps, \n",
    "    num_timesteps, \n",
    "    val_in_array, \n",
    "    val_env_array, \n",
    "    y_scaler, \n",
    "    output_vars, \n",
    "    out_val\n",
    ")"
   ]
  },
  {
   "cell_type": "code",
   "execution_count": null,
   "metadata": {},
   "outputs": [],
   "source": [
    "svm_mae"
   ]
  },
  {
   "cell_type": "code",
   "execution_count": null,
   "metadata": {},
   "outputs": [],
   "source": [
    "failed_exps"
   ]
  },
  {
   "cell_type": "code",
   "execution_count": null,
   "metadata": {},
   "outputs": [],
   "source": [
    "metrics(truth, preds)\n",
    "plot(truth, preds, fontsize, prec_lim, gas_lim, aero_lim)"
   ]
  },
  {
   "cell_type": "markdown",
   "metadata": {},
   "source": [
    "### KNN"
   ]
  },
  {
   "cell_type": "code",
   "execution_count": null,
   "metadata": {},
   "outputs": [],
   "source": [
    "from sklearn import neighbors"
   ]
  },
  {
   "cell_type": "code",
   "execution_count": null,
   "metadata": {},
   "outputs": [],
   "source": [
    "n_neighbors = 20\n",
    "knn_model = MultiOutputRegressor(neighbors.KNeighborsRegressor(n_neighbors, weights='uniform'))\n",
    "knn_model.fit(scaled_in_train, y[0])"
   ]
  },
  {
   "cell_type": "code",
   "execution_count": null,
   "metadata": {},
   "outputs": [],
   "source": [
    "knn_mae, truth, preds, failed_exps = box_val(\n",
    "    knn_model, \n",
    "    val_exps, \n",
    "    num_timesteps, \n",
    "    val_in_array, \n",
    "    val_env_array, \n",
    "    y_scaler, \n",
    "    output_vars, \n",
    "    out_val\n",
    ")"
   ]
  },
  {
   "cell_type": "code",
   "execution_count": null,
   "metadata": {},
   "outputs": [],
   "source": [
    "knn_mae"
   ]
  },
  {
   "cell_type": "code",
   "execution_count": null,
   "metadata": {},
   "outputs": [],
   "source": [
    "failed_exps"
   ]
  },
  {
   "cell_type": "code",
   "execution_count": null,
   "metadata": {},
   "outputs": [],
   "source": [
    "metrics(truth, preds)\n",
    "plot(truth, preds, fontsize, prec_lim, gas_lim, aero_lim)"
   ]
  },
  {
   "cell_type": "markdown",
   "metadata": {},
   "source": [
    "### Keras DNN"
   ]
  },
  {
   "cell_type": "code",
   "execution_count": null,
   "metadata": {},
   "outputs": [],
   "source": [
    "from tensorflow.keras.models import load_model"
   ]
  },
  {
   "cell_type": "code",
   "execution_count": null,
   "metadata": {},
   "outputs": [],
   "source": [
    "nn_model = tf.python.keras.models.load_model(\n",
    "    keras_mlp,\n",
    "    compile = False\n",
    ")"
   ]
  },
  {
   "cell_type": "code",
   "execution_count": null,
   "metadata": {},
   "outputs": [],
   "source": [
    "nn_model.compile(metrics = [\"mae\"], loss = [\"mae\"])"
   ]
  },
  {
   "cell_type": "code",
   "execution_count": null,
   "metadata": {},
   "outputs": [],
   "source": [
    "nn_mae, truth, preds, failed_exps = box_val(\n",
    "    nn_model, \n",
    "    val_exps, \n",
    "    num_timesteps, \n",
    "    val_in_array, \n",
    "    val_env_array, \n",
    "    y_scaler, \n",
    "    output_vars, \n",
    "    out_val\n",
    ")"
   ]
  },
  {
   "cell_type": "code",
   "execution_count": null,
   "metadata": {},
   "outputs": [],
   "source": [
    "nn_mae"
   ]
  },
  {
   "cell_type": "code",
   "execution_count": null,
   "metadata": {},
   "outputs": [],
   "source": [
    "failed_exps"
   ]
  },
  {
   "cell_type": "code",
   "execution_count": null,
   "metadata": {},
   "outputs": [],
   "source": [
    "metrics(truth, preds)"
   ]
  },
  {
   "cell_type": "code",
   "execution_count": null,
   "metadata": {},
   "outputs": [],
   "source": [
    "plot(truth, preds, fontsize, prec_lim, gas_lim, aero_lim)"
   ]
  },
  {
   "cell_type": "markdown",
   "metadata": {},
   "source": [
    "### Torch GRU"
   ]
  },
  {
   "cell_type": "code",
   "execution_count": null,
   "metadata": {},
   "outputs": [],
   "source": [
    "# Get the GPU\n",
    "is_cuda = torch.cuda.is_available()\n",
    "device = torch.device(torch.cuda.current_device()) if is_cuda else torch.device(\"cpu\")\n",
    "\n",
    "#if is_cuda:\n",
    "#    torch.backends.cudnn = False"
   ]
  },
  {
   "cell_type": "code",
   "execution_count": null,
   "metadata": {},
   "outputs": [],
   "source": [
    "input_size = val_in_array.shape[-1]\n",
    "output_size = input_size - val_env_array.shape[-1]\n",
    "\n",
    "rnn_conf = conf[\"model_configurations\"][\"single_ts_models\"][\"gru\"]\n",
    "n_layers = rnn_conf[\"n_layers\"]\n",
    "hidden_dim = rnn_conf[\"hidden_size\"]\n",
    "rnn_dropout = rnn_conf[\"rnn_dropout\"]\n",
    "\n",
    "model = GRUNet(hidden_dim, n_layers, rnn_dropout)\n",
    "model.build(input_size, output_size, torch_rnn)\n",
    "model = model.to(device)"
   ]
  },
  {
   "cell_type": "code",
   "execution_count": null,
   "metadata": {},
   "outputs": [],
   "source": [
    "rnn_mae, truth, preds, failed_exps = box_val_rnn(\n",
    "    model, \n",
    "    val_exps, \n",
    "    num_timesteps, \n",
    "    val_in_array, \n",
    "    val_env_array, \n",
    "    y_scaler,\n",
    "    output_vars, \n",
    "    out_val\n",
    ")"
   ]
  },
  {
   "cell_type": "code",
   "execution_count": null,
   "metadata": {},
   "outputs": [],
   "source": [
    "rnn_mae"
   ]
  },
  {
   "cell_type": "code",
   "execution_count": null,
   "metadata": {},
   "outputs": [],
   "source": [
    "failed_exps"
   ]
  },
  {
   "cell_type": "code",
   "execution_count": null,
   "metadata": {},
   "outputs": [],
   "source": [
    "metrics(truth, preds)"
   ]
  },
  {
   "cell_type": "code",
   "execution_count": null,
   "metadata": {},
   "outputs": [],
   "source": [
    "plot(truth, preds, fontsize, prec_lim, gas_lim, aero_lim)"
   ]
  },
  {
   "cell_type": "code",
   "execution_count": null,
   "metadata": {},
   "outputs": [],
   "source": [
    "# dodecane prec_lim = 0.075, gas_lim = 0.1, aero_lim = 0.08\n",
    "# apin prec_lim = 0.075, gas_lim = 0.1, aero_lim = 0.07\n",
    "# toluene prec_lim = 0.05, gas_lim = 0.0275, aero_lim = 0.008"
   ]
  },
  {
   "cell_type": "code",
   "execution_count": null,
   "metadata": {},
   "outputs": [],
   "source": []
  }
 ],
 "metadata": {
  "kernelspec": {
   "display_name": "py37",
   "language": "python",
   "name": "py37"
  },
  "language_info": {
   "codemirror_mode": {
    "name": "ipython",
    "version": 3
   },
   "file_extension": ".py",
   "mimetype": "text/x-python",
   "name": "python",
   "nbconvert_exporter": "python",
   "pygments_lexer": "ipython3",
   "version": "3.7.5"
  }
 },
 "nbformat": 4,
 "nbformat_minor": 4
}
