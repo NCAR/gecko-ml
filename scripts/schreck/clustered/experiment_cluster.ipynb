{
 "cells": [
  {
   "cell_type": "code",
   "execution_count": 1,
   "metadata": {},
   "outputs": [],
   "source": [
    "import warnings\n",
    "warnings.filterwarnings(\"ignore\")\n",
    "\n",
    "import pandas as pd\n",
    "import numpy as np\n",
    "import glob\n",
    "import time\n",
    "import sys\n",
    "import os\n",
    "\n",
    "from holodecml.vae.tqdm import tqdm\n",
    "from typing import List\n",
    "\n",
    "import matplotlib.pyplot as plt\n",
    "from multiprocessing import Pool\n",
    "\n",
    "from sklearn.model_selection import train_test_split as _train_test_split"
   ]
  },
  {
   "cell_type": "code",
   "execution_count": 2,
   "metadata": {},
   "outputs": [],
   "source": [
    "class ThresholdGecko:\n",
    "    \n",
    "    def __init__(self, path = \"experiment_data\", n_experiments = 2000):\n",
    "        self.path = path \n",
    "        self.n = n_experiments\n",
    "        self.load_dist_matrix()\n",
    "    \n",
    "    def load_dist_matrix(self):\n",
    "        files = glob.glob(os.path.join(self.path, \"*.txt\"))\n",
    "        self.dist_matrix = np.zeros((self.n, self.n))\n",
    "        for file in files:\n",
    "            for row in np.loadtxt(file):\n",
    "                id1, id2, distance = row\n",
    "                id1 = int(id1)\n",
    "                id2 = int(id2)\n",
    "                self.dist_matrix[id1][id2] = distance\n",
    "                self.dist_matrix[id2][id1] = distance\n",
    "        self.dist_matrix /= self.dist_matrix.max()\n",
    "                \n",
    "    def search(self, threshold):\n",
    "        results = {}\n",
    "        for label in range(self.n):\n",
    "            # Find experiments at or below the threshold\n",
    "            members = np.where(self.dist_matrix[label] <= threshold)[0]\n",
    "            results[label] = [x for x in members if x != label]\n",
    "        results = sorted([\n",
    "            [len(x), i, x] for (i, x) in results.items()\n",
    "        ])\n",
    "        return results #sorted(results, reverse=True)\n",
    "    \n",
    "    def Cluster(self, threshold):\n",
    "        # Use Leader clustering\n",
    "        true_singletons = []\n",
    "        false_singletons = []\n",
    "        clusters = []\n",
    "\n",
    "        seen = set()\n",
    "        for (size, experiment, members) in self.search(threshold):\n",
    "            if experiment in seen:\n",
    "                # Can't use a centroid which is already assigned\n",
    "                continue\n",
    "            seen.add(experiment)\n",
    "            # Figure out which ones haven't yet been assigned\n",
    "            unassigned = set(members) - seen\n",
    "            if not unassigned:\n",
    "                false_singletons.append(experiment)\n",
    "                continue\n",
    "            # this is a new cluster\n",
    "            clusters.append((experiment, unassigned))\n",
    "            seen.update(unassigned)\n",
    "            \n",
    "        return sorted(clusters, key = lambda x: -len(x[1]))"
   ]
  },
  {
   "cell_type": "code",
   "execution_count": 3,
   "metadata": {},
   "outputs": [],
   "source": [
    "t = ThresholdGecko()"
   ]
  },
  {
   "cell_type": "code",
   "execution_count": 4,
   "metadata": {},
   "outputs": [
    {
     "name": "stderr",
     "output_type": "stream",
     "text": [
      "100%|██████████| 100/100 [00:23<00:00,  4.17it/s]\n"
     ]
    }
   ],
   "source": [
    "thresholds = np.linspace(0, 1.0, 100, endpoint=True)\n",
    "\n",
    "def n_larger_than(results, value):\n",
    "    return len(results), sum([len(x[1]) >= value for x in results])\n",
    "\n",
    "with Pool(8) as p:\n",
    "    y = [\n",
    "        n_larger_than(results, 3) for results in tqdm(p.imap(t.Cluster, thresholds),\n",
    "                                         total = len(thresholds))\n",
    "    ]\n",
    "    \n",
    "y1 = [yy[0] for yy in y]\n",
    "y2 = [yy[1] for yy in y]"
   ]
  },
  {
   "cell_type": "code",
   "execution_count": 5,
   "metadata": {},
   "outputs": [
    {
     "data": {
      "text/plain": [
       "<matplotlib.legend.Legend at 0x2b68c3733610>"
      ]
     },
     "execution_count": 5,
     "metadata": {},
     "output_type": "execute_result"
    },
    {
     "data": {
      "image/png": "[encoded data removed]",
      "text/plain": [
       "<Figure size 432x288 with 1 Axes>"
      ]
     },
     "metadata": {
      "needs_background": "light"
     },
     "output_type": "display_data"
    }
   ],
   "source": [
    "plt.plot(thresholds, y1)\n",
    "plt.plot(thresholds, y2)\n",
    "plt.xlabel(\"Threshold\")\n",
    "plt.ylabel(\"Number of clusters\")\n",
    "\n",
    "plt.legend([\"Cluster size >= 1\", \"Cluster size >= 3\"], loc = \"best\")"
   ]
  },
  {
   "cell_type": "markdown",
   "metadata": {},
   "source": [
    "### Create stratified splits using the cluster-label"
   ]
  },
  {
   "cell_type": "code",
   "execution_count": 6,
   "metadata": {},
   "outputs": [
    {
     "name": "stdout",
     "output_type": "stream",
     "text": [
      "252 0.10101010101010102\n"
     ]
    }
   ],
   "source": [
    "n_labels = max(y2)\n",
    "threshold = thresholds[y2.index(n_labels)]\n",
    "\n",
    "print(n_labels, threshold)"
   ]
  },
  {
   "cell_type": "code",
   "execution_count": 7,
   "metadata": {},
   "outputs": [],
   "source": [
    "# This number does not take into account experiments that did not get clustered\n",
    "# Cannot pick n labels if n > 400 (80/20 split on 2000 experiments)\n",
    "threshold = 0.22\n",
    "\n",
    "clusters = t.Cluster(threshold)"
   ]
  },
  {
   "cell_type": "code",
   "execution_count": 8,
   "metadata": {},
   "outputs": [],
   "source": [
    "clusters = sorted(clusters, key = lambda x: -len(x[1]))"
   ]
  },
  {
   "cell_type": "code",
   "execution_count": 9,
   "metadata": {},
   "outputs": [],
   "source": [
    "_x, _y = zip(*[[k+1, len(yy)] for k, (xx, yy) in enumerate(clusters)])"
   ]
  },
  {
   "cell_type": "code",
   "execution_count": 10,
   "metadata": {},
   "outputs": [
    {
     "data": {
      "text/plain": [
       "Text(0, 0.5, 'Count')"
      ]
     },
     "execution_count": 10,
     "metadata": {},
     "output_type": "execute_result"
    },
    {
     "data": {
      "image/png": "[encoded data removed]",
      "text/plain": [
       "<Figure size 432x288 with 1 Axes>"
      ]
     },
     "metadata": {
      "needs_background": "light"
     },
     "output_type": "display_data"
    }
   ],
   "source": [
    "plt.plot(list(_x), list(_y))\n",
    "plt.xlabel(\"Cluster number\")\n",
    "plt.ylabel(\"Count\")"
   ]
  },
  {
   "cell_type": "code",
   "execution_count": 11,
   "metadata": {},
   "outputs": [],
   "source": [
    "mydict = {\n",
    "    \"experiment\": [],\n",
    "    \"centroid\": []\n",
    "}\n",
    "\n",
    "centroids_with_cluster = set()\n",
    "for x in sorted(clusters, reverse = True):\n",
    "    mydict[\"centroid\"].append(x[0])\n",
    "    mydict[\"experiment\"].append(x[0])    \n",
    "    centroids_with_cluster.add(x[0])\n",
    "    for x2 in x[1]:\n",
    "        mydict[\"centroid\"].append(x[0])\n",
    "        mydict[\"experiment\"].append(x2)\n",
    "        centroids_with_cluster.add(x2)\n",
    "        \n",
    "not_clustered = list(set(range(2000)) - centroids_with_cluster)\n",
    "for experiment in not_clustered:\n",
    "    mydict[\"centroid\"].append(experiment)\n",
    "    mydict[\"experiment\"].append(experiment)\n",
    "        \n",
    "df = pd.DataFrame.from_dict(mydict).drop_duplicates()\n",
    "df = df.sort_values(\"experiment\").reset_index(drop = True)"
   ]
  },
  {
   "cell_type": "code",
   "execution_count": 12,
   "metadata": {},
   "outputs": [
    {
     "name": "stdout",
     "output_type": "stream",
     "text": [
      "(2000, 2)\n",
      "Total clusters: 46\n",
      "343     103\n",
      "1489     95\n",
      "204      90\n",
      "1865     87\n",
      "940      80\n",
      "422      77\n",
      "819      74\n",
      "1542     73\n",
      "898      69\n",
      "939      66\n",
      "134      63\n",
      "1300     63\n",
      "225      59\n",
      "99       59\n",
      "332      52\n",
      "1157     52\n",
      "1671     50\n",
      "1307     48\n",
      "1150     47\n",
      "564      46\n",
      "319      44\n",
      "667      43\n",
      "1353     42\n",
      "672      41\n",
      "604      41\n",
      "242      41\n",
      "1737     37\n",
      "60       37\n",
      "653      34\n",
      "1547     34\n",
      "307      30\n",
      "181      26\n",
      "570      25\n",
      "1255     25\n",
      "827      24\n",
      "1956     23\n",
      "167      17\n",
      "675      16\n",
      "1997     14\n",
      "420      14\n",
      "697      14\n",
      "1389     11\n",
      "989       5\n",
      "1805      4\n",
      "1391      3\n",
      "155       2\n",
      "Name: centroid, dtype: int64\n"
     ]
    }
   ],
   "source": [
    "print(df.shape)\n",
    "print(\"Total clusters:\", df[\"centroid\"].nunique())\n",
    "print(df['centroid'].value_counts())"
   ]
  },
  {
   "cell_type": "code",
   "execution_count": 13,
   "metadata": {},
   "outputs": [
    {
     "data": {
      "text/html": [
       "<div>\n",
       "<style scoped>\n",
       "    .dataframe tbody tr th:only-of-type {\n",
       "        vertical-align: middle;\n",
       "    }\n",
       "\n",
       "    .dataframe tbody tr th {\n",
       "        vertical-align: top;\n",
       "    }\n",
       "\n",
       "    .dataframe thead th {\n",
       "        text-align: right;\n",
       "    }\n",
       "</style>\n",
       "<table border=\"1\" class=\"dataframe\">\n",
       "  <thead>\n",
       "    <tr style=\"text-align: right;\">\n",
       "      <th></th>\n",
       "      <th>experiment</th>\n",
       "      <th>centroid</th>\n",
       "    </tr>\n",
       "  </thead>\n",
       "  <tbody>\n",
       "    <tr>\n",
       "      <th>0</th>\n",
       "      <td>0</td>\n",
       "      <td>1489</td>\n",
       "    </tr>\n",
       "    <tr>\n",
       "      <th>1</th>\n",
       "      <td>1</td>\n",
       "      <td>675</td>\n",
       "    </tr>\n",
       "    <tr>\n",
       "      <th>2</th>\n",
       "      <td>2</td>\n",
       "      <td>1542</td>\n",
       "    </tr>\n",
       "    <tr>\n",
       "      <th>3</th>\n",
       "      <td>3</td>\n",
       "      <td>939</td>\n",
       "    </tr>\n",
       "    <tr>\n",
       "      <th>4</th>\n",
       "      <td>4</td>\n",
       "      <td>940</td>\n",
       "    </tr>\n",
       "  </tbody>\n",
       "</table>\n",
       "</div>"
      ],
      "text/plain": [
       "   experiment  centroid\n",
       "0           0      1489\n",
       "1           1       675\n",
       "2           2      1542\n",
       "3           3       939\n",
       "4           4       940"
      ]
     },
     "execution_count": 13,
     "metadata": {},
     "output_type": "execute_result"
    }
   ],
   "source": [
    "df.head()"
   ]
  },
  {
   "cell_type": "code",
   "execution_count": 351,
   "metadata": {},
   "outputs": [],
   "source": [
    "def stratified_split(df: pd.DataFrame,\n",
    "                     frac: float,\n",
    "                     column: List[str]) -> (pd.DataFrame, pd.DataFrame):\n",
    "    \n",
    "    label_count = df[column].value_counts().to_dict()\n",
    "    labels_we_can_use = df[column].apply(lambda x: label_count[x] > 1)\n",
    "    items_with_count_one = df[~labels_we_can_use].copy()\n",
    "    items_needing_split = df[labels_we_can_use].copy()\n",
    "    \n",
    "    train, test = _train_test_split(\n",
    "        items_needing_split,\n",
    "        test_size=frac,\n",
    "        stratify=items_needing_split[column]\n",
    "    )\n",
    "    train = pd.concat([train, items_with_count_one], axis = 0, sort = True).reset_index(drop = True)\n",
    "    return train, test"
   ]
  },
  {
   "cell_type": "code",
   "execution_count": 352,
   "metadata": {},
   "outputs": [],
   "source": [
    "def train_test_val_split(df: pd.DataFrame,\n",
    "                         fraction: float = 0.2) -> (pd.DataFrame, pd.DataFrame, pd.DataFrame):\n",
    "    \n",
    "    fraction = min(1.0, fraction)\n",
    "    train, _test = stratified_split(df, fraction, \"centroid\") \n",
    "    test, val = stratified_split(_test, 0.5, \"centroid\") \n",
    "    \n",
    "    return train, test, val"
   ]
  },
  {
   "cell_type": "code",
   "execution_count": 353,
   "metadata": {},
   "outputs": [],
   "source": [
    "train, test, val = train_test_val_split(df, 0.2)"
   ]
  },
  {
   "cell_type": "code",
   "execution_count": 360,
   "metadata": {},
   "outputs": [
    {
     "data": {
      "text/plain": [
       "(1600, 2)"
      ]
     },
     "execution_count": 360,
     "metadata": {},
     "output_type": "execute_result"
    }
   ],
   "source": [
    "train.shape"
   ]
  },
  {
   "cell_type": "code",
   "execution_count": 361,
   "metadata": {},
   "outputs": [
    {
     "data": {
      "text/plain": [
       "(201, 2)"
      ]
     },
     "execution_count": 361,
     "metadata": {},
     "output_type": "execute_result"
    }
   ],
   "source": [
    "test.shape"
   ]
  },
  {
   "cell_type": "code",
   "execution_count": 362,
   "metadata": {},
   "outputs": [
    {
     "data": {
      "text/plain": [
       "(199, 2)"
      ]
     },
     "execution_count": 362,
     "metadata": {},
     "output_type": "execute_result"
    }
   ],
   "source": [
    "val.shape"
   ]
  },
  {
   "cell_type": "code",
   "execution_count": 366,
   "metadata": {},
   "outputs": [],
   "source": [
    "with open(\"train_test_val_splits.pkl\", \"wb\") as fid:\n",
    "    pickle.dump([\n",
    "        list(train[\"experiment\"]), list(test[\"experiment\"]), list(val[\"experiment\"])\n",
    "    ], fid)"
   ]
  },
  {
   "cell_type": "code",
   "execution_count": 373,
   "metadata": {},
   "outputs": [],
   "source": [
    "weights = df[\"centroid\"].value_counts().to_dict()"
   ]
  },
  {
   "cell_type": "code",
   "execution_count": 375,
   "metadata": {},
   "outputs": [],
   "source": [
    "df['weight'] = df['centroid'].map(weights)"
   ]
  },
  {
   "cell_type": "code",
   "execution_count": 377,
   "metadata": {},
   "outputs": [],
   "source": [
    "df['weight'] = df['weight'].min() / df['weight']"
   ]
  },
  {
   "cell_type": "code",
   "execution_count": 382,
   "metadata": {},
   "outputs": [],
   "source": [
    "df.to_csv(\"experiment_labels.csv\")"
   ]
  },
  {
   "cell_type": "code",
   "execution_count": null,
   "metadata": {},
   "outputs": [],
   "source": []
  }
 ],
 "metadata": {
  "kernelspec": {
   "display_name": "py37",
   "language": "python",
   "name": "py37"
  },
  "language_info": {
   "codemirror_mode": {
    "name": "ipython",
    "version": 3
   },
   "file_extension": ".py",
   "mimetype": "text/x-python",
   "name": "python",
   "nbconvert_exporter": "python",
   "pygments_lexer": "ipython3",
   "version": "3.7.5"
  }
 },
 "nbformat": 4,
 "nbformat_minor": 4
}
