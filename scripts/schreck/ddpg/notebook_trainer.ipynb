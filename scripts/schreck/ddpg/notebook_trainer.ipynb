{
 "cells": [
  {
   "cell_type": "code",
   "execution_count": 1,
   "metadata": {},
   "outputs": [],
   "source": [
    "import warnings\n",
    "warnings.filterwarnings(\"ignore\")\n",
    "\n",
    "from sklearn.preprocessing import StandardScaler, RobustScaler, MaxAbsScaler, MinMaxScaler, QuantileTransformer\n",
    "from sklearn.model_selection import GroupShuffleSplit, train_test_split\n",
    "from sklearn.pipeline import Pipeline\n",
    "from os.path import join, exists\n",
    "from tqdm import tqdm\n",
    "\n",
    "import pandas as pd\n",
    "import numpy as np\n",
    "import random\n",
    "import pickle\n",
    "import glob\n",
    "import json\n",
    "import yaml\n",
    "import time\n",
    "import re\n",
    "import os\n",
    "\n",
    "from multiprocessing import Pool, cpu_count\n",
    "\n",
    "from holodecml.vae.checkpointer import *\n",
    "from holodecml.vae.optimizers import *\n",
    "from holodecml.vae.tqdm import tqdm\n",
    "\n",
    "from torch.utils.data import Dataset, DataLoader\n",
    "from torch.optim.lr_scheduler import *\n",
    "import torch.nn.functional as F\n",
    "from torch import nn\n",
    "import torch\n",
    "\n",
    "import matplotlib.pyplot as plt"
   ]
  },
  {
   "cell_type": "code",
   "execution_count": 2,
   "metadata": {},
   "outputs": [
    {
     "name": "stdout",
     "output_type": "stream",
     "text": [
      "Preparing to use device cuda:0\n"
     ]
    }
   ],
   "source": [
    "is_cuda = torch.cuda.is_available()\n",
    "device = torch.device(torch.cuda.current_device()) if is_cuda else torch.device(\"cpu\")\n",
    "\n",
    "if is_cuda:\n",
    "    torch.backends.cudnn.benchmark = True\n",
    "\n",
    "print(f'Preparing to use device {device}')"
   ]
  },
  {
   "cell_type": "markdown",
   "metadata": {},
   "source": [
    "### Load the configuration"
   ]
  },
  {
   "cell_type": "code",
   "execution_count": 3,
   "metadata": {},
   "outputs": [],
   "source": [
    "with open(\"results/window_noisy/config.yml\") as config_file:\n",
    "    config = yaml.load(config_file, Loader=yaml.FullLoader)"
   ]
  },
  {
   "cell_type": "code",
   "execution_count": 4,
   "metadata": {},
   "outputs": [],
   "source": [
    "class LoadGeckoData:\n",
    "    \n",
    "    def __init__(self, \n",
    "                 data_path,\n",
    "                 save_path,\n",
    "                 summary_file,  \n",
    "                 bin_prefix = [], \n",
    "                 input_vars = [],\n",
    "                 output_vars = [],\n",
    "                 seq_length = 1, \n",
    "                 num_timesteps = 1439,\n",
    "                 experiment_subset = [],\n",
    "                 cached_dir = \"./\",\n",
    "                 shuffle = True,\n",
    "                 scaler_x = None,\n",
    "                 scaler_y = None, \n",
    "                 fit = False, \n",
    "                 *args, **kwargs):\n",
    "        \n",
    "        self.path = data_path\n",
    "        self.save_path = save_path\n",
    "        self.summary_file = summary_file\n",
    "        self.experiment_subset = experiment_subset\n",
    "        self.cached_dir = cached_dir\n",
    "        self.bin_prefix = bin_prefix\n",
    "        self.input_vars = input_vars\n",
    "        self.output_vars = output_vars\n",
    "        self.seq_length = 1\n",
    "        self.num_timesteps = num_timesteps\n",
    "        \n",
    "        self.shuffle = shuffle\n",
    "        self.scaler_x = scaler_x\n",
    "        self.scaler_y = scaler_y\n",
    "        self.fit = fit\n",
    "        \n",
    "        self.load()\n",
    "        self.on_epoch_end()\n",
    "        \n",
    "        self.reshape = True\n",
    "        if any([self.scaler_x is None, self.scaler_y is None]) or self.fit:\n",
    "            self.fit_scalers()\n",
    "            \n",
    "    def load(self):\n",
    "        file_list = glob.glob(os.path.join(self.path, 'ML2019_*'))\n",
    "        self.file_list = sorted(file_list, key = lambda x: int(x.split(\"Exp\")[1].strip(\".csv\")))\n",
    "        self.summary_file = pd.read_csv(\n",
    "            os.path.join(self.path, self.summary_file), skiprows = 3\n",
    "        )\n",
    "        self.summary_file.columns = [x.strip() for x in self.summary_file.columns]\n",
    "    \n",
    "    def get_transform(self):\n",
    "        return self.scaler_x, self.scaler_y\n",
    "\n",
    "    def __len__(self):\n",
    "        'Denotes the number of batches per epoch'\n",
    "        return len(self.experiment_subset)\n",
    "    \n",
    "    def __getitem__(self, idx):\n",
    "        'Generate one data point'\n",
    "        \n",
    "        ### Find the relevant experiment file \n",
    "        exp = self.experiment_subset[idx]\n",
    "        \n",
    "        ### If we have this experiment already cached, load it\n",
    "        cached = f\"{self.cached_dir}/{exp}.pkl\"\n",
    "        if os.path.isfile(cached) and self.scaler_x is not None:\n",
    "            with open(cached, \"rb\") as fid:\n",
    "                return pickle.load(fid)\n",
    "        \n",
    "        ### Else we have to create it for the first time.\n",
    "        for file_path in self.file_list:\n",
    "            if f\"Exp{exp}\" in file_path:\n",
    "                break\n",
    "\n",
    "        ### Load the experiment file\n",
    "        df = pd.read_csv(file_path)\n",
    "        df.columns = [x.strip() for x in df.columns]\n",
    "\n",
    "        ### Load the summary file\n",
    "        exp_num = int(re.findall(\"_Exp(\\d+)*\", file_path)[0])\n",
    "        summary_file = self.summary_file[(\n",
    "            self.summary_file['id'] == f\"Exp{exp_num}\"\n",
    "        )].copy()\n",
    "\n",
    "        for variable in summary_file.columns:\n",
    "            df[variable] = summary_file[variable][exp_num]\n",
    "\n",
    "        if len(self.bin_prefix) > 0: \n",
    "            for prefix in self.bin_prefix:\n",
    "                df[prefix] = df.loc[:, df.columns.str.contains(prefix, regex=False)].sum(axis=1)\n",
    "\n",
    "        df = self.add_diurnal_signal(df)\n",
    "                \n",
    "        input_subset = df[self.input_vars].iloc[:-1,:].copy()\n",
    "        output_subset = df[self.output_vars].iloc[1:,:].copy()\n",
    "\n",
    "        if \"index\" in input_subset.columns:\n",
    "            input_subset = input_subset.drop(columns = [\"index\"])\n",
    "        if \"index\" in output_subset.columns:\n",
    "            output_subset = output_subset.drop(columns = [\"index\"])\n",
    "\n",
    "        #input_subset = self.add_diurnal_signal(input_subset)\n",
    "        #output_subset = self.add_diurnal_signal(output_subset)\n",
    "\n",
    "        self.processed += 1\n",
    "        if self.processed == self.__len__():\n",
    "            self.on_epoch_end()\n",
    "\n",
    "        if self.scaler_x is not None:\n",
    "            input_subset = self.scaler_x.transform(\n",
    "                input_subset.drop(['Time [s]', 'id'], axis=1)\n",
    "            )\n",
    "        if self.scaler_y is not None:\n",
    "            output_subset = self.scaler_y.transform(\n",
    "                output_subset.drop(['Time [s]', 'id'], axis=1)\n",
    "            )\n",
    "        if self.reshape:\n",
    "            input_subset, output_subset = self.reshape_data(input_subset, output_subset)\n",
    "            \n",
    "            with open(cached, \"wb\") as fid:\n",
    "                pickle.dump([input_subset, output_subset], fid)\n",
    "\n",
    "        return input_subset, output_subset\n",
    "    \n",
    "    def on_epoch_end(self):\n",
    "        'Updates indexes after each epoch'\n",
    "        self.processed = 0\n",
    "        if self.shuffle == True:\n",
    "            random.shuffle(self.file_list)\n",
    "            \n",
    "    def add_diurnal_signal(self, x_data):\n",
    "        \"\"\"\n",
    "        Apply Function to static temperature to add +- 4 [K] diurnal signal (dependent of time [s] of timeseries).\n",
    "        Args:\n",
    "            x_data: Pre-scaled/normalized input data (Pandas DF).\n",
    "\n",
    "        Returns: Same df with function applied to temperature feature.\n",
    "        \"\"\"\n",
    "        x_data['temperature (K)'] = x_data['temperature (K)'] + 4.0 * np.sin(\n",
    "            (x_data['Time [s]'] * 7.2722e-5 + (np.pi / 2.0 - 7.2722e-5 * 64800.0)))\n",
    "\n",
    "        return x_data\n",
    "    \n",
    "    def get_tendencies(self, df):\n",
    "        \"\"\"\n",
    "         Transform dataframe to time tendencies rather than actual values. Preserves static environmental values.\n",
    "        Args:\n",
    "            df: Pre-scaled input dataframe.\n",
    "            input_cols: Input columns to be transformed (should include 'id' and 'Time' for indexing).\n",
    "        Returns: Pandas dataframe with input columns transformed to tendencies (Removes the first sample of each Exp).\n",
    "        \"\"\"\n",
    "        df_copy = df.copy()\n",
    "        dummy_df = df[self.output_vars].drop(['Time [s]'], axis=1).groupby('id').diff().reset_index(drop=True)\n",
    "        df_copy[self.output_vars[1:-1]] = dummy_df.values\n",
    "        df_copy.loc[:, ~df_copy.columns.isin(self.output_vars)] = df.loc[:, ~df.columns.isin(self.output_vars)]\n",
    "        dff = df_copy.groupby('id').apply(lambda x: x.iloc[1:, :]).reset_index(drop=True)\n",
    "        return dff\n",
    "    \n",
    "    def fit_scalers(self):\n",
    "\n",
    "        filepath = os.path.join(self.save_path, \"scalers.pkl\")\n",
    "        \n",
    "        if os.path.isfile(filepath) and not self.fit:\n",
    "            #logging.info(f\"Loading data preprocessing models from {filepath}\")\n",
    "            with open(filepath, \"rb\") as fid:\n",
    "                self.num_timesteps, self.scaler_x, self.scaler_y = pickle.load(fid)\n",
    "            \n",
    "        else:\n",
    "            #logging.info(\"Fitting data preprocessing models: QuantileTransformer\")\n",
    "            self.reshape = False                    \n",
    "            with Pool(24) as p:\n",
    "                xs, ys = zip(*[(x,y) for (x,y) in tqdm(\n",
    "                    p.imap(self.__getitem__, range(len(self.experiment_subset))),\n",
    "                    total = len(self.experiment_subset))\n",
    "                ])\n",
    "            p.join()\n",
    "            p.close()                    \n",
    "                    \n",
    "            xs = pd.concat(xs)\n",
    "            ys = pd.concat(ys)\n",
    "            self.reshape = True\n",
    "            \n",
    "            self.num_timesteps = xs['Time [s]'].nunique()\n",
    "\n",
    "            self.scaler_x = Pipeline(\n",
    "                steps=[('quant', QuantileTransformer()), ('minmax', MinMaxScaler((0, 1)))]\n",
    "            )\n",
    "            self.scaler_y = Pipeline(\n",
    "                steps=[('quant', QuantileTransformer()), ('minmax', MinMaxScaler((0, 1)))]\n",
    "            )\n",
    "            \n",
    "            scaled_in_train = self.scaler_x.fit_transform(\n",
    "                xs.drop(['Time [s]', 'id'], axis=1)\n",
    "            )\n",
    "            scaled_out_train = self.scaler_y.fit_transform(\n",
    "                ys.drop(['Time [s]', 'id'], axis=1)\n",
    "            )\n",
    "\n",
    "            with open(filepath, \"wb\") as fid:\n",
    "                pickle.dump([self.num_timesteps, self.scaler_x, self.scaler_y], fid)\n",
    "            #logging.info(\"Saved data preprocessing models to {filepath}\")\n",
    "            \n",
    "    def reshape_data(self, x_data, y_data):\n",
    "        \"\"\"\n",
    "        Reshape matrix data into sample shape for LSTM training.\n",
    "\n",
    "        Args:\n",
    "            x_data: DataFrame containing input features (columns) and time steps (rows).\n",
    "            y_data: Matrix containing output features (columns) and time steps (rows).\n",
    "            seq_length: Length of look back time steps for one time step of prediction.\n",
    "            num_timesteps: Number of time_steps per experiment.\n",
    "\n",
    "        Returns: Two np.ndarrays, the first of shape (samples, length of sequence,\n",
    "            number of features), containing the input data for the LSTM. The second\n",
    "            of shape (samples, number of output features) containing the expected output for each input\n",
    "            sample.\n",
    "        \"\"\"\n",
    "\n",
    "        x_data = torch.from_numpy(x_data.astype(np.float32))\n",
    "        y_data = torch.from_numpy(y_data.astype(np.float32))\n",
    "                \n",
    "        return x_data, y_data"
   ]
  },
  {
   "cell_type": "markdown",
   "metadata": {},
   "source": [
    "### Create the train, test, val splits"
   ]
  },
  {
   "cell_type": "code",
   "execution_count": 5,
   "metadata": {},
   "outputs": [],
   "source": [
    "random.seed(5000)"
   ]
  },
  {
   "cell_type": "code",
   "execution_count": 6,
   "metadata": {},
   "outputs": [],
   "source": [
    "file_list = glob.glob(os.path.join(config[\"data\"][\"data_path\"], 'ML2019_*'))\n",
    "file_list = sorted(file_list, key = lambda x: int(x.split(\"Exp\")[1].strip(\".csv\")))"
   ]
  },
  {
   "cell_type": "code",
   "execution_count": 7,
   "metadata": {},
   "outputs": [],
   "source": [
    "experiments = []\n",
    "for x in file_list:\n",
    "    x = int(x.split(\"Exp\")[1].strip(\".csv\"))\n",
    "    if x >= config[\"data\"][\"min_exp\"] and x <= config[\"data\"][\"max_exp\"]:\n",
    "        experiments.append(x)\n",
    "\n",
    "# train_split, _test = train_test_split(experiments, test_size = 0.2)\n",
    "# valid_split, test_split = train_test_split(_test, test_size = 0.5)"
   ]
  },
  {
   "cell_type": "code",
   "execution_count": 8,
   "metadata": {},
   "outputs": [],
   "source": [
    "# train_split = train_split[:128]\n",
    "# valid_split = valid_split[:128]\n",
    "# test_split = test_split[:128]"
   ]
  },
  {
   "cell_type": "code",
   "execution_count": 9,
   "metadata": {},
   "outputs": [],
   "source": [
    "with open(\"../clustered/experiment_data/experiment_train_test_val_splits.pkl\", \"rb\") as fid:\n",
    "    train_split, valid_split, test_split = pickle.load(fid)"
   ]
  },
  {
   "cell_type": "code",
   "execution_count": 10,
   "metadata": {},
   "outputs": [],
   "source": [
    "cached_data = \"../toluene/*pkl\"\n",
    "if len(cached_data):\n",
    "    fit = False\n",
    "else:\n",
    "    fit = True\n",
    "\n",
    "train_data_set = LoadGeckoData(\n",
    "    **config[\"data\"],\n",
    "    experiment_subset = train_split,\n",
    "    shuffle = True,\n",
    "    fit = fit\n",
    ")"
   ]
  },
  {
   "cell_type": "code",
   "execution_count": 11,
   "metadata": {},
   "outputs": [],
   "source": [
    "valid_data_set = LoadGeckoData(\n",
    "    **config[\"data\"],\n",
    "    num_timesteps = train_data_set.num_timesteps,\n",
    "    experiment_subset = valid_split,\n",
    "    shuffle = False,\n",
    "    scaler_x = train_data_set.scaler_x,\n",
    "    scaler_y = train_data_set.scaler_y \n",
    ")"
   ]
  },
  {
   "cell_type": "code",
   "execution_count": 12,
   "metadata": {},
   "outputs": [],
   "source": [
    "test_data_set = LoadGeckoData(\n",
    "    **config[\"data\"],\n",
    "    num_timesteps = train_data_set.num_timesteps,\n",
    "    experiment_subset = test_split,\n",
    "    shuffle = False,\n",
    "    scaler_x = train_data_set.scaler_x,\n",
    "    scaler_y = train_data_set.scaler_y \n",
    ")"
   ]
  },
  {
   "cell_type": "markdown",
   "metadata": {},
   "source": [
    "### Initialize iterators"
   ]
  },
  {
   "cell_type": "code",
   "execution_count": 13,
   "metadata": {},
   "outputs": [],
   "source": [
    "#logging.info(f\"Loading training data iterator using {config['iterator']['num_workers']} workers\")\n",
    "    \n",
    "train_dataloader = DataLoader(\n",
    "    train_data_set,\n",
    "    **config[\"iterator\"]\n",
    ")\n",
    "\n",
    "config[\"iterator\"][\"batch_size\"] = len(valid_split)\n",
    "\n",
    "valid_dataloader = DataLoader(\n",
    "    valid_data_set,\n",
    "    **config[\"iterator\"]\n",
    ")\n",
    "\n",
    "test_dataloader = DataLoader(\n",
    "    test_data_set,\n",
    "    **config[\"iterator\"]\n",
    ")"
   ]
  },
  {
   "cell_type": "markdown",
   "metadata": {},
   "source": [
    "### Model"
   ]
  },
  {
   "cell_type": "code",
   "execution_count": 14,
   "metadata": {},
   "outputs": [],
   "source": [
    "class DenseNet(nn.Module):\n",
    "\n",
    "    def __init__(self, \n",
    "                 input_size, \n",
    "                 output_size, \n",
    "                 hidden_dims = [100, 50], \n",
    "                 dropouts = [0.2, 0.2]):\n",
    "        \n",
    "        super(DenseNet, self).__init__()\n",
    "        \n",
    "        self.input_size = input_size\n",
    "        self.output_size = output_size\n",
    "        \n",
    "        #self.embedding = nn.Embedding(train_data_set.num_timesteps, 16)\n",
    "        \n",
    "        self.model = [\n",
    "            nn.Linear(input_size, hidden_dims[0]),\n",
    "            #nn.BatchNorm1d(num_features=hidden_dims[0]),\n",
    "            nn.LeakyReLU() # nn.SELU()\n",
    "        ]\n",
    "        if len(hidden_dims) > 1:\n",
    "            if dropouts[0] > 0.0:\n",
    "                self.model.append(nn.Dropout(dropouts[0]))\n",
    "            for i in range(len(hidden_dims)-1):\n",
    "                self.model.append(nn.Linear(hidden_dims[i], hidden_dims[i+1]))\n",
    "                #self.model.append(nn.BatchNorm1d(num_features=hidden_dims[i+1]))\n",
    "                self.model.append(nn.LeakyReLU())\n",
    "                if dropouts[i+1] > 0.0:\n",
    "                    self.model.append(nn.Dropout(dropouts[i+1]))\n",
    "        self.model.append(nn.Linear(hidden_dims[-1], output_size))\n",
    "        self.model.append(nn.Sigmoid())\n",
    "        self.model = nn.Sequential(*self.model)\n",
    "\n",
    "    def forward(self, x):\n",
    "        #x1, x2 = x\n",
    "        #x1 = self.embedding(x1)\n",
    "        #x = torch.cat([x1, x2], 1)\n",
    "        x = self.model(x)\n",
    "        return x"
   ]
  },
  {
   "cell_type": "code",
   "execution_count": 15,
   "metadata": {},
   "outputs": [],
   "source": [
    "model = DenseNet(**config[\"model\"])"
   ]
  },
  {
   "cell_type": "code",
   "execution_count": 16,
   "metadata": {},
   "outputs": [
    {
     "data": {
      "text/plain": [
       "DenseNet(\n",
       "  (model): Sequential(\n",
       "    (0): Linear(in_features=35, out_features=10000, bias=True)\n",
       "    (1): LeakyReLU(negative_slope=0.01)\n",
       "    (2): Linear(in_features=10000, out_features=29, bias=True)\n",
       "    (3): Sigmoid()\n",
       "  )\n",
       ")"
      ]
     },
     "execution_count": 16,
     "metadata": {},
     "output_type": "execute_result"
    }
   ],
   "source": [
    "model"
   ]
  },
  {
   "cell_type": "code",
   "execution_count": 48,
   "metadata": {},
   "outputs": [
    {
     "data": {
      "text/plain": [
       "<All keys matched successfully>"
      ]
     },
     "execution_count": 48,
     "metadata": {},
     "output_type": "execute_result"
    }
   ],
   "source": [
    "model_dict = torch.load(\"results/pretrain_noise/best.pt\", \n",
    "                        map_location=lambda storage, loc: storage)\n",
    "model.load_state_dict(model_dict[\"model_state_dict\"])"
   ]
  },
  {
   "cell_type": "code",
   "execution_count": 49,
   "metadata": {},
   "outputs": [],
   "source": [
    "if is_cuda:\n",
    "    model = model.to(device)"
   ]
  },
  {
   "cell_type": "code",
   "execution_count": 50,
   "metadata": {},
   "outputs": [],
   "source": [
    "optimizer = LookaheadDiffGrad(model.parameters(),\n",
    "                              lr=config[\"optimizer\"][\"lr\"])\n",
    "                              #weight_decay=1e-2)"
   ]
  },
  {
   "cell_type": "code",
   "execution_count": 51,
   "metadata": {},
   "outputs": [],
   "source": [
    "class RMSELoss(nn.Module):\n",
    "    def __init__(self):\n",
    "        super().__init__()\n",
    "        self.mse = nn.MSELoss()\n",
    "        \n",
    "    def forward(self, yhat, y):\n",
    "        return torch.sqrt(self.mse(yhat,y))\n",
    "    \n",
    "class R2Score(nn.Module):\n",
    "\n",
    "    def forward(self, y_pred, y):\n",
    "        _num_examples = y.shape[1]\n",
    "        _sum_of_errors = torch.sum(torch.pow(y_pred - y, 2))\n",
    "        _y_sum = torch.sum(y)\n",
    "        _y_sq_sum = torch.sum(torch.pow(y, 2))\n",
    "        return _sum_of_errors / (_y_sq_sum - (_y_sum ** 2) / _num_examples)"
   ]
  },
  {
   "cell_type": "code",
   "execution_count": 52,
   "metadata": {},
   "outputs": [],
   "source": [
    "# # Measure allocated memory after the call\n",
    "# torch.cuda.synchronize()\n",
    "# end_max_memory = torch.cuda.max_memory_allocated() / 1024**2\n",
    "# end_memory = torch.cuda.memory_allocated() / 1024**2\n",
    "\n",
    "class BaseTrainer:\n",
    "    \n",
    "    def __init__(self, \n",
    "                 model, \n",
    "                 optimizer,\n",
    "                 train_gen, \n",
    "                 valid_gen, \n",
    "                 dataloader, \n",
    "                 valid_dataloader,\n",
    "                 start_epoch = 0,\n",
    "                 epochs = 100,\n",
    "                 window_size = 10,\n",
    "                 teacher_force = True,\n",
    "                 gamma = 0.5,\n",
    "                 device = \"cpu\",\n",
    "                 clip = 1.0,\n",
    "                 path_save = \"./\"):\n",
    "        \n",
    "        self.model = model\n",
    "        self.outsize = model.output_size\n",
    "        self.optimizer = optimizer\n",
    "        self.train_gen = train_gen\n",
    "        self.valid_gen = valid_gen\n",
    "        self.dataloader = dataloader\n",
    "        self.valid_dataloader = valid_dataloader\n",
    "        self.batch_size = dataloader.batch_size\n",
    "        self.path_save = path_save\n",
    "        self.device = device\n",
    "        \n",
    "        self.start_epoch = start_epoch \n",
    "        self.epochs = epochs\n",
    "        self.window_size = window_size\n",
    "        \n",
    "        self.teacher_force = teacher_force\n",
    "        self.gamma = gamma\n",
    "        \n",
    "        timesteps = self.train_gen.num_timesteps\n",
    "        self.time_range = list(range(timesteps))\n",
    "                \n",
    "        # Gradient clipping through hook registration\n",
    "        for p in self.model.parameters():\n",
    "            p.register_hook(lambda grad: torch.clamp(grad, -clip, clip))\n",
    "        logger.info(f\"Clipping gradients to range [-{clip}, {clip}]\")\n",
    "        \n",
    "        # Create the save directory if it does not exist\n",
    "        try:\n",
    "            os.makedirs(path_save)\n",
    "        except:\n",
    "            pass\n",
    "        \n",
    "    def criterion(self, y_true, y_pred):\n",
    "        \n",
    "        y_true_precursor = y_true[:, :, 0]\n",
    "        y_pred_precursor = y_pred[:, :, 0]\n",
    "        \n",
    "        y_true_gas = y_true[:, :, 1:15]\n",
    "        y_pred_gas = y_pred[:, :, 1:15]\n",
    "        \n",
    "        y_true_aero = y_true[:, :, 15:]\n",
    "        y_pred_aero = y_pred[:, :, 15:]\n",
    "        \n",
    "        mse_precursor = nn.MSELoss()(y_true_precursor, y_pred_precursor)\n",
    "        mse_gas = nn.MSELoss()(y_true_gas, y_pred_gas)\n",
    "        mse_aero = nn.MSELoss()(y_true_aero, y_pred_aero)\n",
    "        mse = mse_precursor + (mse_gas + mse_aero)\n",
    "        \n",
    "        kld_gas = nn.KLDivLoss()(\n",
    "            F.log_softmax(y_pred_gas),\n",
    "            F.softmax(y_true_gas)\n",
    "        )\n",
    "        kld_aero = nn.KLDivLoss()(\n",
    "            F.log_softmax(y_pred_aero),\n",
    "            F.softmax(y_true_aero)\n",
    "        )\n",
    "        return mse + (kld_gas + kld_aero)\n",
    "        \n",
    "    def train_one_epoch(self, epoch, steps = 1e10):\n",
    "        \n",
    "        self.model.train()\n",
    "        batches_per_epoch = int(np.ceil(self.train_gen.__len__() / self.batch_size))\n",
    "        batch_group_generator = tqdm(\n",
    "            self.dataloader,\n",
    "            total=min(steps, batches_per_epoch), \n",
    "            leave=True\n",
    "        )\n",
    "        epoch_losses = {\"loss\": []}\n",
    "        for batch_idx, (x, y) in enumerate(batch_group_generator):\n",
    "            x = x.to(device)\n",
    "            y = y.to(device)\n",
    "            \n",
    "            cost = self.tf_annealer(epoch) \n",
    "            y_true, y_pred, weights = [], [], []\n",
    "            for i in range(y.size(1)):\n",
    "                next_x = self.model(x[:,i,:])\n",
    "                y_true.append(y[:, i])\n",
    "                y_pred.append(next_x)                                \n",
    "                if i < (y.size(1)-1):\n",
    "                    if (epoch == self.epochs - 1) or (not self.teacher_force):\n",
    "                        x = x.clone()\n",
    "                        x[:, i+1, :self.outsize] = next_x                        \n",
    "                    else:\n",
    "                        idx = [bn for bn in range(x.size(0)) if cost < random.random()]\n",
    "                        if len(idx) > 0:\n",
    "                            x = x.clone() # next line is in-place op, messes up grad. comp. \n",
    "                            x[idx, i+1, :self.outsize] = next_x[idx]  \n",
    "                            \n",
    "            y_true = torch.stack(y_true).permute(1,0,2)\n",
    "            y_pred = torch.stack(y_pred).permute(1,0,2)\n",
    "            loss = self.criterion(y_true, y_pred)   \n",
    "            epoch_losses[\"loss\"].append(loss.item())\n",
    "\n",
    "            # backprop after experiment\n",
    "            self.optimizer.zero_grad()\n",
    "            loss.backward()\n",
    "            self.optimizer.step()\n",
    "\n",
    "            # update tqdm\n",
    "            to_print = \"loss: {:.3f}\".format(np.mean(epoch_losses[\"loss\"]))\n",
    "            batch_group_generator.set_description(to_print)\n",
    "            batch_group_generator.update()\n",
    "            \n",
    "            if batch_idx % steps == 0 and batch_idx > 0:\n",
    "                break\n",
    "            \n",
    "        return np.mean(epoch_losses[\"loss\"])\n",
    "            \n",
    "    def test(self, epoch):\n",
    "\n",
    "        self.model.eval()\n",
    "        batches_per_epoch = int(np.ceil(self.valid_gen.__len__() / self.batch_size))\n",
    "\n",
    "        with torch.no_grad():\n",
    "\n",
    "            batch_group_generator = tqdm(\n",
    "                self.valid_dataloader,\n",
    "                total=batches_per_epoch, \n",
    "                leave=True\n",
    "            )\n",
    "            \n",
    "            epoch_losses = {\"loss\": []}\n",
    "            for (x, y) in batch_group_generator:\n",
    "                x = x.to(device)\n",
    "                y = y.to(device)\n",
    "                y_true, y_pred = [], []\n",
    "                for i in range(y.size(1)):\n",
    "                    next_x = self.model(x[:,i,:])\n",
    "                    y_true.append(y[:, i])\n",
    "                    y_pred.append(next_x)\n",
    "                    if i < (y.shape[1]-1):\n",
    "                        x[:, i+1, :self.outsize] = next_x # never \"force\" on eval\n",
    "                y_true = torch.stack(y_true).permute(1,0,2)\n",
    "                y_pred = torch.stack(y_pred).permute(1,0,2)\n",
    "                loss = self.criterion(y_true, y_pred)\n",
    "                epoch_losses[\"loss\"].append(loss.item())\n",
    "\n",
    "                # update tqdm\n",
    "                to_print = \"val_loss: {:.3f}\".format(np.mean(epoch_losses[\"loss\"]))\n",
    "                batch_group_generator.set_description(to_print)\n",
    "                batch_group_generator.update()\n",
    "            \n",
    "        return np.mean(epoch_losses[\"loss\"]) \n",
    "    \n",
    "    \n",
    "    def train(self,\n",
    "              scheduler,\n",
    "              early_stopping,\n",
    "              metrics_logger):\n",
    "        \n",
    "        logger.info(\n",
    "            f\"Training the model for up to {self.epochs} epochs starting at epoch {self.start_epoch}\"\n",
    "        )\n",
    "        \n",
    "        flag = isinstance(scheduler, torch.optim.lr_scheduler.ReduceLROnPlateau)\n",
    "        \n",
    "        for epoch in range(self.start_epoch, self.epochs):\n",
    "            train_loss = self.train_one_epoch(epoch)\n",
    "            test_loss = self.test(epoch)\n",
    "\n",
    "            scheduler.step(test_loss if flag else epoch)\n",
    "            early_stopping(epoch, test_loss, self.model, self.optimizer)\n",
    "\n",
    "            # Write results to the callback logger \n",
    "            result = {\n",
    "                \"epoch\": epoch,\n",
    "                \"train_loss\": train_loss,\n",
    "                \"valid_loss\": test_loss,\n",
    "                \"lr\": early_stopping.print_learning_rate(self.optimizer),\n",
    "                \"teacher_forcing_score\": self.tf_annealer(epoch) if self.teacher_force else 1.0\n",
    "            }\n",
    "            metrics_logger.update(result)\n",
    "\n",
    "            if early_stopping.early_stop:\n",
    "                logger.info(\"Early stopping\")\n",
    "                break\n",
    "\n",
    "    def tf_annealer(self, epoch):\n",
    "        return 1.0 * self.gamma ** epoch # 1/(1 + self.decay * epoch) "
   ]
  },
  {
   "cell_type": "code",
   "execution_count": 53,
   "metadata": {},
   "outputs": [],
   "source": [
    "trainer = BaseTrainer(\n",
    "    model, \n",
    "    optimizer,\n",
    "    train_data_set, \n",
    "    valid_data_set, \n",
    "    train_dataloader, \n",
    "    valid_dataloader,\n",
    "    device = device,\n",
    "    **config[\"trainer\"]\n",
    ")"
   ]
  },
  {
   "cell_type": "code",
   "execution_count": 54,
   "metadata": {},
   "outputs": [],
   "source": [
    "# Initialize LR annealing scheduler \n",
    "if \"ReduceLROnPlateau\" in config[\"callbacks\"]:\n",
    "    schedule_config = config[\"callbacks\"][\"ReduceLROnPlateau\"]\n",
    "    scheduler = ReduceLROnPlateau(trainer.optimizer, **schedule_config)\n",
    "    #logging.info(\n",
    "    #    f\"Loaded ReduceLROnPlateau learning rate annealer with patience {schedule_config['patience']}\"\n",
    "    #)\n",
    "elif \"ExponentialLR\" in config[\"callbacks\"]:\n",
    "    schedule_config = config[\"callbacks\"][\"ExponentialLR\"]\n",
    "    scheduler = ExponentialLR(trainer.optimizer, **schedule_config)\n",
    "    #logging.info(\n",
    "    #    f\"Loaded ExponentialLR learning rate annealer with reduce factor {schedule_config['gamma']}\"\n",
    "    #)\n",
    "\n",
    "# Early stopping\n",
    "checkpoint_config = config[\"callbacks\"][\"EarlyStopping\"]\n",
    "early_stopping = EarlyStopping(**checkpoint_config)\n",
    "\n",
    "# Write metrics to csv each epoch\n",
    "metrics_logger = MetricsLogger(**config[\"callbacks\"][\"MetricsLogger\"])"
   ]
  },
  {
   "cell_type": "code",
   "execution_count": 55,
   "metadata": {},
   "outputs": [],
   "source": [
    "#torch.autograd.set_detect_anomaly(True)"
   ]
  },
  {
   "cell_type": "code",
   "execution_count": 56,
   "metadata": {},
   "outputs": [
    {
     "name": "stderr",
     "output_type": "stream",
     "text": [
      "loss: 0.000: 100%|██████████| 400/400 [03:09<00:00,  2.11it/s]\n",
      "val_loss: 0.496:   2%|▏         | 1/51 [00:04<03:58,  4.77s/it]\n",
      "loss: 0.000: 100%|██████████| 400/400 [05:43<00:00,  1.16it/s]\n",
      "val_loss: 0.477:   2%|▏         | 1/51 [00:01<01:31,  1.83s/it]\n",
      "loss: 0.001: 100%|██████████| 400/400 [06:39<00:00,  1.00it/s]\n",
      "val_loss: 0.484:   2%|▏         | 1/51 [00:04<03:58,  4.77s/it]\n",
      "loss: 0.001: 100%|██████████| 400/400 [07:29<00:00,  1.12s/it]\n",
      "val_loss: 0.469:   2%|▏         | 1/51 [00:04<03:54,  4.69s/it]\n",
      "loss: 0.001:  26%|██▋       | 106/400 [03:32<09:49,  2.01s/it]\n"
     ]
    },
    {
     "ename": "KeyboardInterrupt",
     "evalue": "",
     "output_type": "error",
     "traceback": [
      "\u001b[0;31m---------------------------------------------------------------------------\u001b[0m",
      "\u001b[0;31mKeyboardInterrupt\u001b[0m                         Traceback (most recent call last)",
      "\u001b[0;32m<ipython-input-56-452ddce0f414>\u001b[0m in \u001b[0;36m<module>\u001b[0;34m\u001b[0m\n\u001b[0;32m----> 1\u001b[0;31m \u001b[0mtrainer\u001b[0m\u001b[0;34m.\u001b[0m\u001b[0mtrain\u001b[0m\u001b[0;34m(\u001b[0m\u001b[0mscheduler\u001b[0m\u001b[0;34m,\u001b[0m \u001b[0mearly_stopping\u001b[0m\u001b[0;34m,\u001b[0m \u001b[0mmetrics_logger\u001b[0m\u001b[0;34m)\u001b[0m\u001b[0;34m\u001b[0m\u001b[0;34m\u001b[0m\u001b[0m\n\u001b[0m",
      "\u001b[0;32m<ipython-input-52-e7c3585886cd>\u001b[0m in \u001b[0;36mtrain\u001b[0;34m(self, scheduler, early_stopping, metrics_logger)\u001b[0m\n\u001b[1;32m    179\u001b[0m \u001b[0;34m\u001b[0m\u001b[0m\n\u001b[1;32m    180\u001b[0m         \u001b[0;32mfor\u001b[0m \u001b[0mepoch\u001b[0m \u001b[0;32min\u001b[0m \u001b[0mrange\u001b[0m\u001b[0;34m(\u001b[0m\u001b[0mself\u001b[0m\u001b[0;34m.\u001b[0m\u001b[0mstart_epoch\u001b[0m\u001b[0;34m,\u001b[0m \u001b[0mself\u001b[0m\u001b[0;34m.\u001b[0m\u001b[0mepochs\u001b[0m\u001b[0;34m)\u001b[0m\u001b[0;34m:\u001b[0m\u001b[0;34m\u001b[0m\u001b[0;34m\u001b[0m\u001b[0m\n\u001b[0;32m--> 181\u001b[0;31m             \u001b[0mtrain_loss\u001b[0m \u001b[0;34m=\u001b[0m \u001b[0mself\u001b[0m\u001b[0;34m.\u001b[0m\u001b[0mtrain_one_epoch\u001b[0m\u001b[0;34m(\u001b[0m\u001b[0mepoch\u001b[0m\u001b[0;34m)\u001b[0m\u001b[0;34m\u001b[0m\u001b[0;34m\u001b[0m\u001b[0m\n\u001b[0m\u001b[1;32m    182\u001b[0m             \u001b[0mtest_loss\u001b[0m \u001b[0;34m=\u001b[0m \u001b[0mself\u001b[0m\u001b[0;34m.\u001b[0m\u001b[0mtest\u001b[0m\u001b[0;34m(\u001b[0m\u001b[0mepoch\u001b[0m\u001b[0;34m)\u001b[0m\u001b[0;34m\u001b[0m\u001b[0;34m\u001b[0m\u001b[0m\n\u001b[1;32m    183\u001b[0m \u001b[0;34m\u001b[0m\u001b[0m\n",
      "\u001b[0;32m<ipython-input-52-e7c3585886cd>\u001b[0m in \u001b[0;36mtrain_one_epoch\u001b[0;34m(self, epoch, steps)\u001b[0m\n\u001b[1;32m    117\u001b[0m             \u001b[0;31m# backprop after experiment\u001b[0m\u001b[0;34m\u001b[0m\u001b[0;34m\u001b[0m\u001b[0;34m\u001b[0m\u001b[0m\n\u001b[1;32m    118\u001b[0m             \u001b[0mself\u001b[0m\u001b[0;34m.\u001b[0m\u001b[0moptimizer\u001b[0m\u001b[0;34m.\u001b[0m\u001b[0mzero_grad\u001b[0m\u001b[0;34m(\u001b[0m\u001b[0;34m)\u001b[0m\u001b[0;34m\u001b[0m\u001b[0;34m\u001b[0m\u001b[0m\n\u001b[0;32m--> 119\u001b[0;31m             \u001b[0mloss\u001b[0m\u001b[0;34m.\u001b[0m\u001b[0mbackward\u001b[0m\u001b[0;34m(\u001b[0m\u001b[0;34m)\u001b[0m\u001b[0;34m\u001b[0m\u001b[0;34m\u001b[0m\u001b[0m\n\u001b[0m\u001b[1;32m    120\u001b[0m             \u001b[0mself\u001b[0m\u001b[0;34m.\u001b[0m\u001b[0moptimizer\u001b[0m\u001b[0;34m.\u001b[0m\u001b[0mstep\u001b[0m\u001b[0;34m(\u001b[0m\u001b[0;34m)\u001b[0m\u001b[0;34m\u001b[0m\u001b[0;34m\u001b[0m\u001b[0m\n\u001b[1;32m    121\u001b[0m \u001b[0;34m\u001b[0m\u001b[0m\n",
      "\u001b[0;32m/glade/work/schreck/py37/lib/python3.7/site-packages/torch/tensor.py\u001b[0m in \u001b[0;36mbackward\u001b[0;34m(self, gradient, retain_graph, create_graph)\u001b[0m\n\u001b[1;32m    183\u001b[0m                 \u001b[0mproducts\u001b[0m\u001b[0;34m.\u001b[0m \u001b[0mDefaults\u001b[0m \u001b[0mto\u001b[0m\u001b[0;31m \u001b[0m\u001b[0;31m`\u001b[0m\u001b[0;31m`\u001b[0m\u001b[0;32mFalse\u001b[0m\u001b[0;31m`\u001b[0m\u001b[0;31m`\u001b[0m\u001b[0;34m.\u001b[0m\u001b[0;34m\u001b[0m\u001b[0;34m\u001b[0m\u001b[0m\n\u001b[1;32m    184\u001b[0m         \"\"\"\n\u001b[0;32m--> 185\u001b[0;31m         \u001b[0mtorch\u001b[0m\u001b[0;34m.\u001b[0m\u001b[0mautograd\u001b[0m\u001b[0;34m.\u001b[0m\u001b[0mbackward\u001b[0m\u001b[0;34m(\u001b[0m\u001b[0mself\u001b[0m\u001b[0;34m,\u001b[0m \u001b[0mgradient\u001b[0m\u001b[0;34m,\u001b[0m \u001b[0mretain_graph\u001b[0m\u001b[0;34m,\u001b[0m \u001b[0mcreate_graph\u001b[0m\u001b[0;34m)\u001b[0m\u001b[0;34m\u001b[0m\u001b[0;34m\u001b[0m\u001b[0m\n\u001b[0m\u001b[1;32m    186\u001b[0m \u001b[0;34m\u001b[0m\u001b[0m\n\u001b[1;32m    187\u001b[0m     \u001b[0;32mdef\u001b[0m \u001b[0mregister_hook\u001b[0m\u001b[0;34m(\u001b[0m\u001b[0mself\u001b[0m\u001b[0;34m,\u001b[0m \u001b[0mhook\u001b[0m\u001b[0;34m)\u001b[0m\u001b[0;34m:\u001b[0m\u001b[0;34m\u001b[0m\u001b[0;34m\u001b[0m\u001b[0m\n",
      "\u001b[0;32m/glade/work/schreck/py37/lib/python3.7/site-packages/torch/autograd/__init__.py\u001b[0m in \u001b[0;36mbackward\u001b[0;34m(tensors, grad_tensors, retain_graph, create_graph, grad_variables)\u001b[0m\n\u001b[1;32m    125\u001b[0m     Variable._execution_engine.run_backward(\n\u001b[1;32m    126\u001b[0m         \u001b[0mtensors\u001b[0m\u001b[0;34m,\u001b[0m \u001b[0mgrad_tensors\u001b[0m\u001b[0;34m,\u001b[0m \u001b[0mretain_graph\u001b[0m\u001b[0;34m,\u001b[0m \u001b[0mcreate_graph\u001b[0m\u001b[0;34m,\u001b[0m\u001b[0;34m\u001b[0m\u001b[0;34m\u001b[0m\u001b[0m\n\u001b[0;32m--> 127\u001b[0;31m         allow_unreachable=True)  # allow_unreachable flag\n\u001b[0m\u001b[1;32m    128\u001b[0m \u001b[0;34m\u001b[0m\u001b[0m\n\u001b[1;32m    129\u001b[0m \u001b[0;34m\u001b[0m\u001b[0m\n",
      "\u001b[0;31mKeyboardInterrupt\u001b[0m: "
     ]
    }
   ],
   "source": [
    "trainer.train(scheduler, early_stopping, metrics_logger)"
   ]
  },
  {
   "cell_type": "markdown",
   "metadata": {},
   "source": [
    "### Predict with the best model"
   ]
  },
  {
   "cell_type": "code",
   "execution_count": 17,
   "metadata": {},
   "outputs": [],
   "source": [
    "with open(\"results/window_noisy/config.yml\") as config_file:\n",
    "    config = yaml.load(config_file, Loader=yaml.FullLoader)"
   ]
  },
  {
   "cell_type": "code",
   "execution_count": 18,
   "metadata": {},
   "outputs": [],
   "source": [
    "model = DenseNet(**config[\"model\"])"
   ]
  },
  {
   "cell_type": "code",
   "execution_count": 19,
   "metadata": {},
   "outputs": [],
   "source": [
    "model_dict = torch.load(\"results/window_noisy/best.pt\", \n",
    "                        map_location=lambda storage, loc: storage)"
   ]
  },
  {
   "cell_type": "code",
   "execution_count": 20,
   "metadata": {},
   "outputs": [
    {
     "data": {
      "text/plain": [
       "DenseNet(\n",
       "  (model): Sequential(\n",
       "    (0): Linear(in_features=35, out_features=10000, bias=True)\n",
       "    (1): LeakyReLU(negative_slope=0.01)\n",
       "    (2): Linear(in_features=10000, out_features=29, bias=True)\n",
       "    (3): Sigmoid()\n",
       "  )\n",
       ")"
      ]
     },
     "execution_count": 20,
     "metadata": {},
     "output_type": "execute_result"
    }
   ],
   "source": [
    "model.load_state_dict(model_dict[\"model_state_dict\"])\n",
    "model.eval()"
   ]
  },
  {
   "cell_type": "code",
   "execution_count": 21,
   "metadata": {},
   "outputs": [],
   "source": [
    "# if is_cuda:\n",
    "#     model = model.to(device)\n",
    "device = \"cpu\"\n",
    "model = model.to(device)"
   ]
  },
  {
   "cell_type": "code",
   "execution_count": 22,
   "metadata": {},
   "outputs": [],
   "source": [
    "for (x, y) in test_dataloader:\n",
    "    x = x.to(device)\n",
    "    y = y.to(device)\n",
    "    break"
   ]
  },
  {
   "cell_type": "code",
   "execution_count": 23,
   "metadata": {},
   "outputs": [
    {
     "name": "stderr",
     "output_type": "stream",
     "text": [
      "100%|██████████| 1439/1439 [00:12<00:00, 113.18it/s]\n"
     ]
    }
   ],
   "source": [
    "loss = []\n",
    "preds = []\n",
    "for t in tqdm(range(y.shape[1])):\n",
    "    next_x = model(x[:,t,:])\n",
    "    preds.append(next_x)\n",
    "    if t < (y.shape[1]-1):\n",
    "        x[:, t+1, :model.output_size] = next_x # never force on test\n",
    "\n",
    "#loss = torch.mean(torch.stack(loss))\n",
    "preds = torch.stack(preds, axis = -1).permute(0, 2, 1)"
   ]
  },
  {
   "cell_type": "code",
   "execution_count": 24,
   "metadata": {},
   "outputs": [
    {
     "data": {
      "text/plain": [
       "(0.0, 1.01)"
      ]
     },
     "execution_count": 24,
     "metadata": {},
     "output_type": "execute_result"
    },
    {
     "data": {
      "image/png": "[encoded data removed]",
      "text/plain": [
       "<Figure size 432x288 with 1 Axes>"
      ]
     },
     "metadata": {
      "needs_background": "light"
     },
     "output_type": "display_data"
    }
   ],
   "source": [
    "nsteps = y.shape[1]\n",
    "\n",
    "plt.plot(range(nsteps), y[1, :nsteps, 0])\n",
    "plt.plot(range(nsteps), y[1, :nsteps, 1:15].sum(-1)/14)\n",
    "plt.plot(range(nsteps), y[1, :nsteps, 15:].sum(-1)/14)\n",
    "\n",
    "plt.ylabel(\"Precursor/Gas/Aerosol\")\n",
    "plt.xlabel(\"Time steps\")\n",
    "\n",
    "plt.ylim([0.0, 1.01])"
   ]
  },
  {
   "cell_type": "code",
   "execution_count": 25,
   "metadata": {},
   "outputs": [
    {
     "data": {
      "text/plain": [
       "(0.0, 1.01)"
      ]
     },
     "execution_count": 25,
     "metadata": {},
     "output_type": "execute_result"
    },
    {
     "data": {
      "image/png": "[encoded data removed]",
      "text/plain": [
       "<Figure size 432x288 with 1 Axes>"
      ]
     },
     "metadata": {
      "needs_background": "light"
     },
     "output_type": "display_data"
    }
   ],
   "source": [
    "plt.plot(range(nsteps), preds[1, :nsteps, 0].detach().numpy())\n",
    "plt.plot(range(nsteps), preds[1, :nsteps, 1:15].detach().numpy().sum(-1)/14)\n",
    "plt.plot(range(nsteps), preds[1, :nsteps, 15:].detach().numpy().sum(-1)/14)\n",
    "\n",
    "plt.ylabel(\"Precursor/Gas/Aerosol\")\n",
    "plt.xlabel(\"Time steps\")\n",
    "\n",
    "plt.ylim([0.0, 1.01])"
   ]
  },
  {
   "cell_type": "code",
   "execution_count": 26,
   "metadata": {},
   "outputs": [
    {
     "data": {
      "text/plain": [
       "tensor(0.0268, grad_fn=<MeanBackward0>)"
      ]
     },
     "execution_count": 26,
     "metadata": {},
     "output_type": "execute_result"
    }
   ],
   "source": [
    "nn.MSELoss()(y[:,:nsteps,:], preds[:, :nsteps, :])"
   ]
  },
  {
   "cell_type": "code",
   "execution_count": 27,
   "metadata": {},
   "outputs": [
    {
     "data": {
      "text/plain": [
       "tensor(5.4969e-05, grad_fn=<KlDivBackward>)"
      ]
     },
     "execution_count": 27,
     "metadata": {},
     "output_type": "execute_result"
    }
   ],
   "source": [
    "nn.KLDivLoss()(\n",
    "    F.log_softmax(preds[:, :nsteps, 1:15]), \n",
    "    F.softmax(y[:, :nsteps, 1:15])\n",
    ")"
   ]
  },
  {
   "cell_type": "code",
   "execution_count": 28,
   "metadata": {},
   "outputs": [
    {
     "data": {
      "text/plain": [
       "tensor(3.7740e-05, grad_fn=<KlDivBackward>)"
      ]
     },
     "execution_count": 28,
     "metadata": {},
     "output_type": "execute_result"
    }
   ],
   "source": [
    "nn.KLDivLoss()(\n",
    "    F.log_softmax(preds[:, :nsteps, 15:]), \n",
    "    F.softmax(y[:, :nsteps, 15:])\n",
    ")"
   ]
  },
  {
   "cell_type": "code",
   "execution_count": null,
   "metadata": {},
   "outputs": [],
   "source": []
  },
  {
   "cell_type": "code",
   "execution_count": null,
   "metadata": {},
   "outputs": [],
   "source": []
  }
 ],
 "metadata": {
  "kernelspec": {
   "display_name": "py37",
   "language": "python",
   "name": "py37"
  },
  "language_info": {
   "codemirror_mode": {
    "name": "ipython",
    "version": 3
   },
   "file_extension": ".py",
   "mimetype": "text/x-python",
   "name": "python",
   "nbconvert_exporter": "python",
   "pygments_lexer": "ipython3",
   "version": "3.7.5"
  }
 },
 "nbformat": 4,
 "nbformat_minor": 4
}
