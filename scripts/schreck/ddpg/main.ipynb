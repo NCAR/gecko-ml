{
 "cells": [
  {
   "cell_type": "code",
   "execution_count": 1,
   "metadata": {},
   "outputs": [],
   "source": [
    "import warnings\n",
    "warnings.filterwarnings(\"ignore\")\n",
    "\n",
    "import numpy as np\n",
    "import traceback\n",
    "import random\n",
    "import pickle\n",
    "import torch\n",
    "import yaml\n",
    "import copy\n",
    "import time \n",
    "import os\n",
    "\n",
    "from ddpg.reader import LoadGeckoPandasExperiment\n",
    "from ddpg.replay_buffer import ReplayBuffer\n",
    "from ddpg.trainer import Trainer\n",
    "from ddpg.checkpoint import *\n",
    "from ddpg.losses import GeckoLoss\n",
    "from ddpg.ddpg import DDPG\n",
    "\n",
    "from holodecml.vae.optimizers import *\n",
    "from holodecml.vae.tqdm import tqdm\n",
    "\n",
    "from torch.optim.lr_scheduler import *\n",
    "import torch.nn.functional as F\n",
    "import torch.nn as nn\n",
    "\n",
    "import matplotlib.pyplot as plt"
   ]
  },
  {
   "cell_type": "markdown",
   "metadata": {},
   "source": [
    "### Load the configuration file"
   ]
  },
  {
   "cell_type": "code",
   "execution_count": 2,
   "metadata": {},
   "outputs": [],
   "source": [
    "with open(\"config.yml\") as config_file:\n",
    "    config = yaml.load(config_file, Loader=yaml.FullLoader)"
   ]
  },
  {
   "cell_type": "markdown",
   "metadata": {},
   "source": [
    "### Load the data splits"
   ]
  },
  {
   "cell_type": "code",
   "execution_count": 6,
   "metadata": {},
   "outputs": [],
   "source": [
    "experiment_data = LoadGeckoPandasExperiment(**config[\"data\"])"
   ]
  },
  {
   "cell_type": "code",
   "execution_count": 7,
   "metadata": {},
   "outputs": [],
   "source": [
    "fn = \"../clustered/experiment_data/experiment_train_test_val_splits.pkl\"\n",
    "with open(fn, \"rb\") as fid:\n",
    "    train, valid, test = pickle.load(fid)"
   ]
  },
  {
   "cell_type": "code",
   "execution_count": 8,
   "metadata": {},
   "outputs": [],
   "source": [
    "train_data_set = LoadGeckoPandasExperiment(\n",
    "    **config[\"data\"],\n",
    "    experiment_subset = train,\n",
    "    x_data = experiment_data.x,\n",
    "    y_data = experiment_data.y\n",
    ")"
   ]
  },
  {
   "cell_type": "code",
   "execution_count": 9,
   "metadata": {},
   "outputs": [],
   "source": [
    "config[\"data\"][\"shuffle\"] = False"
   ]
  },
  {
   "cell_type": "code",
   "execution_count": 10,
   "metadata": {},
   "outputs": [],
   "source": [
    "valid_data_set = LoadGeckoPandasExperiment(\n",
    "    **config[\"data\"],\n",
    "    experiment_subset = valid,\n",
    "    x_data = experiment_data.x,\n",
    "    y_data = experiment_data.y\n",
    ")"
   ]
  },
  {
   "cell_type": "code",
   "execution_count": 11,
   "metadata": {},
   "outputs": [],
   "source": [
    "test_data_set = LoadGeckoPandasExperiment(\n",
    "    **config[\"data\"],\n",
    "    experiment_subset = test,\n",
    "    x_data = experiment_data.x,\n",
    "    y_data = experiment_data.y\n",
    ")"
   ]
  },
  {
   "cell_type": "markdown",
   "metadata": {},
   "source": [
    "### Get GPU device"
   ]
  },
  {
   "cell_type": "code",
   "execution_count": 4,
   "metadata": {},
   "outputs": [
    {
     "name": "stdout",
     "output_type": "stream",
     "text": [
      "Preparing to use device cuda:0\n"
     ]
    }
   ],
   "source": [
    "is_cuda = torch.cuda.is_available()\n",
    "device = torch.device(torch.cuda.current_device()) if is_cuda else torch.device(\"cpu\")\n",
    "\n",
    "if is_cuda:\n",
    "    torch.backends.cudnn.benchmark = True\n",
    "\n",
    "print(f'Preparing to use device {device}')"
   ]
  },
  {
   "cell_type": "markdown",
   "metadata": {},
   "source": [
    "### Load the models"
   ]
  },
  {
   "cell_type": "code",
   "execution_count": 5,
   "metadata": {},
   "outputs": [],
   "source": [
    "policy = DDPG(**config[\"policy\"], device = device)"
   ]
  },
  {
   "cell_type": "code",
   "execution_count": 33,
   "metadata": {},
   "outputs": [],
   "source": [
    "policy.pretrain_load(\"results/pretrain/best.pt\")\n",
    "\n",
    "# critic_dict = torch.load(\"results/100/critic_best.pt\", map_location=lambda storage, loc: storage)\n",
    "# policy.critic.load_state_dict(critic_dict[\"model_state_dict\"])\n",
    "# policy.critic_target = copy.deepcopy(policy.critic)\n",
    "\n",
    "# actor_dict = torch.load(\"results/100/actor_best.pt\", map_location=lambda storage, loc: storage)\n",
    "# policy.actor.load_state_dict(actor_dict[\"model_state_dict\"])\n",
    "# policy.actor_target = copy.deepcopy(policy.actor)"
   ]
  },
  {
   "cell_type": "markdown",
   "metadata": {},
   "source": [
    "### Load the replay buffer"
   ]
  },
  {
   "cell_type": "code",
   "execution_count": 34,
   "metadata": {},
   "outputs": [],
   "source": [
    "replay_buffer = ReplayBuffer(**config[\"replay_buffer\"], device = device)"
   ]
  },
  {
   "cell_type": "code",
   "execution_count": 35,
   "metadata": {},
   "outputs": [],
   "source": [
    "def chunks(lst, n):\n",
    "    \"\"\"Yield successive n-sized chunks from lst.\"\"\"\n",
    "    for i in range(0, len(lst), n):\n",
    "        yield lst[i:i + n]\n",
    "        \n",
    "def Reward(true, pred, timestep, tolerance = 0.05):\n",
    "    #mse = torch.mean(torch.abs((action - y)**2), 1) ** (1/2)\n",
    "    #return 1.0 - mse\n",
    "    \n",
    "    ### Positive signal\n",
    "    dirac_delta_prec = (torch.abs(true[:, 0]-pred[:, 0]) < tolerance).to(torch.float32)\n",
    "    dirac_delta_gas = (torch.abs(true[:, 1:15]-pred[:, 1:15]) < tolerance).to(torch.float32)\n",
    "    dirac_delta_aero = (torch.abs(true[:, 15:]-pred[:, 15:]) < tolerance).to(torch.float32)\n",
    "    dirac_delta = (dirac_delta_prec + dirac_delta_gas + dirac_delta_aero) / 3.0\n",
    "    encouragement = torch.mean(dirac_delta, 1)\n",
    "    \n",
    "    ### Negative signal\n",
    "    #discouragement = torch.mean(torch.abs((action - y)**2), 1) ** (1/2)\n",
    "    \n",
    "    return (1440.0 - timestep) * encouragement / 1440.0\n",
    "\n",
    "class Trainer:\n",
    "\n",
    "    def __init__(self, \n",
    "                 policy, \n",
    "                 train_generator, \n",
    "                 validation_generator, \n",
    "                 test_generator, \n",
    "                 replay_buffer,\n",
    "                 device,\n",
    "                 start_epoch = 0,\n",
    "                 epochs = 100,\n",
    "                 batches_per_epoch = 1e10,\n",
    "                 experiment_batch_size = 1,\n",
    "                 batch_size = 64,\n",
    "                 max_timestep = 1439,\n",
    "                 teacher_force = False, \n",
    "                 gamma = 1.0,\n",
    "                 clip = 1.0,\n",
    "                 max_state = 1.0,\n",
    "                 expl_noise = 0.1):\n",
    "        \n",
    "        self.start_epoch = start_epoch\n",
    "        self.epochs = epochs\n",
    "        self.batch_size = batch_size\n",
    "        self.batches_per_epoch = batches_per_epoch\n",
    "        self.experiment_batch_size = experiment_batch_size\n",
    "        \n",
    "        self.train_gen = train_generator\n",
    "        self.valid_gen = validation_generator\n",
    "        self.test_gen = test_generator\n",
    "        \n",
    "        self.replay_buffer = replay_buffer\n",
    "        self.max_timestep = max_timestep\n",
    "        \n",
    "        self.policy = policy\n",
    "        self.teacher_force = teacher_force\n",
    "        self.gamma = gamma\n",
    "        \n",
    "        self.device = device\n",
    "        self.clip = clip\n",
    "        self.max_state = max_state\n",
    "        self.expl_noise = expl_noise \n",
    "                \n",
    "        #############################################\n",
    "        #\n",
    "        # Gradient clipping through hook registration\n",
    "        #\n",
    "        #############################################\n",
    "        for p in self.policy.actor.parameters():\n",
    "            p.register_hook(lambda grad: torch.clamp(grad, -clip, clip))\n",
    "        for p in self.policy.critic.parameters():\n",
    "            p.register_hook(lambda grad: torch.clamp(grad, -clip, clip))\n",
    "        logger.info(f\"Clipping gradients to range [-{clip}, {clip}]\")\n",
    "        \n",
    "        #############################################\n",
    "        #\n",
    "        # Fix the number of batches per epoch\n",
    "        #\n",
    "        #############################################\n",
    "        batches_per_epoch = int(self.train_gen.__len__()) \n",
    "        if self.batches_per_epoch > batches_per_epoch:\n",
    "            self.batches_per_epoch = batches_per_epoch\n",
    "        \n",
    "        #############################################\n",
    "        #\n",
    "        # Load the training experiments and randomly shuffle\n",
    "        #\n",
    "        #############################################\n",
    "        self.train_experiments = list(range(len(self.train_gen.experiment_subset)))\n",
    "        self.train_experiments_copy = list(range(len(self.train_gen.experiment_subset)))\n",
    "        random.shuffle(self.train_experiments)\n",
    "        if self.experiment_batch_size > 1:\n",
    "            self.train_experiments = list(chunks(\n",
    "                self.train_experiments, \n",
    "                self.experiment_batch_size\n",
    "            ))\n",
    "        self.reshuffle = 0 # when == len(self.train_experiments), reshuffle\n",
    "    \n",
    "    def train_one_epoch(self, epoch):\n",
    "        \n",
    "        self.policy.actor.train()\n",
    "        self.policy.critic.train()\n",
    "        \n",
    "        if self.reshuffle == len(self.train_experiments):\n",
    "            random.shuffle(self.train_experiments)\n",
    "            if self.experiment_batch_size > 1:\n",
    "                self.train_experiments = list(chunks(\n",
    "                    self.train_experiments_copy, \n",
    "                    self.experiment_batch_size\n",
    "                ))\n",
    "            self.reshuffle = 0\n",
    "        \n",
    "        batch_group_generator = tqdm(\n",
    "            enumerate(self.train_experiments[self.reshuffle:]),\n",
    "            total=min(self.batches_per_epoch,len(self.train_experiments[self.reshuffle:])),\n",
    "            leave=True\n",
    "        )\n",
    "        \n",
    "        cost = self.tf_annealer(epoch)\n",
    "        \n",
    "        episode_mae = []\n",
    "        episode_value = []\n",
    "        episode_reward = []\n",
    "        for batch_idx, exp in batch_group_generator:\n",
    "            experiment_value = 0.0\n",
    "            experiment_reward = 0.0\n",
    "            for i, (x,y,w) in enumerate(self.train_gen.__getitem__(exp)):\n",
    "                x = x.to(self.device)\n",
    "                y = y.to(self.device)\n",
    "                w = w.to(self.device)\n",
    "                \n",
    "                # Teacher-forcer selection\n",
    "                idx = [bn for bn in range(x.size(0)) if cost < random.random()]\n",
    "                if not self.teacher_force: # Never force\n",
    "                    state = x.clone() if i == 0 else next_state\n",
    "                    action = self.policy.actor(state)\n",
    "                elif len(idx) and (i > 0): # Conditional force\n",
    "                    state = x.clone()\n",
    "                    action = y.clone()\n",
    "                    action[idx] = self.policy.actor(state)[idx]\n",
    "                else: # Always force\n",
    "                    state = x.clone()\n",
    "                    action = y.clone()\n",
    "                \n",
    "                # Add exploration to the policy\n",
    "                #if self.expl_noise > 0.0:\n",
    "                    #noise = torch.empty(self.policy.action_dim).normal_(\n",
    "                    #    mean=0.0, std=self.max_state * self.expl_noise\n",
    "                    #)\n",
    "                    #action += noise.to(self.device)\n",
    "                    #action = action.clamp(0.0, self.max_state)\n",
    "                \n",
    "                next_state = state.clone()\n",
    "                next_state[:, :self.policy.action_dim] = action # next state = predicted action\n",
    "                \n",
    "                reward = Reward(action, y, i+1)\n",
    "                value = self.policy.critic(state, action)\n",
    "                stop_early = int((i+1) == self.max_timestep)\n",
    "                game_over = int((i+1) == 1439)\n",
    "                        \n",
    "                for j in range(state.size(0)):\n",
    "                    self.replay_buffer.add(\n",
    "                        state[j].cpu().detach().numpy(), \n",
    "                        action[j].cpu().detach().numpy(), \n",
    "                        next_state[j].cpu().detach().numpy(), \n",
    "                        reward[j].cpu().detach().numpy(), \n",
    "                        game_over\n",
    "                    )\n",
    "                \n",
    "                experiment_value += torch.mean(value).item()\n",
    "                experiment_reward += torch.mean(reward).item()\n",
    "        \n",
    "                # Train agent after collecting sufficient data\n",
    "                if (self.replay_buffer.size >= self.replay_buffer.min_size):\n",
    "                    self.policy.train(self.replay_buffer, self.batch_size)\n",
    "\n",
    "                if game_over or stop_early:\n",
    "                    break\n",
    "                    \n",
    "            episode_value.append(experiment_value)\n",
    "            episode_reward.append(experiment_reward)\n",
    "                                \n",
    "            # update tqdm\n",
    "            ep_value = np.mean(episode_value)\n",
    "            ep_reward = np.mean(episode_reward)\n",
    "            to_print = f\"Episode {epoch + 1} training reward: {ep_reward:.3f} value: {ep_value:.3f}\"\n",
    "            batch_group_generator.set_description(to_print)\n",
    "            batch_group_generator.update()\n",
    "            \n",
    "            self.reshuffle += 1\n",
    "            if batch_idx > 0 and (batch_idx % self.batches_per_epoch) == 0:\n",
    "                break\n",
    "            \n",
    "        return np.mean(episode_reward)\n",
    "    \n",
    "        \n",
    "    def test(self, epoch):\n",
    "        self.policy.actor.eval()\n",
    "        self.policy.critic.eval()\n",
    "        with torch.no_grad():\n",
    "            batch_group_generator = tqdm(\n",
    "                enumerate(range(len(self.valid_gen.experiment_subset))),\n",
    "                total=len(self.valid_gen.experiment_subset), \n",
    "                leave=True\n",
    "            )\n",
    "            episode_value = []\n",
    "            episode_reward = []\n",
    "            for batch_idx, exp in batch_group_generator:\n",
    "                experiment_value = 0.0\n",
    "                experiment_reward = 0.0\n",
    "                for i, (x,y,w) in enumerate(self.valid_gen.__getitem__(exp)):\n",
    "                    x = x.to(self.device)\n",
    "                    y = y.to(self.device)\n",
    "                    state = x if i == 0 else next_state.clone()\n",
    "                    action = self.policy.actor(state).clamp(0.0, self.max_state).detach()\n",
    "                    next_state = state.detach()\n",
    "                    next_state[:, :self.policy.action_dim] = action # next state\n",
    "                    \n",
    "                    #loss = torch.mean(torch.abs((action - y)**2), 1) ** (1/2)\n",
    "                    #reward = 1.0 - loss\n",
    "                    reward = Reward(action, y, i+1)\n",
    "                    value = self.policy.critic(state, action).detach()\n",
    "                    \n",
    "                    experiment_value += torch.mean(value).item()\n",
    "                    experiment_reward += torch.mean(reward).item()\n",
    "                    \n",
    "                episode_value.append(experiment_value)\n",
    "                episode_reward.append(experiment_reward)\n",
    "\n",
    "                # update tqdm\n",
    "                ep_value = np.mean(episode_value)\n",
    "                ep_reward = np.mean(episode_reward)\n",
    "                to_print = f\"Episode {epoch + 1} validation reward: {ep_reward:.3f} value: {ep_value:.3f}\"\n",
    "                batch_group_generator.set_description(to_print)\n",
    "                batch_group_generator.update()\n",
    "\n",
    "        return np.mean(episode_reward)\n",
    "    \n",
    "    def train(self,\n",
    "              scheduler,\n",
    "              early_stopping,\n",
    "              metrics_logger):\n",
    "            \n",
    "        logger.info(\n",
    "            f\"Training the model for up to {self.epochs} epochs starting at epoch {self.start_epoch}\"\n",
    "        )\n",
    "\n",
    "        flag_actor = isinstance(scheduler[0], torch.optim.lr_scheduler.ReduceLROnPlateau)\n",
    "        flag_critic = isinstance(scheduler[1], torch.optim.lr_scheduler.ReduceLROnPlateau)\n",
    "\n",
    "        for episode in range(self.start_epoch, self.epochs):\n",
    "            train_loss = self.train_one_epoch(episode)\n",
    "            test_loss = train_loss #self.test(episode)\n",
    "\n",
    "            if scheduler[0] is not None:\n",
    "                scheduler[0].step(-test_loss if flag_actor else episode)\n",
    "            if scheduler[1] is not None:\n",
    "                scheduler[1].step(-test_loss if flag_critic else episode)\n",
    "            \n",
    "            early_stopping(\n",
    "                episode, \n",
    "                -test_loss, # we want to maximize the reward rather than min a loss\n",
    "                self.policy.actor, \n",
    "                self.policy.actor_optimizer,\n",
    "                self.policy.critic, \n",
    "                self.policy.critic_optimizer\n",
    "            )\n",
    "\n",
    "            # Write results to the callback logger \n",
    "            result = {\n",
    "                \"episode\": episode,\n",
    "                \"train_loss\": train_loss,\n",
    "                \"valid_loss\": test_loss,\n",
    "                \"lr_actor\": early_stopping.print_learning_rate(self.policy.actor_optimizer),\n",
    "                \"lr_critic\": early_stopping.print_learning_rate(self.policy.critic_optimizer),\n",
    "                \"forcing_score\": self.tf_annealer(episode) if self.teacher_force else 1.0\n",
    "            }\n",
    "            metrics_logger.update(result)\n",
    "\n",
    "            if early_stopping.early_stop:\n",
    "                logger.info(\"Early stopping\")\n",
    "                break\n",
    "                \n",
    "    def tf_annealer(self, epoch):\n",
    "        return 1.0 * self.gamma ** epoch"
   ]
  },
  {
   "cell_type": "markdown",
   "metadata": {},
   "source": [
    "### Load the trainer class"
   ]
  },
  {
   "cell_type": "code",
   "execution_count": 36,
   "metadata": {},
   "outputs": [],
   "source": [
    "trainer = Trainer(\n",
    "    policy, \n",
    "    train_data_set, \n",
    "    valid_data_set, \n",
    "    test_data_set, \n",
    "    replay_buffer,\n",
    "    device = device,\n",
    "    **config[\"trainer\"]\n",
    ")"
   ]
  },
  {
   "cell_type": "markdown",
   "metadata": {},
   "source": [
    "### Load the callbacks"
   ]
  },
  {
   "cell_type": "code",
   "execution_count": 37,
   "metadata": {},
   "outputs": [],
   "source": [
    "path_save = config[\"callbacks\"][\"path_save\"]\n",
    "\n",
    "# Initialize LR annealing scheduler \n",
    "if \"ReduceLROnPlateau\" in config[\"callbacks\"]:\n",
    "    schedule_config = config[\"callbacks\"][\"ReduceLROnPlateau\"]\n",
    "    scheduler_actor = ReduceLROnPlateau(policy.actor_optimizer, **schedule_config)\n",
    "    scheduler_critic = ReduceLROnPlateau(policy.critic_optimizer, **schedule_config)\n",
    "    #logging.info(\n",
    "    #    f\"Loaded ReduceLROnPlateau learning rate annealer with patience {schedule_config['patience']}\"\n",
    "    #)\n",
    "elif \"ExponentialLR\" in config[\"callbacks\"]:\n",
    "    schedule_config = config[\"callbacks\"][\"ExponentialLR\"]\n",
    "    scheduler_actor = ExponentialLR(policy.actor_optimizer, **schedule_config)\n",
    "    scheduler_critic = ExponentialLR(policy.critic_optimizer, **schedule_config)\n",
    "    #logging.info(\n",
    "    #    f\"Loaded ExponentialLR learning rate annealer with reduce factor {schedule_config['gamma']}\"\n",
    "    #)\n",
    "schedulers = [scheduler_actor, scheduler_critic]\n",
    "\n",
    "# Early stopping\n",
    "checkpoint_config = config[\"callbacks\"][\"EarlyStopping\"]\n",
    "checkpoint_config[\"path_save\"] = os.path.join(path_save, \"checkpoint.pt\")\n",
    "early_stopping = EarlyStopping(**checkpoint_config)\n",
    "\n",
    "# Write metrics to csv each epoch\n",
    "metrics_config = config[\"callbacks\"][\"MetricsLogger\"]\n",
    "metrics_config[\"path_save\"] = path_save\n",
    "metrics_logger = MetricsLogger(**metrics_config)"
   ]
  },
  {
   "cell_type": "markdown",
   "metadata": {},
   "source": [
    "### Train the models"
   ]
  },
  {
   "cell_type": "code",
   "execution_count": 38,
   "metadata": {},
   "outputs": [
    {
     "name": "stderr",
     "output_type": "stream",
     "text": [
      "Episode 1 training reward: 17.262 value: -26859.370: 100%|██████████| 160/160 [02:11<00:00,  1.22it/s]\n",
      "Episode 2 training reward: 21.851 value: 38.214: 100%|██████████| 160/160 [05:17<00:00,  1.99s/it]\n",
      "Episode 3 training reward: 28.493 value: 37.374: 100%|██████████| 160/160 [05:18<00:00,  1.99s/it]\n",
      "Episode 4 training reward: 28.937 value: 79.915: 100%|██████████| 160/160 [05:18<00:00,  1.99s/it]\n",
      "Episode 5 training reward: 28.941 value: 67.978: 100%|██████████| 160/160 [05:18<00:00,  1.99s/it]\n",
      "Episode 6 training reward: 26.926 value: 43.136: 100%|██████████| 160/160 [05:19<00:00,  1.99s/it]\n",
      "Episode 7 training reward: 23.326 value: 26.982: 100%|██████████| 160/160 [05:24<00:00,  2.03s/it]\n",
      "Episode 8 training reward: 25.504 value: 30.521: 100%|██████████| 160/160 [05:29<00:00,  2.06s/it]\n",
      "Episode 9 training reward: 28.106 value: 33.178: 100%|██████████| 160/160 [05:30<00:00,  2.06s/it]\n",
      "Episode 10 training reward: 28.381 value: 32.328: 100%|██████████| 151/151 [05:31<00:00,  2.19s/it]\n",
      "Episode 11 training reward: 27.623 value: 31.106: 100%|██████████| 160/160 [06:45<00:00,  2.53s/it]\n",
      "Episode 12 training reward: 26.775 value: 27.722:   9%|▉         | 14/160 [00:37<06:27,  2.65s/it]\n"
     ]
    },
    {
     "ename": "KeyboardInterrupt",
     "evalue": "",
     "output_type": "error",
     "traceback": [
      "\u001b[0;31m---------------------------------------------------------------------------\u001b[0m",
      "\u001b[0;31mKeyboardInterrupt\u001b[0m                         Traceback (most recent call last)",
      "\u001b[0;32m<ipython-input-38-332e6c190869>\u001b[0m in \u001b[0;36m<module>\u001b[0;34m\u001b[0m\n\u001b[0;32m----> 1\u001b[0;31m \u001b[0mtrainer\u001b[0m\u001b[0;34m.\u001b[0m\u001b[0mtrain\u001b[0m\u001b[0;34m(\u001b[0m\u001b[0mschedulers\u001b[0m\u001b[0;34m,\u001b[0m \u001b[0mearly_stopping\u001b[0m\u001b[0;34m,\u001b[0m \u001b[0mmetrics_logger\u001b[0m\u001b[0;34m)\u001b[0m\u001b[0;34m\u001b[0m\u001b[0;34m\u001b[0m\u001b[0m\n\u001b[0m",
      "\u001b[0;32m<ipython-input-35-8970ce18773f>\u001b[0m in \u001b[0;36mtrain\u001b[0;34m(self, scheduler, early_stopping, metrics_logger)\u001b[0m\n\u001b[1;32m    251\u001b[0m \u001b[0;34m\u001b[0m\u001b[0m\n\u001b[1;32m    252\u001b[0m         \u001b[0;32mfor\u001b[0m \u001b[0mepisode\u001b[0m \u001b[0;32min\u001b[0m \u001b[0mrange\u001b[0m\u001b[0;34m(\u001b[0m\u001b[0mself\u001b[0m\u001b[0;34m.\u001b[0m\u001b[0mstart_epoch\u001b[0m\u001b[0;34m,\u001b[0m \u001b[0mself\u001b[0m\u001b[0;34m.\u001b[0m\u001b[0mepochs\u001b[0m\u001b[0;34m)\u001b[0m\u001b[0;34m:\u001b[0m\u001b[0;34m\u001b[0m\u001b[0;34m\u001b[0m\u001b[0m\n\u001b[0;32m--> 253\u001b[0;31m             \u001b[0mtrain_loss\u001b[0m \u001b[0;34m=\u001b[0m \u001b[0mself\u001b[0m\u001b[0;34m.\u001b[0m\u001b[0mtrain_one_epoch\u001b[0m\u001b[0;34m(\u001b[0m\u001b[0mepisode\u001b[0m\u001b[0;34m)\u001b[0m\u001b[0;34m\u001b[0m\u001b[0;34m\u001b[0m\u001b[0m\n\u001b[0m\u001b[1;32m    254\u001b[0m             \u001b[0mtest_loss\u001b[0m \u001b[0;34m=\u001b[0m \u001b[0mtrain_loss\u001b[0m \u001b[0;31m#self.test(episode)\u001b[0m\u001b[0;34m\u001b[0m\u001b[0;34m\u001b[0m\u001b[0m\n\u001b[1;32m    255\u001b[0m \u001b[0;34m\u001b[0m\u001b[0m\n",
      "\u001b[0;32m<ipython-input-35-8970ce18773f>\u001b[0m in \u001b[0;36mtrain_one_epoch\u001b[0;34m(self, epoch)\u001b[0m\n\u001b[1;32m    163\u001b[0m                     self.replay_buffer.add(\n\u001b[1;32m    164\u001b[0m                         \u001b[0mstate\u001b[0m\u001b[0;34m[\u001b[0m\u001b[0mj\u001b[0m\u001b[0;34m]\u001b[0m\u001b[0;34m.\u001b[0m\u001b[0mcpu\u001b[0m\u001b[0;34m(\u001b[0m\u001b[0;34m)\u001b[0m\u001b[0;34m.\u001b[0m\u001b[0mdetach\u001b[0m\u001b[0;34m(\u001b[0m\u001b[0;34m)\u001b[0m\u001b[0;34m.\u001b[0m\u001b[0mnumpy\u001b[0m\u001b[0;34m(\u001b[0m\u001b[0;34m)\u001b[0m\u001b[0;34m,\u001b[0m\u001b[0;34m\u001b[0m\u001b[0;34m\u001b[0m\u001b[0m\n\u001b[0;32m--> 165\u001b[0;31m                         \u001b[0maction\u001b[0m\u001b[0;34m[\u001b[0m\u001b[0mj\u001b[0m\u001b[0;34m]\u001b[0m\u001b[0;34m.\u001b[0m\u001b[0mcpu\u001b[0m\u001b[0;34m(\u001b[0m\u001b[0;34m)\u001b[0m\u001b[0;34m.\u001b[0m\u001b[0mdetach\u001b[0m\u001b[0;34m(\u001b[0m\u001b[0;34m)\u001b[0m\u001b[0;34m.\u001b[0m\u001b[0mnumpy\u001b[0m\u001b[0;34m(\u001b[0m\u001b[0;34m)\u001b[0m\u001b[0;34m,\u001b[0m\u001b[0;34m\u001b[0m\u001b[0;34m\u001b[0m\u001b[0m\n\u001b[0m\u001b[1;32m    166\u001b[0m                         \u001b[0mnext_state\u001b[0m\u001b[0;34m[\u001b[0m\u001b[0mj\u001b[0m\u001b[0;34m]\u001b[0m\u001b[0;34m.\u001b[0m\u001b[0mcpu\u001b[0m\u001b[0;34m(\u001b[0m\u001b[0;34m)\u001b[0m\u001b[0;34m.\u001b[0m\u001b[0mdetach\u001b[0m\u001b[0;34m(\u001b[0m\u001b[0;34m)\u001b[0m\u001b[0;34m.\u001b[0m\u001b[0mnumpy\u001b[0m\u001b[0;34m(\u001b[0m\u001b[0;34m)\u001b[0m\u001b[0;34m,\u001b[0m\u001b[0;34m\u001b[0m\u001b[0;34m\u001b[0m\u001b[0m\n\u001b[1;32m    167\u001b[0m                         \u001b[0mreward\u001b[0m\u001b[0;34m[\u001b[0m\u001b[0mj\u001b[0m\u001b[0;34m]\u001b[0m\u001b[0;34m.\u001b[0m\u001b[0mcpu\u001b[0m\u001b[0;34m(\u001b[0m\u001b[0;34m)\u001b[0m\u001b[0;34m.\u001b[0m\u001b[0mdetach\u001b[0m\u001b[0;34m(\u001b[0m\u001b[0;34m)\u001b[0m\u001b[0;34m.\u001b[0m\u001b[0mnumpy\u001b[0m\u001b[0;34m(\u001b[0m\u001b[0;34m)\u001b[0m\u001b[0;34m,\u001b[0m\u001b[0;34m\u001b[0m\u001b[0;34m\u001b[0m\u001b[0m\n",
      "\u001b[0;31mKeyboardInterrupt\u001b[0m: "
     ]
    }
   ],
   "source": [
    "trainer.train(schedulers, early_stopping, metrics_logger)"
   ]
  },
  {
   "cell_type": "markdown",
   "metadata": {},
   "source": [
    "### Evaluate the best policy found"
   ]
  },
  {
   "cell_type": "code",
   "execution_count": 18,
   "metadata": {},
   "outputs": [
    {
     "data": {
      "text/plain": [
       "<All keys matched successfully>"
      ]
     },
     "execution_count": 18,
     "metadata": {},
     "output_type": "execute_result"
    }
   ],
   "source": [
    "actor_dict = torch.load(\"results/100_no_tf/actor_best.pt\", map_location=lambda storage, loc: storage)\n",
    "trainer.policy.actor.load_state_dict(actor_dict[\"model_state_dict\"])"
   ]
  },
  {
   "cell_type": "code",
   "execution_count": 19,
   "metadata": {},
   "outputs": [
    {
     "data": {
      "text/plain": [
       "<All keys matched successfully>"
      ]
     },
     "execution_count": 19,
     "metadata": {},
     "output_type": "execute_result"
    }
   ],
   "source": [
    "critic_dict = torch.load(\"results/100_no_tf/critic_best.pt\", map_location=lambda storage, loc: storage)\n",
    "trainer.policy.critic.load_state_dict(critic_dict[\"model_state_dict\"])"
   ]
  },
  {
   "cell_type": "code",
   "execution_count": 39,
   "metadata": {},
   "outputs": [
    {
     "data": {
      "text/plain": [
       "Critic(\n",
       "  (l1): Linear(in_features=35, out_features=10000, bias=True)\n",
       "  (l2): Linear(in_features=10029, out_features=1000, bias=True)\n",
       "  (l3): Linear(in_features=1000, out_features=1, bias=True)\n",
       ")"
      ]
     },
     "execution_count": 39,
     "metadata": {},
     "output_type": "execute_result"
    }
   ],
   "source": [
    "trainer.policy.actor.eval()\n",
    "trainer.policy.critic.eval()"
   ]
  },
  {
   "cell_type": "code",
   "execution_count": 40,
   "metadata": {},
   "outputs": [],
   "source": [
    "exp = 0"
   ]
  },
  {
   "cell_type": "code",
   "execution_count": 41,
   "metadata": {},
   "outputs": [],
   "source": [
    "y_true, y_pred = [], []\n",
    "experiment_value = []\n",
    "experiment_reward = []\n",
    "for i, (x,y,w) in enumerate(test_data_set.__getitem__(exp)):\n",
    "    x = x.to(device)\n",
    "    y = y.to(device)\n",
    "    state = x if i == 0 else next_state.clone()\n",
    "    action = trainer.policy.actor(state).detach()\n",
    "    next_state = state.detach()\n",
    "    next_state[:, :trainer.policy.action_dim] = action # next state\n",
    "    \n",
    "    loss = nn.L1Loss()(action, y)\n",
    "    reward = 1.0 - loss\n",
    "    value = trainer.policy.critic(state, action).detach()\n",
    "\n",
    "    experiment_value.append(value.item())\n",
    "    experiment_reward.append(reward.item())\n",
    "    y_true.append(y)\n",
    "    y_pred.append(action)"
   ]
  },
  {
   "cell_type": "code",
   "execution_count": 42,
   "metadata": {},
   "outputs": [],
   "source": [
    "def quantities(Y):\n",
    "    a, b, c = [], [], []\n",
    "    for y in Y:\n",
    "        y = y[0, :]\n",
    "        prec = y[0]\n",
    "        gas = y[1:15].sum(-1)/14\n",
    "        aero = y[15:].sum(-1)/14\n",
    "        a.append(prec.item())\n",
    "        b.append(gas.item())\n",
    "        c.append(aero.item())\n",
    "    return a, b, c"
   ]
  },
  {
   "cell_type": "code",
   "execution_count": 43,
   "metadata": {},
   "outputs": [],
   "source": [
    "prec_pred, gas_pred, aero_pred = quantities(y_pred)\n",
    "prec_true, gas_true, aero_true = quantities(y_true)"
   ]
  },
  {
   "cell_type": "code",
   "execution_count": 44,
   "metadata": {},
   "outputs": [
    {
     "data": {
      "text/plain": [
       "(0.0, 1.01)"
      ]
     },
     "execution_count": 44,
     "metadata": {},
     "output_type": "execute_result"
    },
    {
     "data": {
      "image/png": "[encoded data removed]",
      "text/plain": [
       "<Figure size 432x288 with 1 Axes>"
      ]
     },
     "metadata": {
      "needs_background": "light"
     },
     "output_type": "display_data"
    }
   ],
   "source": [
    "plt.plot(range(len(prec_pred)), prec_pred)\n",
    "plt.plot(range(len(prec_pred)), prec_true)\n",
    "\n",
    "plt.legend([\"Predicted\", \"True\"])\n",
    "\n",
    "plt.ylabel(\"Precursor/Gas/Aerosol\")\n",
    "plt.xlabel(\"Time steps\")\n",
    "\n",
    "plt.xlim([0, 100])\n",
    "plt.ylim([0.0, 1.01])"
   ]
  },
  {
   "cell_type": "code",
   "execution_count": 45,
   "metadata": {},
   "outputs": [
    {
     "data": {
      "text/plain": [
       "(0.0, 1.01)"
      ]
     },
     "execution_count": 45,
     "metadata": {},
     "output_type": "execute_result"
    },
    {
     "data": {
      "image/png": "[encoded data removed]",
      "text/plain": [
       "<Figure size 432x288 with 1 Axes>"
      ]
     },
     "metadata": {
      "needs_background": "light"
     },
     "output_type": "display_data"
    }
   ],
   "source": [
    "plt.plot(range(len(prec_pred)), gas_pred)\n",
    "plt.plot(range(len(prec_pred)), gas_true)\n",
    "\n",
    "plt.legend([\"Predicted\", \"True\"])\n",
    "\n",
    "plt.ylabel(\"Precursor/Gas/Aerosol\")\n",
    "plt.xlabel(\"Time steps\")\n",
    "\n",
    "plt.xlim([0, 100])\n",
    "plt.ylim([0.0, 1.01])"
   ]
  },
  {
   "cell_type": "code",
   "execution_count": 46,
   "metadata": {},
   "outputs": [
    {
     "data": {
      "text/plain": [
       "(0.0, 1.01)"
      ]
     },
     "execution_count": 46,
     "metadata": {},
     "output_type": "execute_result"
    },
    {
     "data": {
      "image/png": "[encoded data removed]",
      "text/plain": [
       "<Figure size 432x288 with 1 Axes>"
      ]
     },
     "metadata": {
      "needs_background": "light"
     },
     "output_type": "display_data"
    }
   ],
   "source": [
    "plt.plot(range(len(prec_pred)), aero_pred)\n",
    "plt.plot(range(len(prec_pred)), aero_true)\n",
    "\n",
    "plt.legend([\"Predicted\", \"True\"])\n",
    "\n",
    "plt.ylabel(\"Precursor/Gas/Aerosol\")\n",
    "plt.xlabel(\"Time steps\")\n",
    "\n",
    "plt.xlim([0, 100])\n",
    "plt.ylim([0.0, 1.01])"
   ]
  },
  {
   "cell_type": "code",
   "execution_count": 47,
   "metadata": {},
   "outputs": [
    {
     "data": {
      "text/plain": [
       "(0.0, 0.8354372620582581)"
      ]
     },
     "execution_count": 47,
     "metadata": {},
     "output_type": "execute_result"
    },
    {
     "data": {
      "image/png": "[encoded data removed]",
      "text/plain": [
       "<Figure size 432x288 with 1 Axes>"
      ]
     },
     "metadata": {
      "needs_background": "light"
     },
     "output_type": "display_data"
    }
   ],
   "source": [
    "plt.plot(range(len(experiment_reward)), experiment_reward)\n",
    "\n",
    "plt.xlim([0, 100])\n",
    "plt.ylim([0, 1.05 * max(experiment_reward)])"
   ]
  },
  {
   "cell_type": "code",
   "execution_count": null,
   "metadata": {},
   "outputs": [],
   "source": []
  },
  {
   "cell_type": "code",
   "execution_count": null,
   "metadata": {},
   "outputs": [],
   "source": []
  }
 ],
 "metadata": {
  "kernelspec": {
   "display_name": "py37",
   "language": "python",
   "name": "py37"
  },
  "language_info": {
   "codemirror_mode": {
    "name": "ipython",
    "version": 3
   },
   "file_extension": ".py",
   "mimetype": "text/x-python",
   "name": "python",
   "nbconvert_exporter": "python",
   "pygments_lexer": "ipython3",
   "version": "3.7.5"
  }
 },
 "nbformat": 4,
 "nbformat_minor": 4
}
