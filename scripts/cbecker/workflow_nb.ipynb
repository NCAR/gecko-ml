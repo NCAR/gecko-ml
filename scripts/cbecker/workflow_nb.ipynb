{
 "cells": [
  {
   "cell_type": "code",
   "execution_count": 1,
   "metadata": {},
   "outputs": [],
   "source": [
    "from sklearn.model_selection import GroupShuffleSplit\n",
    "from sklearn.preprocessing import StandardScaler, RobustScaler, MaxAbsScaler, MinMaxScaler\n",
    "from geckoml.models import DenseNeuralNetwork\n",
    "import matplotlib.pyplot as plt\n",
    "import dask.dataframe as dd\n",
    "from dask import delayed\n",
    "import pandas as pd\n",
    "import glob\n",
    "import re\n",
    "import numpy as np\n",
    "import argparse\n",
    "import yaml\n",
    "\n",
    "\n",
    "scalers = {\"MinMaxScaler\": MinMaxScaler,\n",
    "           \"MaxAbsScaler\": MaxAbsScaler,\n",
    "           \"StandardScaler\": StandardScaler,\n",
    "           \"RobustScaler\": RobustScaler}\n",
    "\n",
    "##################################\n",
    "\n",
    "def get_data_serial(file_path, summary_file, bin_prefix, input_vars, output_vars, aggregate_bins):\n",
    "    \"\"\"\n",
    "        Load an experiment file based on a summary file; combine data from summary into experiment file\n",
    "    \n",
    "    Args:\n",
    "        file_path: Experiment file to load\n",
    "        summary_file: Full path of the summary file \n",
    "        bin_prefix: Prefix of compound volitility bins if aggregation is used\n",
    "        input_vars: List of varibles to subset for input\n",
    "        ouput_vars: List of varibles to subset for ouput\n",
    "        aggregate_bins: Boolean to aggregate bins\n",
    "    \n",
    "    Returns:\n",
    "        input_subset: All input variable time series data for every experiment in pandas DataFrame\n",
    "        output_subset: All ouput variable time series data for every experiment in pandas DataFrame\n",
    "                       lagged by one time step\n",
    "    \"\"\"\n",
    "    \n",
    "    df = pd.read_csv(file_path)\n",
    "    df.columns = [x.strip() for x in df.columns]\n",
    "    exp_num = int(re.findall(\"_Exp(\\d+).csv\", file_path)[0])\n",
    "    \n",
    "    for variable in summary_file.columns:\n",
    "        \n",
    "        df[variable] = summary_file[summary_file['id'] == \n",
    "                                    'Exp{}'.format(exp_num)][variable][exp_num]\n",
    "    if aggregate_bins: \n",
    "        \n",
    "        for prefix in bin_prefix:\n",
    "\n",
    "            df[prefix] = df.loc[:, df.columns.str.contains(prefix, regex=False)].sum(axis=1)\n",
    "            \n",
    "    input_subset, output_subset = df[input_vars].iloc[:-1,:], df[output_vars].iloc[1:,:]\n",
    "    \n",
    "    return input_subset, output_subset\n",
    "\n",
    "\n",
    "def combine_data(dir_path, summary_file, aggregate_bins, bin_prefix,\n",
    "                 input_vars, output_vars, min_exp, max_exp):\n",
    "    \"\"\"\n",
    "        Distribute get_serial_data() using dask to parallelize tasks and concatenate dataframes \n",
    "    \n",
    "    Args:\n",
    "        summary_path: Full path of summary file\n",
    "        min_exp: Minimum experiment number to process\n",
    "        max_exp: Maximum experiment number to process\n",
    "    \n",
    "    Returns:\n",
    "        input_subset: Complete pandas input dataframe \n",
    "        output_subset: Complete pandas output dataframe (lagged by one time step)\n",
    "    \"\"\"\n",
    "    summary = pd.read_csv(dir_path+summary_file, skiprows=3)\n",
    "    summary.columns = [x.strip() for x in summary.columns]\n",
    "    \n",
    "    dfs_in = [delayed(get_data_serial)\n",
    "              (f, summary, bin_prefix=bin_prefix, input_vars=input_vars, output_vars=output_vars,\n",
    "               aggregate_bins=aggregate_bins)[0] for f in sorted_filelist[min_exp:max_exp + 1]] \n",
    "    dfs_out = [delayed(get_data_serial)\n",
    "               (f, summary, bin_prefix=bin_prefix, input_vars=input_vars, output_vars=output_vars,\n",
    "                aggregate_bins=aggregate_bins)[1] for f in sorted_filelist[min_exp:max_exp + 1]] \n",
    "\n",
    "    ddf_in, ddf_out = dd.from_delayed(dfs_in), dd.from_delayed(dfs_out)  # assemble dask dfs\n",
    "    \n",
    "    df_in = ddf_in.compute(scheduler='processes').reset_index() # transform back to pandas df\n",
    "    df_out = ddf_out.compute(scheduler='processes').reset_index() \n",
    "\n",
    "    del df_in['index'], df_out['index']\n",
    "        \n",
    "    return df_in, df_out\n",
    "\n",
    "def split_data(input_data, output_data, n_splits=2, random_state=8):\n",
    "    \"\"\"\n",
    "        Split data, by experiment, into training/validation/testing sets for both input/output dataframes\n",
    "    \n",
    "    Args:\n",
    "        input_data: Complete input dataframe to process\n",
    "        output_data: Complete output dataframe to process\n",
    "        n_splits: Number of re-shuffling & splitting iterations\n",
    "    \n",
    "    Returns:\n",
    "        in_train: training data input as pandas df (80% total input)\n",
    "        in_val: validation data input as pandas df (10% total input)\n",
    "        in_test: testing data input as pandas df (10% total input)\n",
    "        out_train: training data output as pandas df (80% total output)\n",
    "        out_val: validation data output as pandas df (10% total output)\n",
    "        out_test: testing data output as pandas df (10% total output)\n",
    "    \"\"\"\n",
    "    train_indx, remain_indx = next(GroupShuffleSplit(test_size=.2, n_splits=n_splits,\n",
    "                                    random_state=random_state).split(input_data, groups=input_data['id']))\n",
    "    \n",
    "    in_train, out_train = input_data.iloc[train_indx], output_data.iloc[train_indx]\n",
    "    remain_in, remain_out = input_data.iloc[remain_indx], output_data.iloc[remain_indx]\n",
    "    \n",
    "    val_indx, test_indx = next(GroupShuffleSplit(test_size=.5, n_splits=n_splits,\n",
    "                                    random_state=random_state).split(remain_in, groups=remain_in['id']))\n",
    "     \n",
    "    in_val, out_val = remain_in.iloc[val_indx], remain_out.iloc[val_indx]\n",
    "    in_test, out_test = remain_in.iloc[test_indx], remain_out.iloc[test_indx]\n",
    "\n",
    "    return in_train, out_train, in_val, out_val, in_test, out_test\n",
    "\n",
    "def repopulate_scaler(scale_data, scaler_type=\"StandardScaler\"):\n",
    "    \"\"\"\n",
    "    Given a csv file containing scaling values, repopulate a scikit-learn\n",
    "    scaling object with those same values.\n",
    "    Args:\n",
    "        scale_file (str): path to csv file containing scale values\n",
    "        scaler_type (str):\n",
    "    Returns:\n",
    "        scaler_obj: Scaler Object with normalizing values specified.\n",
    "    \"\"\"\n",
    "    scaler_obj = scalers[scaler_type]()\n",
    "    for column in scale_data.columns[1:]:\n",
    "        setattr(scaler_obj, column + \"_\", scale_data[column].values)\n",
    "    return scaler_obj"
   ]
  },
  {
   "cell_type": "code",
   "execution_count": null,
   "metadata": {},
   "outputs": [],
   "source": []
  },
  {
   "cell_type": "code",
   "execution_count": 3,
   "metadata": {},
   "outputs": [
    {
     "ename": "FileNotFoundError",
     "evalue": "[Errno 2] No such file or directory: '/glade/u/home/cbecker/gecko-ml/cbecker/agg_config.yml'",
     "output_type": "error",
     "traceback": [
      "\u001b[0;31m---------------------------------------------------------------------------\u001b[0m",
      "\u001b[0;31mFileNotFoundError\u001b[0m                         Traceback (most recent call last)",
      "\u001b[0;32m<timed exec>\u001b[0m in \u001b[0;36m<module>\u001b[0;34m\u001b[0m\n",
      "\u001b[0;31mFileNotFoundError\u001b[0m: [Errno 2] No such file or directory: '/glade/u/home/cbecker/gecko-ml/cbecker/agg_config.yml'"
     ]
    }
   ],
   "source": [
    "%%time\n",
    "\n",
    "parser = argparse.ArgumentParser()\n",
    "#parser.add_argument(\"config\", required=True, help=\"Path to config file\")\n",
    "#args = parser.parse_args()\n",
    "\n",
    "\n",
    "with open('/glade/u/home/cbecker/gecko-ml/cbecker/agg_config.yml') as config_file:\n",
    "    config = yaml.load(config_file, Loader=yaml.FullLoader)\n",
    "\n",
    "# Extract config arguments and validate if necessary\n",
    "\n",
    "dir_path = config['dir_path']\n",
    "summary_file = config['summary_file']\n",
    "aggregate_bins = config['aggregate_bins']\n",
    "bin_prefix = config['bin_prefix']\n",
    "min_exp = config['min_exp']\n",
    "max_exp = config['max_exp']\n",
    "input_vars = config['input_vars']\n",
    "output_vars = config['output_vars']\n",
    "\n",
    "file_list = glob.glob(dir_path+'ML2019_dodecane_ML2019_Exp*')\n",
    "sorted_filelist = sorted(file_list, key=lambda x:list(map(int, re.findall(\"_Exp(\\d+).csv\", x))))\n",
    "\n",
    "\n",
    "# Load GECKO experiment data, split into ML inputs and outputs and persistence outputs\n",
    "input_data, output_data = combine_data(dir_path, summary_file, aggregate_bins, bin_prefix,\n",
    "                                       input_vars, output_vars, min_exp, max_exp)\n",
    "\n",
    "# Split into training, validation, testing subsets\n",
    "in_train, out_train, in_val, out_val, in_test, out_test = split_data(input_data, output_data)\n",
    "\n",
    "# Rescale training and validation / testing data\n",
    "scaled_in_train = repopulate_scaler(in_train).fit_transform(in_train.iloc[:,:-1])\n",
    "scaled_in_val = repopulate_scaler(in_val).fit_transform(in_val.iloc[:,:-1])\n",
    "scaled_out_train = repopulate_scaler(out_train).fit_transform(out_train.iloc[:,:-1])\n",
    "scaled_out_val = repopulate_scaler(out_val).fit_transform(out_val.iloc[:,:-1])\n",
    "\n",
    "# Train ML models\n",
    "\n",
    "# Calculate validation and testing scores\n",
    "\n",
    "# Save ML models, scaling values, and verification data to disk\n",
    "\n",
    "#if __name__ == \"__main__\":\n",
    "#    main()"
   ]
  },
  {
   "cell_type": "code",
   "execution_count": 2,
   "metadata": {},
   "outputs": [
    {
     "ename": "NameError",
     "evalue": "name 'scaled_in_train' is not defined",
     "output_type": "error",
     "traceback": [
      "\u001b[0;31m---------------------------------------------------------------------------\u001b[0m",
      "\u001b[0;31mNameError\u001b[0m                                 Traceback (most recent call last)",
      "\u001b[0;32m<ipython-input-2-6fb85c18516a>\u001b[0m in \u001b[0;36m<module>\u001b[0;34m\u001b[0m\n\u001b[1;32m      1\u001b[0m \u001b[0mdn\u001b[0m \u001b[0;34m=\u001b[0m \u001b[0mDenseNeuralNetwork\u001b[0m\u001b[0;34m(\u001b[0m\u001b[0mhidden_layers\u001b[0m\u001b[0;34m=\u001b[0m\u001b[0;36m2\u001b[0m\u001b[0;34m,\u001b[0m \u001b[0mhidden_neurons\u001b[0m\u001b[0;34m=\u001b[0m\u001b[0;36m100\u001b[0m\u001b[0;34m,\u001b[0m\u001b[0mverbose\u001b[0m\u001b[0;34m=\u001b[0m\u001b[0;36m1\u001b[0m\u001b[0;34m,\u001b[0m\u001b[0mlr\u001b[0m\u001b[0;34m=\u001b[0m\u001b[0;36m0.0001\u001b[0m\u001b[0;34m,\u001b[0m\u001b[0mbatch_size\u001b[0m\u001b[0;34m=\u001b[0m\u001b[0;36m512\u001b[0m\u001b[0;34m,\u001b[0m \u001b[0mepochs\u001b[0m\u001b[0;34m=\u001b[0m\u001b[0;36m5\u001b[0m\u001b[0;34m)\u001b[0m\u001b[0;34m\u001b[0m\u001b[0;34m\u001b[0m\u001b[0m\n\u001b[0;32m----> 2\u001b[0;31m \u001b[0mdn\u001b[0m\u001b[0;34m.\u001b[0m\u001b[0mfit\u001b[0m\u001b[0;34m(\u001b[0m\u001b[0mscaled_in_train\u001b[0m\u001b[0;34m,\u001b[0m\u001b[0mscaled_out_train\u001b[0m\u001b[0;34m)\u001b[0m\u001b[0;34m\u001b[0m\u001b[0;34m\u001b[0m\u001b[0m\n\u001b[0m\u001b[1;32m      3\u001b[0m \u001b[0mpreds\u001b[0m \u001b[0;34m=\u001b[0m \u001b[0mpd\u001b[0m\u001b[0;34m.\u001b[0m\u001b[0mDataFrame\u001b[0m\u001b[0;34m(\u001b[0m\u001b[0mdn\u001b[0m\u001b[0;34m.\u001b[0m\u001b[0mpredict\u001b[0m\u001b[0;34m(\u001b[0m\u001b[0mscaled_in_val\u001b[0m\u001b[0;34m)\u001b[0m\u001b[0;34m.\u001b[0m\u001b[0mreshape\u001b[0m\u001b[0;34m(\u001b[0m\u001b[0;34m-\u001b[0m\u001b[0;36m1\u001b[0m\u001b[0;34m,\u001b[0m\u001b[0mscaled_out_train\u001b[0m\u001b[0;34m.\u001b[0m\u001b[0mshape\u001b[0m\u001b[0;34m[\u001b[0m\u001b[0;36m1\u001b[0m\u001b[0;34m]\u001b[0m\u001b[0;34m)\u001b[0m\u001b[0;34m)\u001b[0m\u001b[0;34m\u001b[0m\u001b[0;34m\u001b[0m\u001b[0m\n\u001b[1;32m      4\u001b[0m \u001b[0;31m#rescaled_preds = repopulate_scaler(preds).inverse_transform(preds)\u001b[0m\u001b[0;34m\u001b[0m\u001b[0;34m\u001b[0m\u001b[0;34m\u001b[0m\u001b[0m\n",
      "\u001b[0;31mNameError\u001b[0m: name 'scaled_in_train' is not defined"
     ]
    }
   ],
   "source": [
    "dn = DenseNeuralNetwork(hidden_layers=2, hidden_neurons=100,verbose=1,lr=0.0001,batch_size=512, epochs=5)\n",
    "dn.fit(scaled_in_train,scaled_out_train)\n",
    "preds = pd.DataFrame(dn.predict(scaled_in_val).reshape(-1,scaled_out_train.shape[1]))\n",
    "#rescaled_preds = repopulate_scaler(preds).inverse_transform(preds)"
   ]
  },
  {
   "cell_type": "code",
   "execution_count": 10,
   "metadata": {},
   "outputs": [
    {
     "data": {
      "text/plain": [
       "[<matplotlib.lines.Line2D at 0x2afa3b03fed0>]"
      ]
     },
     "execution_count": 10,
     "metadata": {},
     "output_type": "execute_result"
    },
    {
     "data": {
      "image/png": "[encoded data removed]",
      "text/plain": [
       "<Figure size 432x288 with 1 Axes>"
      ]
     },
     "metadata": {
      "needs_background": "light"
     },
     "output_type": "display_data"
    }
   ],
   "source": [
    "plt.plot(preds.iloc[:10000,2])\n",
    "plt.plot(scaled_out_val[:10000,2])"
   ]
  },
  {
   "cell_type": "code",
   "execution_count": 6,
   "metadata": {},
   "outputs": [
    {
     "ename": "NameError",
     "evalue": "name 'preds' is not defined",
     "output_type": "error",
     "traceback": [
      "\u001b[0;31m---------------------------------------------------------------------------\u001b[0m",
      "\u001b[0;31mNameError\u001b[0m                                 Traceback (most recent call last)",
      "\u001b[0;32m<ipython-input-6-c66c8509e20f>\u001b[0m in \u001b[0;36m<module>\u001b[0;34m\u001b[0m\n\u001b[0;32m----> 1\u001b[0;31m \u001b[0mpreds\u001b[0m\u001b[0;34m\u001b[0m\u001b[0;34m\u001b[0m\u001b[0m\n\u001b[0m",
      "\u001b[0;31mNameError\u001b[0m: name 'preds' is not defined"
     ]
    }
   ],
   "source": [
    "preds"
   ]
  },
  {
   "cell_type": "code",
   "execution_count": null,
   "metadata": {},
   "outputs": [],
   "source": []
  }
 ],
 "metadata": {
  "kernelspec": {
   "display_name": "Python 3",
   "language": "python",
   "name": "python3"
  },
  "language_info": {
   "codemirror_mode": {
    "name": "ipython",
    "version": 3
   },
   "file_extension": ".py",
   "mimetype": "text/x-python",
   "name": "python",
   "nbconvert_exporter": "python",
   "pygments_lexer": "ipython3",
   "version": "3.7.6"
  }
 },
 "nbformat": 4,
 "nbformat_minor": 4
}
