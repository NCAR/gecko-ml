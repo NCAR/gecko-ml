{
 "cells": [
  {
   "cell_type": "code",
   "execution_count": 39,
   "metadata": {},
   "outputs": [],
   "source": [
    "%matplotlib inline\n",
    "import pandas as pd\n",
    "import numpy as np\n",
    "import matplotlib.pyplot as plt\n",
    "from glob import glob\n",
    "from os.path import join, exists\n",
    "from matplotlib.colors import LogNorm"
   ]
  },
  {
   "cell_type": "code",
   "execution_count": 7,
   "metadata": {},
   "outputs": [],
   "source": [
    "master_list_file = \"/glade/scratch/siyuan/POSTPROCESSING/ML2019_toluene/ML2019_toluene_postproc/GAR0084_Exp_List_master.csv\"\n",
    "master_list = pd.read_csv(master_list_file, skiprows=3)"
   ]
  },
  {
   "cell_type": "code",
   "execution_count": 99,
   "metadata": {},
   "outputs": [
    {
     "data": {
      "text/plain": [
       "id                                Exp42\n",
       " temperature (K)                    300\n",
       " solar zenith angle (degree)          0\n",
       " pre-existing aerosols (ug/m3)       10\n",
       " o3 (ppb)                            70\n",
       " nox (ppb)                         0.01\n",
       " oh (10^6 molec/cm3)                  5\n",
       "Name: 42, dtype: object"
      ]
     },
     "execution_count": 99,
     "metadata": {},
     "output_type": "execute_result"
    }
   ],
   "source": [
    "master_list.iloc[42]"
   ]
  },
  {
   "cell_type": "code",
   "execution_count": 65,
   "metadata": {},
   "outputs": [
    {
     "name": "stdout",
     "output_type": "stream",
     "text": [
      "id ['Exp0' 'Exp1' 'Exp2' ... 'Exp1677' 'Exp1678' 'Exp1679']\n",
      " temperature (K) [300]\n",
      " solar zenith angle (degree) [ 0 30 60 90]\n",
      " pre-existing aerosols (ug/m3) [1.e+01 3.e+00 1.e+00 1.e+02 1.e-01 1.e-02]\n",
      " o3 (ppb) [10 30 50 70 90]\n",
      " nox (ppb) [ 0.01  0.03  0.1   0.3   1.    3.   10.  ]\n",
      " oh (10^6 molec/cm3) [ 5 10]\n"
     ]
    }
   ],
   "source": [
    "for col in master_list.columns:\n",
    "    print(col, master_list[col].unique())"
   ]
  },
  {
   "cell_type": "code",
   "execution_count": 13,
   "metadata": {},
   "outputs": [],
   "source": [
    "exp_data_path = \"/glade/scratch/siyuan/POSTPROCESSING/ML2019_toluene/ML2019_toluene_postproc/\"\n",
    "exp_data_files = sorted(glob(join(exp_data_path, \"ML2019*.csv\")))"
   ]
  },
  {
   "cell_type": "code",
   "execution_count": 72,
   "metadata": {},
   "outputs": [],
   "source": [
    "file_template = \"ML2019_toluene_ML2019_{exp}.csv\"\n",
    "exp_data = []\n",
    "for exp in master_list[\"id\"]:\n",
    "    filename = join(exp_data_path, f\"ML2019_toluene_ML2019_{exp}.csv\")\n",
    "    exp_data.append(pd.read_csv(filename))\n",
    "    exp_data[-1].insert(0, \"id\", exp)"
   ]
  },
  {
   "cell_type": "code",
   "execution_count": 74,
   "metadata": {},
   "outputs": [],
   "source": [
    "all_exp_data = pd.concat(exp_data, ignore_index=True)"
   ]
  },
  {
   "cell_type": "code",
   "execution_count": 76,
   "metadata": {},
   "outputs": [
    {
     "data": {
      "text/html": [
       "<div>\n",
       "<style scoped>\n",
       "    .dataframe tbody tr th:only-of-type {\n",
       "        vertical-align: middle;\n",
       "    }\n",
       "\n",
       "    .dataframe tbody tr th {\n",
       "        vertical-align: top;\n",
       "    }\n",
       "\n",
       "    .dataframe thead th {\n",
       "        text-align: right;\n",
       "    }\n",
       "</style>\n",
       "<table border=\"1\" class=\"dataframe\">\n",
       "  <thead>\n",
       "    <tr style=\"text-align: right;\">\n",
       "      <th></th>\n",
       "      <th>id</th>\n",
       "      <th>Gas Phase [ug m-3]</th>\n",
       "      <th>Aerosol Phase [ug m-3]</th>\n",
       "      <th>Precursor [ug m-3]</th>\n",
       "      <th>Pvap bin lower limit [log10(Cstar)]</th>\n",
       "      <th>Pvap bin upper limit [log10(Cstar)]</th>\n",
       "      <th>Time [s]</th>\n",
       "      <th>Kh [M/atm]</th>\n",
       "      <th>MW [g/mol]</th>\n",
       "      <th>Yield (SOA)</th>\n",
       "      <th>...</th>\n",
       "      <th>Atomic O/C ratio</th>\n",
       "      <th>Atomic H/C ratio</th>\n",
       "      <th>Atomic N/C ratio</th>\n",
       "      <th>Vaporization Enthalpy [J/mol]</th>\n",
       "      <th>temperature (K)</th>\n",
       "      <th>solar zenith angle (degree)</th>\n",
       "      <th>pre-existing aerosols (ug/m3)</th>\n",
       "      <th>o3 (ppb)</th>\n",
       "      <th>nox (ppb)</th>\n",
       "      <th>oh (10^6 molec/cm3)</th>\n",
       "    </tr>\n",
       "  </thead>\n",
       "  <tbody>\n",
       "    <tr>\n",
       "      <td>0</td>\n",
       "      <td>Exp0</td>\n",
       "      <td>0.000000</td>\n",
       "      <td>0.000000e+00</td>\n",
       "      <td>0.000000</td>\n",
       "      <td>-16.0</td>\n",
       "      <td>-6.0</td>\n",
       "      <td>1.0</td>\n",
       "      <td>0.000000e+00</td>\n",
       "      <td>0.000000</td>\n",
       "      <td>0.0</td>\n",
       "      <td>...</td>\n",
       "      <td>0.000000</td>\n",
       "      <td>0.000000</td>\n",
       "      <td>0.000000</td>\n",
       "      <td>0.000000</td>\n",
       "      <td>300</td>\n",
       "      <td>0</td>\n",
       "      <td>10.00</td>\n",
       "      <td>10</td>\n",
       "      <td>0.01</td>\n",
       "      <td>5</td>\n",
       "    </tr>\n",
       "    <tr>\n",
       "      <td>1</td>\n",
       "      <td>Exp0</td>\n",
       "      <td>0.000000</td>\n",
       "      <td>0.000000e+00</td>\n",
       "      <td>0.000000</td>\n",
       "      <td>-6.0</td>\n",
       "      <td>-5.0</td>\n",
       "      <td>1.0</td>\n",
       "      <td>0.000000e+00</td>\n",
       "      <td>0.000000</td>\n",
       "      <td>0.0</td>\n",
       "      <td>...</td>\n",
       "      <td>0.000000</td>\n",
       "      <td>0.000000</td>\n",
       "      <td>0.000000</td>\n",
       "      <td>0.000000</td>\n",
       "      <td>300</td>\n",
       "      <td>0</td>\n",
       "      <td>10.00</td>\n",
       "      <td>10</td>\n",
       "      <td>0.01</td>\n",
       "      <td>5</td>\n",
       "    </tr>\n",
       "    <tr>\n",
       "      <td>2</td>\n",
       "      <td>Exp0</td>\n",
       "      <td>0.000000</td>\n",
       "      <td>0.000000e+00</td>\n",
       "      <td>0.000000</td>\n",
       "      <td>-5.0</td>\n",
       "      <td>-4.0</td>\n",
       "      <td>1.0</td>\n",
       "      <td>0.000000e+00</td>\n",
       "      <td>0.000000</td>\n",
       "      <td>0.0</td>\n",
       "      <td>...</td>\n",
       "      <td>0.000000</td>\n",
       "      <td>0.000000</td>\n",
       "      <td>0.000000</td>\n",
       "      <td>0.000000</td>\n",
       "      <td>300</td>\n",
       "      <td>0</td>\n",
       "      <td>10.00</td>\n",
       "      <td>10</td>\n",
       "      <td>0.01</td>\n",
       "      <td>5</td>\n",
       "    </tr>\n",
       "    <tr>\n",
       "      <td>3</td>\n",
       "      <td>Exp0</td>\n",
       "      <td>0.000000</td>\n",
       "      <td>0.000000e+00</td>\n",
       "      <td>0.000000</td>\n",
       "      <td>-4.0</td>\n",
       "      <td>-3.0</td>\n",
       "      <td>1.0</td>\n",
       "      <td>0.000000e+00</td>\n",
       "      <td>0.000000</td>\n",
       "      <td>0.0</td>\n",
       "      <td>...</td>\n",
       "      <td>0.000000</td>\n",
       "      <td>0.000000</td>\n",
       "      <td>0.000000</td>\n",
       "      <td>0.000000</td>\n",
       "      <td>300</td>\n",
       "      <td>0</td>\n",
       "      <td>10.00</td>\n",
       "      <td>10</td>\n",
       "      <td>0.01</td>\n",
       "      <td>5</td>\n",
       "    </tr>\n",
       "    <tr>\n",
       "      <td>4</td>\n",
       "      <td>Exp0</td>\n",
       "      <td>0.000000</td>\n",
       "      <td>0.000000e+00</td>\n",
       "      <td>0.000000</td>\n",
       "      <td>-3.0</td>\n",
       "      <td>-2.0</td>\n",
       "      <td>1.0</td>\n",
       "      <td>0.000000e+00</td>\n",
       "      <td>0.000000</td>\n",
       "      <td>0.0</td>\n",
       "      <td>...</td>\n",
       "      <td>0.000000</td>\n",
       "      <td>0.000000</td>\n",
       "      <td>0.000000</td>\n",
       "      <td>0.000000</td>\n",
       "      <td>300</td>\n",
       "      <td>0</td>\n",
       "      <td>10.00</td>\n",
       "      <td>10</td>\n",
       "      <td>0.01</td>\n",
       "      <td>5</td>\n",
       "    </tr>\n",
       "    <tr>\n",
       "      <td>...</td>\n",
       "      <td>...</td>\n",
       "      <td>...</td>\n",
       "      <td>...</td>\n",
       "      <td>...</td>\n",
       "      <td>...</td>\n",
       "      <td>...</td>\n",
       "      <td>...</td>\n",
       "      <td>...</td>\n",
       "      <td>...</td>\n",
       "      <td>...</td>\n",
       "      <td>...</td>\n",
       "      <td>...</td>\n",
       "      <td>...</td>\n",
       "      <td>...</td>\n",
       "      <td>...</td>\n",
       "      <td>...</td>\n",
       "      <td>...</td>\n",
       "      <td>...</td>\n",
       "      <td>...</td>\n",
       "      <td>...</td>\n",
       "      <td>...</td>\n",
       "    </tr>\n",
       "    <tr>\n",
       "      <td>13547515</td>\n",
       "      <td>Exp1679</td>\n",
       "      <td>0.000037</td>\n",
       "      <td>5.037846e-09</td>\n",
       "      <td>0.000000</td>\n",
       "      <td>2.0</td>\n",
       "      <td>3.0</td>\n",
       "      <td>172800.0</td>\n",
       "      <td>5.974230e+11</td>\n",
       "      <td>190.878196</td>\n",
       "      <td>0.0</td>\n",
       "      <td>...</td>\n",
       "      <td>1.398678</td>\n",
       "      <td>1.001275</td>\n",
       "      <td>0.198914</td>\n",
       "      <td>111930.948306</td>\n",
       "      <td>300</td>\n",
       "      <td>90</td>\n",
       "      <td>0.01</td>\n",
       "      <td>90</td>\n",
       "      <td>10.00</td>\n",
       "      <td>10</td>\n",
       "    </tr>\n",
       "    <tr>\n",
       "      <td>13547516</td>\n",
       "      <td>Exp1679</td>\n",
       "      <td>0.007719</td>\n",
       "      <td>1.846604e-07</td>\n",
       "      <td>0.000000</td>\n",
       "      <td>3.0</td>\n",
       "      <td>4.0</td>\n",
       "      <td>172800.0</td>\n",
       "      <td>2.099617e+10</td>\n",
       "      <td>190.256154</td>\n",
       "      <td>0.0</td>\n",
       "      <td>...</td>\n",
       "      <td>0.776976</td>\n",
       "      <td>0.757387</td>\n",
       "      <td>0.310681</td>\n",
       "      <td>98830.435047</td>\n",
       "      <td>300</td>\n",
       "      <td>90</td>\n",
       "      <td>0.01</td>\n",
       "      <td>90</td>\n",
       "      <td>10.00</td>\n",
       "      <td>10</td>\n",
       "    </tr>\n",
       "    <tr>\n",
       "      <td>13547517</td>\n",
       "      <td>Exp1679</td>\n",
       "      <td>0.000253</td>\n",
       "      <td>1.129703e-09</td>\n",
       "      <td>0.000000</td>\n",
       "      <td>4.0</td>\n",
       "      <td>5.0</td>\n",
       "      <td>172800.0</td>\n",
       "      <td>1.920989e+10</td>\n",
       "      <td>170.001702</td>\n",
       "      <td>0.0</td>\n",
       "      <td>...</td>\n",
       "      <td>1.410147</td>\n",
       "      <td>0.882486</td>\n",
       "      <td>0.267623</td>\n",
       "      <td>94664.634832</td>\n",
       "      <td>300</td>\n",
       "      <td>90</td>\n",
       "      <td>0.01</td>\n",
       "      <td>90</td>\n",
       "      <td>10.00</td>\n",
       "      <td>10</td>\n",
       "    </tr>\n",
       "    <tr>\n",
       "      <td>13547518</td>\n",
       "      <td>Exp1679</td>\n",
       "      <td>0.000652</td>\n",
       "      <td>1.658724e-10</td>\n",
       "      <td>0.000000</td>\n",
       "      <td>5.0</td>\n",
       "      <td>6.0</td>\n",
       "      <td>172800.0</td>\n",
       "      <td>4.678444e+07</td>\n",
       "      <td>124.006908</td>\n",
       "      <td>0.0</td>\n",
       "      <td>...</td>\n",
       "      <td>0.768145</td>\n",
       "      <td>0.866488</td>\n",
       "      <td>0.038317</td>\n",
       "      <td>78111.230330</td>\n",
       "      <td>300</td>\n",
       "      <td>90</td>\n",
       "      <td>0.01</td>\n",
       "      <td>90</td>\n",
       "      <td>10.00</td>\n",
       "      <td>10</td>\n",
       "    </tr>\n",
       "    <tr>\n",
       "      <td>13547519</td>\n",
       "      <td>Exp1679</td>\n",
       "      <td>0.001670</td>\n",
       "      <td>5.746933e-11</td>\n",
       "      <td>0.000002</td>\n",
       "      <td>6.0</td>\n",
       "      <td>16.0</td>\n",
       "      <td>172800.0</td>\n",
       "      <td>9.991504e+07</td>\n",
       "      <td>137.757838</td>\n",
       "      <td>0.0</td>\n",
       "      <td>...</td>\n",
       "      <td>1.075160</td>\n",
       "      <td>1.014858</td>\n",
       "      <td>0.231805</td>\n",
       "      <td>60424.779544</td>\n",
       "      <td>300</td>\n",
       "      <td>90</td>\n",
       "      <td>0.01</td>\n",
       "      <td>90</td>\n",
       "      <td>10.00</td>\n",
       "      <td>10</td>\n",
       "    </tr>\n",
       "  </tbody>\n",
       "</table>\n",
       "<p>13547520 rows × 21 columns</p>\n",
       "</div>"
      ],
      "text/plain": [
       "               id   Gas Phase [ug m-3]   Aerosol Phase [ug m-3]  \\\n",
       "0            Exp0             0.000000             0.000000e+00   \n",
       "1            Exp0             0.000000             0.000000e+00   \n",
       "2            Exp0             0.000000             0.000000e+00   \n",
       "3            Exp0             0.000000             0.000000e+00   \n",
       "4            Exp0             0.000000             0.000000e+00   \n",
       "...           ...                  ...                      ...   \n",
       "13547515  Exp1679             0.000037             5.037846e-09   \n",
       "13547516  Exp1679             0.007719             1.846604e-07   \n",
       "13547517  Exp1679             0.000253             1.129703e-09   \n",
       "13547518  Exp1679             0.000652             1.658724e-10   \n",
       "13547519  Exp1679             0.001670             5.746933e-11   \n",
       "\n",
       "           Precursor [ug m-3]   Pvap bin lower limit [log10(Cstar)]  \\\n",
       "0                    0.000000                                 -16.0   \n",
       "1                    0.000000                                  -6.0   \n",
       "2                    0.000000                                  -5.0   \n",
       "3                    0.000000                                  -4.0   \n",
       "4                    0.000000                                  -3.0   \n",
       "...                       ...                                   ...   \n",
       "13547515             0.000000                                   2.0   \n",
       "13547516             0.000000                                   3.0   \n",
       "13547517             0.000000                                   4.0   \n",
       "13547518             0.000000                                   5.0   \n",
       "13547519             0.000002                                   6.0   \n",
       "\n",
       "           Pvap bin upper limit [log10(Cstar)]   Time [s]    Kh [M/atm]  \\\n",
       "0                                         -6.0        1.0  0.000000e+00   \n",
       "1                                         -5.0        1.0  0.000000e+00   \n",
       "2                                         -4.0        1.0  0.000000e+00   \n",
       "3                                         -3.0        1.0  0.000000e+00   \n",
       "4                                         -2.0        1.0  0.000000e+00   \n",
       "...                                        ...        ...           ...   \n",
       "13547515                                   3.0   172800.0  5.974230e+11   \n",
       "13547516                                   4.0   172800.0  2.099617e+10   \n",
       "13547517                                   5.0   172800.0  1.920989e+10   \n",
       "13547518                                   6.0   172800.0  4.678444e+07   \n",
       "13547519                                  16.0   172800.0  9.991504e+07   \n",
       "\n",
       "           MW [g/mol]   Yield (SOA)  ...   Atomic O/C ratio  \\\n",
       "0            0.000000           0.0  ...           0.000000   \n",
       "1            0.000000           0.0  ...           0.000000   \n",
       "2            0.000000           0.0  ...           0.000000   \n",
       "3            0.000000           0.0  ...           0.000000   \n",
       "4            0.000000           0.0  ...           0.000000   \n",
       "...               ...           ...  ...                ...   \n",
       "13547515   190.878196           0.0  ...           1.398678   \n",
       "13547516   190.256154           0.0  ...           0.776976   \n",
       "13547517   170.001702           0.0  ...           1.410147   \n",
       "13547518   124.006908           0.0  ...           0.768145   \n",
       "13547519   137.757838           0.0  ...           1.075160   \n",
       "\n",
       "           Atomic H/C ratio   Atomic N/C ratio  \\\n",
       "0                  0.000000           0.000000   \n",
       "1                  0.000000           0.000000   \n",
       "2                  0.000000           0.000000   \n",
       "3                  0.000000           0.000000   \n",
       "4                  0.000000           0.000000   \n",
       "...                     ...                ...   \n",
       "13547515           1.001275           0.198914   \n",
       "13547516           0.757387           0.310681   \n",
       "13547517           0.882486           0.267623   \n",
       "13547518           0.866488           0.038317   \n",
       "13547519           1.014858           0.231805   \n",
       "\n",
       "           Vaporization Enthalpy [J/mol]                                                                                                   \\\n",
       "0                                                  0.000000                                                                                 \n",
       "1                                                  0.000000                                                                                 \n",
       "2                                                  0.000000                                                                                 \n",
       "3                                                  0.000000                                                                                 \n",
       "4                                                  0.000000                                                                                 \n",
       "...                                                     ...                                                                                 \n",
       "13547515                                      111930.948306                                                                                 \n",
       "13547516                                       98830.435047                                                                                 \n",
       "13547517                                       94664.634832                                                                                 \n",
       "13547518                                       78111.230330                                                                                 \n",
       "13547519                                       60424.779544                                                                                 \n",
       "\n",
       "           temperature (K)   solar zenith angle (degree)  \\\n",
       "0                      300                             0   \n",
       "1                      300                             0   \n",
       "2                      300                             0   \n",
       "3                      300                             0   \n",
       "4                      300                             0   \n",
       "...                    ...                           ...   \n",
       "13547515               300                            90   \n",
       "13547516               300                            90   \n",
       "13547517               300                            90   \n",
       "13547518               300                            90   \n",
       "13547519               300                            90   \n",
       "\n",
       "           pre-existing aerosols (ug/m3)   o3 (ppb)   nox (ppb)  \\\n",
       "0                                  10.00         10        0.01   \n",
       "1                                  10.00         10        0.01   \n",
       "2                                  10.00         10        0.01   \n",
       "3                                  10.00         10        0.01   \n",
       "4                                  10.00         10        0.01   \n",
       "...                                  ...        ...         ...   \n",
       "13547515                            0.01         90       10.00   \n",
       "13547516                            0.01         90       10.00   \n",
       "13547517                            0.01         90       10.00   \n",
       "13547518                            0.01         90       10.00   \n",
       "13547519                            0.01         90       10.00   \n",
       "\n",
       "           oh (10^6 molec/cm3)  \n",
       "0                            5  \n",
       "1                            5  \n",
       "2                            5  \n",
       "3                            5  \n",
       "4                            5  \n",
       "...                        ...  \n",
       "13547515                    10  \n",
       "13547516                    10  \n",
       "13547517                    10  \n",
       "13547518                    10  \n",
       "13547519                    10  \n",
       "\n",
       "[13547520 rows x 21 columns]"
      ]
     },
     "execution_count": 76,
     "metadata": {},
     "output_type": "execute_result"
    }
   ],
   "source": [
    "all_exp_data.merge(master_list, on=\"id\")"
   ]
  },
  {
   "cell_type": "code",
   "execution_count": 107,
   "metadata": {},
   "outputs": [
    {
     "data": {
      "text/plain": [
       "Index(['Gas Phase [ug m-3]', 'Aerosol Phase [ug m-3]', 'Precursor [ug m-3]',\n",
       "       'Pvap bin lower limit [log10(Cstar)]',\n",
       "       'Pvap bin upper limit [log10(Cstar)]', 'Time [s]', 'Kh [M/atm]',\n",
       "       'MW [g/mol]', 'Yield (SOA)', 'Yield (total)', 'Atomic O/C ratio',\n",
       "       'Atomic H/C ratio', 'Atomic N/C ratio',\n",
       "       'Vaporization Enthalpy [J/mol]                                                                                                 '],\n",
       "      dtype='object')"
      ]
     },
     "execution_count": 107,
     "metadata": {},
     "output_type": "execute_result"
    }
   ],
   "source": [
    "exp_0.columns.str.lstrip()"
   ]
  },
  {
   "cell_type": "code",
   "execution_count": 64,
   "metadata": {},
   "outputs": [
    {
     "name": "stdout",
     "output_type": "stream",
     "text": [
      "5.2G\t/glade/scratch/siyuan/POSTPROCESSING/ML2019_toluene/ML2019_toluene_postproc/\n"
     ]
    }
   ],
   "source": [
    "! du -sh /glade/scratch/siyuan/POSTPROCESSING/ML2019_toluene/ML2019_toluene_postproc/"
   ]
  },
  {
   "cell_type": "code",
   "execution_count": 91,
   "metadata": {},
   "outputs": [],
   "source": [
    "exp_0 = pd.read_csv(exp_data_files[42])"
   ]
  },
  {
   "cell_type": "code",
   "execution_count": 92,
   "metadata": {},
   "outputs": [],
   "source": [
    "times = np.sort(exp_0[\" Time [s]\"].unique())"
   ]
  },
  {
   "cell_type": "code",
   "execution_count": 93,
   "metadata": {},
   "outputs": [],
   "source": [
    "bin_aerosol_vectors = exp_0[\" Aerosol Phase [ug m-3]\"].values.reshape(times.size, 14)"
   ]
  },
  {
   "cell_type": "code",
   "execution_count": 94,
   "metadata": {},
   "outputs": [],
   "source": [
    "bin_gas_vectors = exp_0[\" Gas Phase [ug m-3]\"].values.reshape(times.size, 14)"
   ]
  },
  {
   "cell_type": "code",
   "execution_count": 95,
   "metadata": {},
   "outputs": [],
   "source": [
    "bin_values = exp_0[' Pvap bin lower limit [log10(Cstar)]'][exp_0[\" Time [s]\"] == times[0]].values\n",
    "bin_values = np.append(bin_values, [16])"
   ]
  },
  {
   "cell_type": "code",
   "execution_count": 104,
   "metadata": {},
   "outputs": [
    {
     "data": {
      "text/plain": [
       "<matplotlib.colorbar.Colorbar at 0x2b3b13f1bcc0>"
      ]
     },
     "execution_count": 104,
     "metadata": {},
     "output_type": "execute_result"
    },
    {
     "data": {
      "image/png": "[encoded data removed]",
      "text/plain": [
       "<Figure size 864x720 with 4 Axes>"
      ]
     },
     "metadata": {
      "needs_background": "light"
     },
     "output_type": "display_data"
    }
   ],
   "source": [
    "plt.figure(figsize=(12, 10))\n",
    "plt.subplot(1, 2, 1)\n",
    "plt.pcolormesh(bin_values, times[10:], bin_aerosol_vectors[10:], cmap=plt.get_cmap(\"YlOrRd\", 20))\n",
    "plt.title(\"Aerosol Bin Concentrations\")\n",
    "plt.colorbar()\n",
    "plt.subplot(1, 2, 2)\n",
    "plt.pcolormesh(bin_values, times[10:], bin_gas_vectors[10:], cmap=plt.get_cmap(\"YlOrRd\", 20))\n",
    "plt.title(\"Gas Bin Concentrations\")\n",
    "plt.colorbar()\n"
   ]
  },
  {
   "cell_type": "code",
   "execution_count": 103,
   "metadata": {},
   "outputs": [
    {
     "data": {
      "text/plain": [
       "<matplotlib.colorbar.Colorbar at 0x2b3b13d7dba8>"
      ]
     },
     "execution_count": 103,
     "metadata": {},
     "output_type": "execute_result"
    },
    {
     "data": {
      "image/png": "[encoded data removed]",
      "text/plain": [
       "<Figure size 864x720 with 4 Axes>"
      ]
     },
     "metadata": {
      "needs_background": "light"
     },
     "output_type": "display_data"
    }
   ],
   "source": [
    "plt.figure(figsize=(12, 10))\n",
    "plt.subplot(1, 2, 1)\n",
    "plt.pcolormesh(bin_values, times[10:], bin_aerosol_vectors[10:], cmap=plt.get_cmap(\"YlOrRd\", 20), norm=LogNorm(1e-15, 0.01))\n",
    "plt.title(\"Aerosol Bin Concentrations\")\n",
    "plt.colorbar()\n",
    "plt.subplot(1, 2, 2)\n",
    "plt.pcolormesh(bin_values, times[10:], bin_gas_vectors[10:], cmap=plt.get_cmap(\"YlOrRd\", 20), norm=LogNorm(1e-15, 0.01))\n",
    "plt.title(\"Gas Bin Concentrations\")\n",
    "plt.colorbar()\n"
   ]
  },
  {
   "cell_type": "code",
   "execution_count": 105,
   "metadata": {},
   "outputs": [
    {
     "data": {
      "text/plain": [
       "[<matplotlib.lines.Line2D at 0x2b3b13fca5f8>,\n",
       " <matplotlib.lines.Line2D at 0x2b3b13fca748>,\n",
       " <matplotlib.lines.Line2D at 0x2b3b13fca898>,\n",
       " <matplotlib.lines.Line2D at 0x2b3b13fca9e8>,\n",
       " <matplotlib.lines.Line2D at 0x2b3b13fcab38>,\n",
       " <matplotlib.lines.Line2D at 0x2b3b13fcac88>,\n",
       " <matplotlib.lines.Line2D at 0x2b3b13fcadd8>,\n",
       " <matplotlib.lines.Line2D at 0x2b3b13fcaf28>,\n",
       " <matplotlib.lines.Line2D at 0x2b3b13fd10b8>,\n",
       " <matplotlib.lines.Line2D at 0x2b3b13fd1208>,\n",
       " <matplotlib.lines.Line2D at 0x2b3b13f9c208>,\n",
       " <matplotlib.lines.Line2D at 0x2b3b13fd1470>,\n",
       " <matplotlib.lines.Line2D at 0x2b3b13fd15c0>,\n",
       " <matplotlib.lines.Line2D at 0x2b3b13fd1710>]"
      ]
     },
     "execution_count": 105,
     "metadata": {},
     "output_type": "execute_result"
    },
    {
     "data": {
      "image/png": "[encoded data removed]",
      "text/plain": [
       "<Figure size 432x288 with 1 Axes>"
      ]
     },
     "metadata": {
      "needs_background": "light"
     },
     "output_type": "display_data"
    }
   ],
   "source": [
    "plt.plot(np.log10(bin_aerosol_vectors[10:, :]))"
   ]
  },
  {
   "cell_type": "code",
   "execution_count": 82,
   "metadata": {},
   "outputs": [
    {
     "data": {
      "text/plain": [
       "(576, 14)"
      ]
     },
     "execution_count": 82,
     "metadata": {},
     "output_type": "execute_result"
    }
   ],
   "source": [
    "bin_aerosol_vectors.shape"
   ]
  },
  {
   "cell_type": "code",
   "execution_count": 98,
   "metadata": {},
   "outputs": [
    {
     "data": {
      "text/plain": [
       "[<matplotlib.lines.Line2D at 0x2b3b138ac898>,\n",
       " <matplotlib.lines.Line2D at 0x2b3b138ac9e8>,\n",
       " <matplotlib.lines.Line2D at 0x2b3b138acb38>,\n",
       " <matplotlib.lines.Line2D at 0x2b3b138acc88>,\n",
       " <matplotlib.lines.Line2D at 0x2b3b138acdd8>,\n",
       " <matplotlib.lines.Line2D at 0x2b3b138acf28>,\n",
       " <matplotlib.lines.Line2D at 0x2b3b138b60b8>,\n",
       " <matplotlib.lines.Line2D at 0x2b3b138b6208>,\n",
       " <matplotlib.lines.Line2D at 0x2b3b138b6358>,\n",
       " <matplotlib.lines.Line2D at 0x2b3b138b64a8>,\n",
       " <matplotlib.lines.Line2D at 0x2b3b13885390>,\n",
       " <matplotlib.lines.Line2D at 0x2b3b138b6710>,\n",
       " <matplotlib.lines.Line2D at 0x2b3b138b6860>,\n",
       " <matplotlib.lines.Line2D at 0x2b3b138b69b0>]"
      ]
     },
     "execution_count": 98,
     "metadata": {},
     "output_type": "execute_result"
    },
    {
     "data": {
      "image/png": "[encoded data removed]",
      "text/plain": [
       "<Figure size 432x288 with 1 Axes>"
      ]
     },
     "metadata": {
      "needs_background": "light"
     },
     "output_type": "display_data"
    }
   ],
   "source": [
    "plt.plot(bin_aerosol_vectors)"
   ]
  },
  {
   "cell_type": "code",
   "execution_count": null,
   "metadata": {},
   "outputs": [],
   "source": []
  }
 ],
 "metadata": {
  "kernelspec": {
   "display_name": "Python 3",
   "language": "python",
   "name": "python3"
  },
  "language_info": {
   "codemirror_mode": {
    "name": "ipython",
    "version": 3
   },
   "file_extension": ".py",
   "mimetype": "text/x-python",
   "name": "python",
   "nbconvert_exporter": "python",
   "pygments_lexer": "ipython3",
   "version": "3.7.3"
  }
 },
 "nbformat": 4,
 "nbformat_minor": 4
}
