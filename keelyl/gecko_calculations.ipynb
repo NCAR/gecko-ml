{
 "cells": [
  {
   "cell_type": "code",
   "execution_count": 1,
   "metadata": {},
   "outputs": [],
   "source": [
    "%matplotlib inline\n",
    "import pandas as pd\n",
    "import numpy as np\n",
    "import matplotlib.pyplot as plt\n",
    "from glob import glob\n",
    "from os.path import join, exists\n",
    "from matplotlib.colors import LogNorm\n",
    "import tensorflow as tf\n",
    "from sklearn.preprocessing import StandardScaler\n",
    "from tensorflow.keras.layers import Dense, Input\n",
    "from tensorflow.keras.models import Model\n",
    "from sklearn.model_selection import GroupKFold\n",
    "from tensorflow.keras.optimizers import Adam"
   ]
  },
  {
   "cell_type": "code",
   "execution_count": 2,
   "metadata": {},
   "outputs": [],
   "source": [
    "summary_file = \"/glade/scratch/siyuan/POSTPROCESSING/ML2019_toluene_kOH/Batch1_toluene/GAR0084_Exp_List_TEXT_PreCompile_BatchSubmit_v0.csv\"\n",
    "summary_data = pd.read_csv(summary_file, skiprows=3)\n",
    "summary_data.columns = summary_data.columns.str.strip()\n",
    "summary_data.columns\n",
    "summary_data[\"idnum\"] = summary_data.index"
   ]
  },
  {
   "cell_type": "code",
   "execution_count": 3,
   "metadata": {},
   "outputs": [],
   "source": [
    "def load_data(path, summary_file, species=\"toluene_kOH\"):\n",
    "    \"\"\"\n",
    "    Load a set of experiment files based on a summary file.\n",
    "    \n",
    "    Args:\n",
    "        path: Path to the directory containing summary and experiment files\n",
    "        summary_file: Name of the summary file (should not contain the path)\n",
    "        species: Name of the precursor chemical species\n",
    "    \n",
    "    Returns:\n",
    "        exp_data_merged: All time series data for every experiment in pandas DataFrame\n",
    "        summary_data: Summary experiment data file in pandas DataFrame\n",
    "    \"\"\"\n",
    "    summary_data = pd.read_csv(join(path, summary_file), skiprows=3)\n",
    "    summary_data.columns = summary_data.columns.str.strip()\n",
    "    summary_data[\"idnum\"] = summary_data.index\n",
    "    exp_data_list = []\n",
    "    for i, id_val in enumerate(summary_data[\"id\"]):\n",
    "        if i % 100 == 0:\n",
    "            print(id_val)\n",
    "        exp_file = join(path, f\"ML2019_{species}_ML2019_{id_val}.csv\")\n",
    "        exp_data_list.append(pd.read_csv(exp_file))\n",
    "        exp_data_list[-1][\"id\"] = id_val\n",
    "        exp_data_list[-1][\"idnum\"] = i\n",
    "        exp_data_list[-1][\"timestep\"] = np.arange(exp_data_list[-1].shape[0])\n",
    "    exp_data_combined = pd.concat(exp_data_list, ignore_index=True)\n",
    "    exp_data_combined.columns = exp_data_combined.columns.str.strip()\n",
    "    exp_data_merged = pd.merge(exp_data_combined, summary_data, left_on=\"idnum\", right_on=\"idnum\")\n",
    "    print(exp_data_combined.columns)\n",
    "    return exp_data_merged, summary_data"
   ]
  },
  {
   "cell_type": "code",
   "execution_count": 4,
   "metadata": {},
   "outputs": [
    {
     "name": "stdout",
     "output_type": "stream",
     "text": [
      "Exp0\n",
      "Exp100\n",
      "Exp200\n",
      "Exp300\n",
      "Exp400\n",
      "Exp500\n",
      "Exp600\n",
      "Exp700\n",
      "Exp800\n",
      "Exp900\n",
      "Exp1000\n",
      "Exp1100\n",
      "Exp1200\n",
      "Exp1300\n",
      "Exp1400\n",
      "Exp1500\n",
      "Exp1600\n",
      "Exp1700\n",
      "Exp1800\n",
      "Exp1900\n",
      "Exp2000\n",
      "Exp2100\n",
      "Exp2200\n",
      "Exp2300\n",
      "Exp2400\n",
      "Exp2500\n",
      "Exp2600\n",
      "Exp2700\n",
      "Exp2800\n",
      "Exp2900\n",
      "Exp3000\n",
      "Exp3100\n",
      "Exp3200\n",
      "Exp3300\n",
      "Exp3400\n",
      "Exp3500\n",
      "Exp3600\n",
      "Exp3700\n",
      "Exp3800\n",
      "Exp3900\n",
      "Exp4000\n",
      "Exp4100\n",
      "Exp4200\n",
      "Exp4300\n",
      "Exp4400\n",
      "Exp4500\n",
      "Exp4600\n",
      "Exp4700\n",
      "Exp4800\n",
      "Exp4900\n",
      "Exp5000\n",
      "Exp5100\n",
      "Exp5200\n",
      "Exp5300\n",
      "Index(['Time [s]', 'Precursor [ug/m3]', 'Gas [ug/m3] Bin01: lg(C*) = -5.5',\n",
      "       'Gas [ug/m3] Bin02: lg(C*) = -4.5', 'Gas [ug/m3] Bin03: lg(C*) = -3.5',\n",
      "       'Gas [ug/m3] Bin04: lg(C*) = -2.5', 'Gas [ug/m3] Bin05: lg(C*) = -1.5',\n",
      "       'Gas [ug/m3] Bin06: lg(C*) = -0.5', 'Gas [ug/m3] Bin07: lg(C*) =  0.5',\n",
      "       'Gas [ug/m3] Bin08: lg(C*) =  1.5',\n",
      "       ...\n",
      "       'N/C Bin08: lg(C*) =  1.5', 'N/C Bin09: lg(C*) =  2.5',\n",
      "       'N/C Bin10: lg(C*) =  3.5', 'N/C Bin11: lg(C*) =  4.5',\n",
      "       'N/C Bin12: lg(C*) =  5.5', 'N/C Bin13: lg(C*) =  6.5',\n",
      "       'N/C Bin14: lg(C*) = -6.5', 'id', 'idnum', 'timestep'],\n",
      "      dtype='object', length=131)\n"
     ]
    }
   ],
   "source": [
    "exp_data_merged, summary_data = load_data(\"/glade/work/dgagne/Batch1_toluene\", \n",
    "                                          \"GAR0084_Exp_List_TEXT_PreCompile_BatchSubmit_v0.csv\")"
   ]
  },
  {
   "cell_type": "code",
   "execution_count": 5,
   "metadata": {},
   "outputs": [
    {
     "data": {
      "text/html": [
       "<div>\n",
       "<style scoped>\n",
       "    .dataframe tbody tr th:only-of-type {\n",
       "        vertical-align: middle;\n",
       "    }\n",
       "\n",
       "    .dataframe tbody tr th {\n",
       "        vertical-align: top;\n",
       "    }\n",
       "\n",
       "    .dataframe thead th {\n",
       "        text-align: right;\n",
       "    }\n",
       "</style>\n",
       "<table border=\"1\" class=\"dataframe\">\n",
       "  <thead>\n",
       "    <tr style=\"text-align: right;\">\n",
       "      <th></th>\n",
       "      <th>Time [s]</th>\n",
       "      <th>Precursor [ug/m3]</th>\n",
       "      <th>Gas [ug/m3] Bin01: lg(C*) = -5.5</th>\n",
       "      <th>Gas [ug/m3] Bin02: lg(C*) = -4.5</th>\n",
       "      <th>Gas [ug/m3] Bin03: lg(C*) = -3.5</th>\n",
       "      <th>Gas [ug/m3] Bin04: lg(C*) = -2.5</th>\n",
       "      <th>Gas [ug/m3] Bin05: lg(C*) = -1.5</th>\n",
       "      <th>Gas [ug/m3] Bin06: lg(C*) = -0.5</th>\n",
       "      <th>Gas [ug/m3] Bin07: lg(C*) =  0.5</th>\n",
       "      <th>Gas [ug/m3] Bin08: lg(C*) =  1.5</th>\n",
       "      <th>...</th>\n",
       "      <th>id_x</th>\n",
       "      <th>idnum</th>\n",
       "      <th>timestep</th>\n",
       "      <th>id_y</th>\n",
       "      <th>temperature (K)</th>\n",
       "      <th>solar zenith angle (degree)</th>\n",
       "      <th>pre-existing aerosols (ug/m3)</th>\n",
       "      <th>o3 (ppb)</th>\n",
       "      <th>nox (ppb)</th>\n",
       "      <th>oh (10^6 molec/cm3)</th>\n",
       "    </tr>\n",
       "  </thead>\n",
       "  <tbody>\n",
       "    <tr>\n",
       "      <th>5760</th>\n",
       "      <td>1.000000</td>\n",
       "      <td>0.037689</td>\n",
       "      <td>0.000000e+00</td>\n",
       "      <td>0.000000e+00</td>\n",
       "      <td>0.000000e+00</td>\n",
       "      <td>0.000000e+00</td>\n",
       "      <td>0.000000e+00</td>\n",
       "      <td>0.000000e+00</td>\n",
       "      <td>0.000000e+00</td>\n",
       "      <td>0.000000e+00</td>\n",
       "      <td>...</td>\n",
       "      <td>Exp10</td>\n",
       "      <td>10</td>\n",
       "      <td>0</td>\n",
       "      <td>Exp10</td>\n",
       "      <td>270.0</td>\n",
       "      <td>0.0</td>\n",
       "      <td>0.01</td>\n",
       "      <td>1.0</td>\n",
       "      <td>1.0</td>\n",
       "      <td>5.0</td>\n",
       "    </tr>\n",
       "    <tr>\n",
       "      <th>5761</th>\n",
       "      <td>301.519989</td>\n",
       "      <td>0.037332</td>\n",
       "      <td>1.113952e-21</td>\n",
       "      <td>4.070264e-20</td>\n",
       "      <td>6.686731e-17</td>\n",
       "      <td>1.389201e-16</td>\n",
       "      <td>4.066288e-15</td>\n",
       "      <td>1.757855e-13</td>\n",
       "      <td>9.118843e-12</td>\n",
       "      <td>5.212791e-12</td>\n",
       "      <td>...</td>\n",
       "      <td>Exp10</td>\n",
       "      <td>10</td>\n",
       "      <td>1</td>\n",
       "      <td>Exp10</td>\n",
       "      <td>270.0</td>\n",
       "      <td>0.0</td>\n",
       "      <td>0.01</td>\n",
       "      <td>1.0</td>\n",
       "      <td>1.0</td>\n",
       "      <td>5.0</td>\n",
       "    </tr>\n",
       "    <tr>\n",
       "      <th>5762</th>\n",
       "      <td>602.039978</td>\n",
       "      <td>0.036979</td>\n",
       "      <td>8.465895e-21</td>\n",
       "      <td>2.655437e-19</td>\n",
       "      <td>1.143732e-16</td>\n",
       "      <td>1.790802e-15</td>\n",
       "      <td>2.412341e-14</td>\n",
       "      <td>4.494002e-12</td>\n",
       "      <td>6.651374e-11</td>\n",
       "      <td>3.789099e-11</td>\n",
       "      <td>...</td>\n",
       "      <td>Exp10</td>\n",
       "      <td>10</td>\n",
       "      <td>2</td>\n",
       "      <td>Exp10</td>\n",
       "      <td>270.0</td>\n",
       "      <td>0.0</td>\n",
       "      <td>0.01</td>\n",
       "      <td>1.0</td>\n",
       "      <td>1.0</td>\n",
       "      <td>5.0</td>\n",
       "    </tr>\n",
       "    <tr>\n",
       "      <th>5763</th>\n",
       "      <td>902.559998</td>\n",
       "      <td>0.036628</td>\n",
       "      <td>3.248028e-20</td>\n",
       "      <td>7.934065e-19</td>\n",
       "      <td>2.488888e-15</td>\n",
       "      <td>9.371479e-15</td>\n",
       "      <td>1.919735e-13</td>\n",
       "      <td>2.865727e-11</td>\n",
       "      <td>2.018920e-10</td>\n",
       "      <td>1.266861e-10</td>\n",
       "      <td>...</td>\n",
       "      <td>Exp10</td>\n",
       "      <td>10</td>\n",
       "      <td>3</td>\n",
       "      <td>Exp10</td>\n",
       "      <td>270.0</td>\n",
       "      <td>0.0</td>\n",
       "      <td>0.01</td>\n",
       "      <td>1.0</td>\n",
       "      <td>1.0</td>\n",
       "      <td>5.0</td>\n",
       "    </tr>\n",
       "    <tr>\n",
       "      <th>5764</th>\n",
       "      <td>1203.079956</td>\n",
       "      <td>0.036281</td>\n",
       "      <td>1.030769e-19</td>\n",
       "      <td>2.069284e-18</td>\n",
       "      <td>3.476972e-15</td>\n",
       "      <td>2.874213e-14</td>\n",
       "      <td>4.096286e-13</td>\n",
       "      <td>1.022437e-10</td>\n",
       "      <td>4.320647e-10</td>\n",
       "      <td>2.948841e-10</td>\n",
       "      <td>...</td>\n",
       "      <td>Exp10</td>\n",
       "      <td>10</td>\n",
       "      <td>4</td>\n",
       "      <td>Exp10</td>\n",
       "      <td>270.0</td>\n",
       "      <td>0.0</td>\n",
       "      <td>0.01</td>\n",
       "      <td>1.0</td>\n",
       "      <td>1.0</td>\n",
       "      <td>5.0</td>\n",
       "    </tr>\n",
       "    <tr>\n",
       "      <th>...</th>\n",
       "      <td>...</td>\n",
       "      <td>...</td>\n",
       "      <td>...</td>\n",
       "      <td>...</td>\n",
       "      <td>...</td>\n",
       "      <td>...</td>\n",
       "      <td>...</td>\n",
       "      <td>...</td>\n",
       "      <td>...</td>\n",
       "      <td>...</td>\n",
       "      <td>...</td>\n",
       "      <td>...</td>\n",
       "      <td>...</td>\n",
       "      <td>...</td>\n",
       "      <td>...</td>\n",
       "      <td>...</td>\n",
       "      <td>...</td>\n",
       "      <td>...</td>\n",
       "      <td>...</td>\n",
       "      <td>...</td>\n",
       "      <td>...</td>\n",
       "    </tr>\n",
       "    <tr>\n",
       "      <th>6331</th>\n",
       "      <td>171597.921875</td>\n",
       "      <td>0.000165</td>\n",
       "      <td>1.043278e-13</td>\n",
       "      <td>1.525949e-12</td>\n",
       "      <td>1.460513e-10</td>\n",
       "      <td>1.237334e-09</td>\n",
       "      <td>3.408873e-08</td>\n",
       "      <td>1.015127e-06</td>\n",
       "      <td>4.097190e-07</td>\n",
       "      <td>9.564674e-09</td>\n",
       "      <td>...</td>\n",
       "      <td>Exp10</td>\n",
       "      <td>10</td>\n",
       "      <td>571</td>\n",
       "      <td>Exp10</td>\n",
       "      <td>270.0</td>\n",
       "      <td>0.0</td>\n",
       "      <td>0.01</td>\n",
       "      <td>1.0</td>\n",
       "      <td>1.0</td>\n",
       "      <td>5.0</td>\n",
       "    </tr>\n",
       "    <tr>\n",
       "      <th>6332</th>\n",
       "      <td>171898.437500</td>\n",
       "      <td>0.000163</td>\n",
       "      <td>1.041344e-13</td>\n",
       "      <td>1.523302e-12</td>\n",
       "      <td>1.458010e-10</td>\n",
       "      <td>1.234989e-09</td>\n",
       "      <td>3.408640e-08</td>\n",
       "      <td>1.008500e-06</td>\n",
       "      <td>4.094157e-07</td>\n",
       "      <td>9.512465e-09</td>\n",
       "      <td>...</td>\n",
       "      <td>Exp10</td>\n",
       "      <td>10</td>\n",
       "      <td>572</td>\n",
       "      <td>Exp10</td>\n",
       "      <td>270.0</td>\n",
       "      <td>0.0</td>\n",
       "      <td>0.01</td>\n",
       "      <td>1.0</td>\n",
       "      <td>1.0</td>\n",
       "      <td>5.0</td>\n",
       "    </tr>\n",
       "    <tr>\n",
       "      <th>6333</th>\n",
       "      <td>172198.953125</td>\n",
       "      <td>0.000162</td>\n",
       "      <td>1.039410e-13</td>\n",
       "      <td>1.520657e-12</td>\n",
       "      <td>1.455456e-10</td>\n",
       "      <td>1.232646e-09</td>\n",
       "      <td>3.408390e-08</td>\n",
       "      <td>1.001909e-06</td>\n",
       "      <td>4.091112e-07</td>\n",
       "      <td>9.417578e-09</td>\n",
       "      <td>...</td>\n",
       "      <td>Exp10</td>\n",
       "      <td>10</td>\n",
       "      <td>573</td>\n",
       "      <td>Exp10</td>\n",
       "      <td>270.0</td>\n",
       "      <td>0.0</td>\n",
       "      <td>0.01</td>\n",
       "      <td>1.0</td>\n",
       "      <td>1.0</td>\n",
       "      <td>5.0</td>\n",
       "    </tr>\n",
       "    <tr>\n",
       "      <th>6334</th>\n",
       "      <td>172499.484375</td>\n",
       "      <td>0.000160</td>\n",
       "      <td>1.037479e-13</td>\n",
       "      <td>1.518013e-12</td>\n",
       "      <td>1.452935e-10</td>\n",
       "      <td>1.230307e-09</td>\n",
       "      <td>3.408143e-08</td>\n",
       "      <td>9.953547e-07</td>\n",
       "      <td>4.088050e-07</td>\n",
       "      <td>9.325147e-09</td>\n",
       "      <td>...</td>\n",
       "      <td>Exp10</td>\n",
       "      <td>10</td>\n",
       "      <td>574</td>\n",
       "      <td>Exp10</td>\n",
       "      <td>270.0</td>\n",
       "      <td>0.0</td>\n",
       "      <td>0.01</td>\n",
       "      <td>1.0</td>\n",
       "      <td>1.0</td>\n",
       "      <td>5.0</td>\n",
       "    </tr>\n",
       "    <tr>\n",
       "      <th>6335</th>\n",
       "      <td>172800.000000</td>\n",
       "      <td>0.000159</td>\n",
       "      <td>1.035551e-13</td>\n",
       "      <td>1.515372e-12</td>\n",
       "      <td>1.450410e-10</td>\n",
       "      <td>1.227971e-09</td>\n",
       "      <td>3.407893e-08</td>\n",
       "      <td>9.888363e-07</td>\n",
       "      <td>4.084956e-07</td>\n",
       "      <td>9.232842e-09</td>\n",
       "      <td>...</td>\n",
       "      <td>Exp10</td>\n",
       "      <td>10</td>\n",
       "      <td>575</td>\n",
       "      <td>Exp10</td>\n",
       "      <td>270.0</td>\n",
       "      <td>0.0</td>\n",
       "      <td>0.01</td>\n",
       "      <td>1.0</td>\n",
       "      <td>1.0</td>\n",
       "      <td>5.0</td>\n",
       "    </tr>\n",
       "  </tbody>\n",
       "</table>\n",
       "<p>576 rows × 138 columns</p>\n",
       "</div>"
      ],
      "text/plain": [
       "           Time [s]  Precursor [ug/m3]  Gas [ug/m3] Bin01: lg(C*) = -5.5  \\\n",
       "5760       1.000000           0.037689                      0.000000e+00   \n",
       "5761     301.519989           0.037332                      1.113952e-21   \n",
       "5762     602.039978           0.036979                      8.465895e-21   \n",
       "5763     902.559998           0.036628                      3.248028e-20   \n",
       "5764    1203.079956           0.036281                      1.030769e-19   \n",
       "...             ...                ...                               ...   \n",
       "6331  171597.921875           0.000165                      1.043278e-13   \n",
       "6332  171898.437500           0.000163                      1.041344e-13   \n",
       "6333  172198.953125           0.000162                      1.039410e-13   \n",
       "6334  172499.484375           0.000160                      1.037479e-13   \n",
       "6335  172800.000000           0.000159                      1.035551e-13   \n",
       "\n",
       "      Gas [ug/m3] Bin02: lg(C*) = -4.5  Gas [ug/m3] Bin03: lg(C*) = -3.5  \\\n",
       "5760                      0.000000e+00                      0.000000e+00   \n",
       "5761                      4.070264e-20                      6.686731e-17   \n",
       "5762                      2.655437e-19                      1.143732e-16   \n",
       "5763                      7.934065e-19                      2.488888e-15   \n",
       "5764                      2.069284e-18                      3.476972e-15   \n",
       "...                                ...                               ...   \n",
       "6331                      1.525949e-12                      1.460513e-10   \n",
       "6332                      1.523302e-12                      1.458010e-10   \n",
       "6333                      1.520657e-12                      1.455456e-10   \n",
       "6334                      1.518013e-12                      1.452935e-10   \n",
       "6335                      1.515372e-12                      1.450410e-10   \n",
       "\n",
       "      Gas [ug/m3] Bin04: lg(C*) = -2.5  Gas [ug/m3] Bin05: lg(C*) = -1.5  \\\n",
       "5760                      0.000000e+00                      0.000000e+00   \n",
       "5761                      1.389201e-16                      4.066288e-15   \n",
       "5762                      1.790802e-15                      2.412341e-14   \n",
       "5763                      9.371479e-15                      1.919735e-13   \n",
       "5764                      2.874213e-14                      4.096286e-13   \n",
       "...                                ...                               ...   \n",
       "6331                      1.237334e-09                      3.408873e-08   \n",
       "6332                      1.234989e-09                      3.408640e-08   \n",
       "6333                      1.232646e-09                      3.408390e-08   \n",
       "6334                      1.230307e-09                      3.408143e-08   \n",
       "6335                      1.227971e-09                      3.407893e-08   \n",
       "\n",
       "      Gas [ug/m3] Bin06: lg(C*) = -0.5  Gas [ug/m3] Bin07: lg(C*) =  0.5  \\\n",
       "5760                      0.000000e+00                      0.000000e+00   \n",
       "5761                      1.757855e-13                      9.118843e-12   \n",
       "5762                      4.494002e-12                      6.651374e-11   \n",
       "5763                      2.865727e-11                      2.018920e-10   \n",
       "5764                      1.022437e-10                      4.320647e-10   \n",
       "...                                ...                               ...   \n",
       "6331                      1.015127e-06                      4.097190e-07   \n",
       "6332                      1.008500e-06                      4.094157e-07   \n",
       "6333                      1.001909e-06                      4.091112e-07   \n",
       "6334                      9.953547e-07                      4.088050e-07   \n",
       "6335                      9.888363e-07                      4.084956e-07   \n",
       "\n",
       "      Gas [ug/m3] Bin08: lg(C*) =  1.5  ...   id_x  idnum  timestep   id_y  \\\n",
       "5760                      0.000000e+00  ...  Exp10     10         0  Exp10   \n",
       "5761                      5.212791e-12  ...  Exp10     10         1  Exp10   \n",
       "5762                      3.789099e-11  ...  Exp10     10         2  Exp10   \n",
       "5763                      1.266861e-10  ...  Exp10     10         3  Exp10   \n",
       "5764                      2.948841e-10  ...  Exp10     10         4  Exp10   \n",
       "...                                ...  ...    ...    ...       ...    ...   \n",
       "6331                      9.564674e-09  ...  Exp10     10       571  Exp10   \n",
       "6332                      9.512465e-09  ...  Exp10     10       572  Exp10   \n",
       "6333                      9.417578e-09  ...  Exp10     10       573  Exp10   \n",
       "6334                      9.325147e-09  ...  Exp10     10       574  Exp10   \n",
       "6335                      9.232842e-09  ...  Exp10     10       575  Exp10   \n",
       "\n",
       "      temperature (K)  solar zenith angle (degree)  \\\n",
       "5760            270.0                          0.0   \n",
       "5761            270.0                          0.0   \n",
       "5762            270.0                          0.0   \n",
       "5763            270.0                          0.0   \n",
       "5764            270.0                          0.0   \n",
       "...               ...                          ...   \n",
       "6331            270.0                          0.0   \n",
       "6332            270.0                          0.0   \n",
       "6333            270.0                          0.0   \n",
       "6334            270.0                          0.0   \n",
       "6335            270.0                          0.0   \n",
       "\n",
       "      pre-existing aerosols (ug/m3)  o3 (ppb)  nox (ppb)  oh (10^6 molec/cm3)  \n",
       "5760                           0.01       1.0        1.0                  5.0  \n",
       "5761                           0.01       1.0        1.0                  5.0  \n",
       "5762                           0.01       1.0        1.0                  5.0  \n",
       "5763                           0.01       1.0        1.0                  5.0  \n",
       "5764                           0.01       1.0        1.0                  5.0  \n",
       "...                             ...       ...        ...                  ...  \n",
       "6331                           0.01       1.0        1.0                  5.0  \n",
       "6332                           0.01       1.0        1.0                  5.0  \n",
       "6333                           0.01       1.0        1.0                  5.0  \n",
       "6334                           0.01       1.0        1.0                  5.0  \n",
       "6335                           0.01       1.0        1.0                  5.0  \n",
       "\n",
       "[576 rows x 138 columns]"
      ]
     },
     "execution_count": 5,
     "metadata": {},
     "output_type": "execute_result"
    }
   ],
   "source": [
    "exp_data_merged.loc[exp_data_merged[\"idnum\"] == 10]"
   ]
  },
  {
   "cell_type": "code",
   "execution_count": 6,
   "metadata": {},
   "outputs": [],
   "source": [
    "input_exp_cols = ['Precursor [ug/m3]',\n",
    "    'Gas [ug/m3] Bin01: lg(C*) = -5.5',\n",
    "    'Gas [ug/m3] Bin02: lg(C*) = -4.5',\n",
    "    'Gas [ug/m3] Bin03: lg(C*) = -3.5',\n",
    "    'Gas [ug/m3] Bin04: lg(C*) = -2.5',\n",
    "    'Gas [ug/m3] Bin05: lg(C*) = -1.5',\n",
    "    'Gas [ug/m3] Bin06: lg(C*) = -0.5',\n",
    "    'Gas [ug/m3] Bin07: lg(C*) =  0.5',\n",
    "    'Gas [ug/m3] Bin08: lg(C*) =  1.5',\n",
    "    'Gas [ug/m3] Bin09: lg(C*) =  2.5',\n",
    "    'Gas [ug/m3] Bin10: lg(C*) =  3.5',\n",
    "    'Gas [ug/m3] Bin11: lg(C*) =  4.5',\n",
    "    'Gas [ug/m3] Bin12: lg(C*) =  5.5',\n",
    "    'Gas [ug/m3] Bin13: lg(C*) =  6.5',\n",
    "    'Gas [ug/m3] Bin14: lg(C*) = -6.5',\n",
    "    'Aerosol [ug_m3] Bin01: lg(C*) = -5.5',\n",
    "    'Aerosol [ug_m3] Bin02: lg(C*) = -4.5',\n",
    "    'Aerosol [ug_m3] Bin03: lg(C*) = -3.5',\n",
    "    'Aerosol [ug_m3] Bin04: lg(C*) = -2.5',\n",
    "    'Aerosol [ug_m3] Bin05: lg(C*) = -1.5',\n",
    "    'Aerosol [ug_m3] Bin06: lg(C*) = -0.5',\n",
    "    'Aerosol [ug_m3] Bin07: lg(C*) =  0.5',\n",
    "    'Aerosol [ug_m3] Bin08: lg(C*) =  1.5',\n",
    "    'Aerosol [ug_m3] Bin09: lg(C*) =  2.5',\n",
    "    'Aerosol [ug_m3] Bin10: lg(C*) =  3.5',\n",
    "    'Aerosol [ug_m3] Bin11: lg(C*) =  4.5',\n",
    "    'Aerosol [ug_m3] Bin12: lg(C*) =  5.5',\n",
    "    'Aerosol [ug_m3] Bin13: lg(C*) =  6.5',\n",
    "    'Aerosol [ug_m3] Bin14: lg(C*) = -6.5',\n",
    "    'temperature (K)',\n",
    "    'solar zenith angle (degree)',\n",
    "    'pre-existing aerosols (ug/m3)',\n",
    "    'o3 (ppb)',\n",
    "    'nox (ppb)',\n",
    "    'oh (10^6 molec/cm3)',\n",
    "    \"idnum\", 'timestep']\n",
    "\n",
    "output_exp_cols = ['Precursor [ug/m3]',\n",
    "    'Gas [ug/m3] Bin01: lg(C*) = -5.5',\n",
    "    'Gas [ug/m3] Bin02: lg(C*) = -4.5',\n",
    "    'Gas [ug/m3] Bin03: lg(C*) = -3.5',\n",
    "    'Gas [ug/m3] Bin04: lg(C*) = -2.5',\n",
    "    'Gas [ug/m3] Bin05: lg(C*) = -1.5',\n",
    "    'Gas [ug/m3] Bin06: lg(C*) = -0.5',\n",
    "    'Gas [ug/m3] Bin07: lg(C*) =  0.5',\n",
    "    'Gas [ug/m3] Bin08: lg(C*) =  1.5',\n",
    "    'Gas [ug/m3] Bin09: lg(C*) =  2.5',\n",
    "    'Gas [ug/m3] Bin10: lg(C*) =  3.5',\n",
    "    'Gas [ug/m3] Bin11: lg(C*) =  4.5',\n",
    "    'Gas [ug/m3] Bin12: lg(C*) =  5.5',\n",
    "    'Gas [ug/m3] Bin13: lg(C*) =  6.5',\n",
    "    'Gas [ug/m3] Bin14: lg(C*) = -6.5',\n",
    "    'Aerosol [ug_m3] Bin01: lg(C*) = -5.5',\n",
    "    'Aerosol [ug_m3] Bin02: lg(C*) = -4.5',\n",
    "    'Aerosol [ug_m3] Bin03: lg(C*) = -3.5',\n",
    "    'Aerosol [ug_m3] Bin04: lg(C*) = -2.5',\n",
    "    'Aerosol [ug_m3] Bin05: lg(C*) = -1.5',\n",
    "    'Aerosol [ug_m3] Bin06: lg(C*) = -0.5',\n",
    "    'Aerosol [ug_m3] Bin07: lg(C*) =  0.5',\n",
    "    'Aerosol [ug_m3] Bin08: lg(C*) =  1.5',\n",
    "    'Aerosol [ug_m3] Bin09: lg(C*) =  2.5',\n",
    "    'Aerosol [ug_m3] Bin10: lg(C*) =  3.5',\n",
    "    'Aerosol [ug_m3] Bin11: lg(C*) =  4.5',\n",
    "    'Aerosol [ug_m3] Bin12: lg(C*) =  5.5',\n",
    "    'Aerosol [ug_m3] Bin13: lg(C*) =  6.5',\n",
    "    'Aerosol [ug_m3] Bin14: lg(C*) = -6.5',\n",
    "    \"idnum\", 'timestep']"
   ]
  },
  {
   "cell_type": "code",
   "execution_count": 7,
   "metadata": {},
   "outputs": [
    {
     "name": "stdout",
     "output_type": "stream",
     "text": [
      "0\n",
      "100\n",
      "200\n",
      "300\n",
      "400\n",
      "500\n",
      "600\n",
      "700\n",
      "800\n",
      "900\n",
      "1000\n",
      "1100\n",
      "1200\n",
      "1300\n",
      "1400\n",
      "1500\n",
      "1600\n",
      "1700\n",
      "1800\n",
      "1900\n",
      "2000\n",
      "2100\n",
      "2200\n",
      "2300\n",
      "2400\n",
      "2500\n",
      "2600\n",
      "2700\n",
      "2800\n",
      "2900\n",
      "3000\n",
      "3100\n",
      "3200\n",
      "3300\n",
      "3400\n",
      "3500\n",
      "3600\n",
      "3700\n",
      "3800\n",
      "3900\n",
      "4000\n",
      "4100\n",
      "4200\n",
      "4300\n",
      "4400\n",
      "4500\n",
      "4600\n",
      "4700\n",
      "4800\n",
      "4900\n",
      "5000\n",
      "5100\n",
      "5200\n",
      "5300\n"
     ]
    }
   ],
   "source": [
    "input_data_list = []\n",
    "output_data_list = []\n",
    "for exp in np.unique(exp_data_merged.idnum):\n",
    "    if exp % 100 == 0:\n",
    "        print(exp)\n",
    "    input_data_list.append(exp_data_merged.loc[exp_data_merged.idnum==exp, input_exp_cols].reset_index(drop=True).iloc[:-1])\n",
    "    output_data_list.append(exp_data_merged.loc[exp_data_merged.idnum==exp, output_exp_cols].reset_index(drop=True).iloc[1:])\n",
    "input_data = pd.concat(input_data_list, ignore_index=True)\n",
    "output_data = pd.concat(output_data_list, ignore_index=True)\n"
   ]
  },
  {
   "cell_type": "code",
   "execution_count": 8,
   "metadata": {},
   "outputs": [],
   "source": [
    "# Import Prediction Data\n",
    "trial_num = \"13\"\n",
    "    \n",
    "prediction_file = \"/glade/work/keelyl/trial_%s.csv\" % trial_num\n",
    "prediction_data = pd.read_csv(prediction_file)\n",
    "prediction_data['timestep']= output_data.timestep\n"
   ]
  },
  {
   "cell_type": "code",
   "execution_count": 9,
   "metadata": {},
   "outputs": [
    {
     "name": "stdout",
     "output_type": "stream",
     "text": [
      "Index(['Precursor [ug/m3]', 'Gas [ug/m3] Bin01: lg(C*) = -5.5',\n",
      "       'Gas [ug/m3] Bin02: lg(C*) = -4.5', 'Gas [ug/m3] Bin03: lg(C*) = -3.5',\n",
      "       'Gas [ug/m3] Bin04: lg(C*) = -2.5', 'Gas [ug/m3] Bin05: lg(C*) = -1.5',\n",
      "       'Gas [ug/m3] Bin06: lg(C*) = -0.5', 'Gas [ug/m3] Bin07: lg(C*) =  0.5',\n",
      "       'Gas [ug/m3] Bin08: lg(C*) =  1.5', 'Gas [ug/m3] Bin09: lg(C*) =  2.5',\n",
      "       'Gas [ug/m3] Bin10: lg(C*) =  3.5', 'Gas [ug/m3] Bin11: lg(C*) =  4.5',\n",
      "       'Gas [ug/m3] Bin12: lg(C*) =  5.5', 'Gas [ug/m3] Bin13: lg(C*) =  6.5',\n",
      "       'Gas [ug/m3] Bin14: lg(C*) = -6.5',\n",
      "       'Aerosol [ug_m3] Bin01: lg(C*) = -5.5',\n",
      "       'Aerosol [ug_m3] Bin02: lg(C*) = -4.5',\n",
      "       'Aerosol [ug_m3] Bin03: lg(C*) = -3.5',\n",
      "       'Aerosol [ug_m3] Bin04: lg(C*) = -2.5',\n",
      "       'Aerosol [ug_m3] Bin05: lg(C*) = -1.5',\n",
      "       'Aerosol [ug_m3] Bin06: lg(C*) = -0.5',\n",
      "       'Aerosol [ug_m3] Bin07: lg(C*) =  0.5',\n",
      "       'Aerosol [ug_m3] Bin08: lg(C*) =  1.5',\n",
      "       'Aerosol [ug_m3] Bin09: lg(C*) =  2.5',\n",
      "       'Aerosol [ug_m3] Bin10: lg(C*) =  3.5',\n",
      "       'Aerosol [ug_m3] Bin11: lg(C*) =  4.5',\n",
      "       'Aerosol [ug_m3] Bin12: lg(C*) =  5.5',\n",
      "       'Aerosol [ug_m3] Bin13: lg(C*) =  6.5',\n",
      "       'Aerosol [ug_m3] Bin14: lg(C*) = -6.5', 'idnum', 'timestep'],\n",
      "      dtype='object')\n"
     ]
    }
   ],
   "source": [
    "col = output_data.columns[output_data.columns.str.contains(\"\")]\n",
    "print(col)"
   ]
  },
  {
   "cell_type": "code",
   "execution_count": null,
   "metadata": {},
   "outputs": [],
   "source": [
    "# ~~ Aerosol Calculations ~~"
   ]
  },
  {
   "cell_type": "code",
   "execution_count": 10,
   "metadata": {},
   "outputs": [],
   "source": [
    "aer_output_data = output_data[['Aerosol [ug_m3] Bin01: lg(C*) = -5.5',\n",
    "       'Aerosol [ug_m3] Bin02: lg(C*) = -4.5',\n",
    "       'Aerosol [ug_m3] Bin03: lg(C*) = -3.5',\n",
    "       'Aerosol [ug_m3] Bin04: lg(C*) = -2.5',\n",
    "       'Aerosol [ug_m3] Bin05: lg(C*) = -1.5',\n",
    "       'Aerosol [ug_m3] Bin06: lg(C*) = -0.5',\n",
    "       'Aerosol [ug_m3] Bin07: lg(C*) =  0.5',\n",
    "       'Aerosol [ug_m3] Bin08: lg(C*) =  1.5',\n",
    "       'Aerosol [ug_m3] Bin09: lg(C*) =  2.5',\n",
    "       'Aerosol [ug_m3] Bin10: lg(C*) =  3.5',\n",
    "       'Aerosol [ug_m3] Bin11: lg(C*) =  4.5',\n",
    "       'Aerosol [ug_m3] Bin12: lg(C*) =  5.5',\n",
    "       'Aerosol [ug_m3] Bin13: lg(C*) =  6.5',\n",
    "       'Aerosol [ug_m3] Bin14: lg(C*) = -6.5',\n",
    "        'timestep']].copy()"
   ]
  },
  {
   "cell_type": "code",
   "execution_count": 11,
   "metadata": {},
   "outputs": [],
   "source": [
    "aer_predict_data = prediction_data[['Aerosol [ug_m3] Bin01: lg(C*) = -5.5',\n",
    "       'Aerosol [ug_m3] Bin02: lg(C*) = -4.5',\n",
    "       'Aerosol [ug_m3] Bin03: lg(C*) = -3.5',\n",
    "       'Aerosol [ug_m3] Bin04: lg(C*) = -2.5',\n",
    "       'Aerosol [ug_m3] Bin05: lg(C*) = -1.5',\n",
    "       'Aerosol [ug_m3] Bin06: lg(C*) = -0.5',\n",
    "       'Aerosol [ug_m3] Bin07: lg(C*) =  0.5',\n",
    "       'Aerosol [ug_m3] Bin08: lg(C*) =  1.5',\n",
    "       'Aerosol [ug_m3] Bin09: lg(C*) =  2.5',\n",
    "       'Aerosol [ug_m3] Bin10: lg(C*) =  3.5',\n",
    "       'Aerosol [ug_m3] Bin11: lg(C*) =  4.5',\n",
    "       'Aerosol [ug_m3] Bin12: lg(C*) =  5.5',\n",
    "       'Aerosol [ug_m3] Bin13: lg(C*) =  6.5',\n",
    "       'Aerosol [ug_m3] Bin14: lg(C*) = -6.5',\n",
    "        'timestep']].copy()"
   ]
  },
  {
   "cell_type": "code",
   "execution_count": 25,
   "metadata": {},
   "outputs": [
    {
     "name": "stdout",
     "output_type": "stream",
     "text": [
      "         aer_total_output  aer_total_pred  aer_total_persist  timestep  \\\n",
      "0            2.764564e-11   -7.281550e-07       0.000000e+00         1   \n",
      "1            2.075124e-10   -6.285628e-07       2.764564e-11         2   \n",
      "2            8.419410e-10   -5.524120e-07       2.075124e-10         3   \n",
      "3            2.192467e-09   -4.906859e-07       8.419410e-10         4   \n",
      "4            4.469053e-09   -4.819269e-07       2.192467e-09         5   \n",
      "...                   ...             ...                ...       ...   \n",
      "3104995      1.513299e-03    1.479023e-03       1.502900e-03       571   \n",
      "3104996      1.523792e-03    1.489017e-03       1.513299e-03       572   \n",
      "3104997      1.534377e-03    1.499102e-03       1.523792e-03       573   \n",
      "3104998      1.545047e-03    1.509275e-03       1.534377e-03       574   \n",
      "3104999      1.555800e-03    1.519531e-03       1.545047e-03       575   \n",
      "\n",
      "         aer_rmse_prediction  aer_rmse_persistance  \n",
      "0               5.302500e-13          7.642816e-22  \n",
      "1               3.953521e-13          3.235205e-20  \n",
      "2               3.060899e-13          4.024996e-19  \n",
      "3               2.429291e-13          1.823920e-18  \n",
      "4               2.365810e-13          5.182846e-18  \n",
      "...                      ...                   ...  \n",
      "3104995         1.174808e-09          1.081306e-10  \n",
      "3104996         1.209258e-09          1.101014e-10  \n",
      "3104997         1.244343e-09          1.120488e-10  \n",
      "3104998         1.279657e-09          1.138579e-10  \n",
      "3104999         1.315437e-09          1.156226e-10  \n",
      "\n",
      "[3105000 rows x 6 columns]\n",
      "          aer_rmse_prediction  aer_rmse_persistance\n",
      "timestep                                           \n",
      "1                    0.000011          8.203114e-07\n",
      "2                    0.000010          3.755655e-06\n",
      "3                    0.000009          7.302192e-06\n",
      "4                    0.000009          1.077862e-05\n",
      "5                    0.000009          1.399290e-05\n",
      "...                       ...                   ...\n",
      "571                  0.000008          5.993823e-06\n",
      "572                  0.000008          6.015095e-06\n",
      "573                  0.000008          6.036707e-06\n",
      "574                  0.000008          6.052361e-06\n",
      "575                  0.000008          6.068133e-06\n",
      "\n",
      "[575 rows x 2 columns]\n"
     ]
    },
    {
     "data": {
      "image/png": "[encoded data removed]",
      "text/plain": [
       "<Figure size 432x288 with 1 Axes>"
      ]
     },
     "metadata": {
      "needs_background": "light"
     },
     "output_type": "display_data"
    }
   ],
   "source": [
    "#Aer RMSE plots\n",
    "aer_columns = aer_output_data.columns[aer_output_data.columns.str.contains(\"Aerosol\")]\n",
    "total_aer_df = pd.DataFrame({\"aer_total_output\": aer_output_data[aer_columns].sum(axis = 1),\n",
    "                             \"aer_total_pred\": aer_predict_data[aer_columns].sum(axis = 1),\n",
    "                             \"aer_total_persist\": input_data[aer_columns].sum(axis = 1),\n",
    "                             'timestep': aer_output_data.timestep})\n",
    "total_aer_df[\"aer_rmse_prediction\"] = (total_aer_df.aer_total_output - total_aer_df.aer_total_pred)**2\n",
    "total_aer_df[\"aer_rmse_persistance\"] = (total_aer_df.aer_total_output - total_aer_df.aer_total_persist)**2\n",
    "print(total_aer_df)\n",
    "\n",
    "aer_rmse_time = total_aer_df.groupby(by = 'timestep')[[\"aer_rmse_prediction\", \"aer_rmse_persistance\"]].mean()**0.5\n",
    "print(aer_rmse_time)\n",
    "aer_rmse_time.plot()\n",
    "plt.title(\"Aerosol RMSE\", fontsize=18)\n",
    "plt.xlabel(\"Time Step\", fontsize=14)\n",
    "plt.legend(fontsize=14)\n",
    "plt.savefig(\"rmse_plot_aer_trial_%s.png\" % trial_num, dpi=200, bbox_inches=\"tight\")"
   ]
  },
  {
   "cell_type": "code",
   "execution_count": 13,
   "metadata": {},
   "outputs": [
    {
     "data": {
      "image/png": "[encoded data removed]",
      "text/plain": [
       "<Figure size 432x288 with 1 Axes>"
      ]
     },
     "metadata": {
      "needs_background": "light"
     },
     "output_type": "display_data"
    }
   ],
   "source": [
    "#Aer Skill Score\n",
    "\n",
    "aer_rmse_time[\"aerosol_skill_score\"] = (1 - (aer_rmse_time.aer_rmse_prediction / aer_rmse_time.aer_rmse_persistance))\n",
    "plt.plot(aer_rmse_time.index , aer_rmse_time['aerosol_skill_score'])\n",
    "plt.ylim(bottom = -3, top = 1)\n",
    "plt.title(\"Aerosol Skill Score\", fontsize=18)\n",
    "plt.xlabel(\"Time Step\", fontsize=14)\n",
    "plt.plot(aer_rmse_time.index , np.zeros(aer_rmse_time.index.size), \"k--\")\n",
    "plt.savefig(\"skill_plot_aer_trial_%s.png\" % trial_num, dpi=200, bbox_inches=\"tight\")"
   ]
  },
  {
   "cell_type": "code",
   "execution_count": 14,
   "metadata": {},
   "outputs": [
    {
     "name": "stdout",
     "output_type": "stream",
     "text": [
      "-1.6286580984002597e-07\n",
      "          aer_total_pred  aer_total_output\n",
      "timestep                                  \n",
      "1               0.000003      2.743967e-07\n",
      "2               0.000004      1.553841e-06\n",
      "3               0.000006      4.123594e-06\n",
      "4               0.000009      7.993400e-06\n",
      "5               0.000014      1.309057e-05\n",
      "...                  ...               ...\n",
      "571             0.001794      1.797386e-03\n",
      "572             0.001798      1.801046e-03\n",
      "573             0.001801      1.804724e-03\n",
      "574             0.001805      1.808417e-03\n",
      "575             0.001809      1.812125e-03\n",
      "\n",
      "[575 rows x 2 columns]\n"
     ]
    },
    {
     "data": {
      "image/png": "[encoded data removed]",
      "text/plain": [
       "<Figure size 432x288 with 1 Axes>"
      ]
     },
     "metadata": {
      "needs_background": "light"
     },
     "output_type": "display_data"
    }
   ],
   "source": [
    "#Aer Average Mean\n",
    "aer_mean_error = np.mean(aer_predict_data[aer_columns].sum(axis = 1) - aer_output_data[aer_columns].sum(axis = 1))\n",
    "print(aer_mean_error)\n",
    "\n",
    "aer_mean_df = total_aer_df.groupby(by = 'timestep')[[\"aer_total_pred\", \"aer_total_output\"]].mean()\n",
    "print(aer_mean_df)\n",
    "aer_mean_df[\"aer_mean_error_pt\"] = (aer_mean_df.aer_total_pred - aer_mean_df.aer_total_output)\n",
    "plt.plot(aer_mean_df.index , aer_mean_df['aer_mean_error_pt'])\n",
    "plt.ylim(bottom = -0.00005 , top = 0.00005)\n",
    "plt.title(\"Aerosol Mean Error\", fontsize=18)\n",
    "plt.xlabel(\"Time Step\", fontsize=14)\n",
    "plt.savefig(\"mean_aer_trial_%s.png\" % trial_num, dpi=200, bbox_inches=\"tight\")"
   ]
  },
  {
   "cell_type": "code",
   "execution_count": null,
   "metadata": {},
   "outputs": [],
   "source": [
    "# ~~ Gas Calculations ~~"
   ]
  },
  {
   "cell_type": "code",
   "execution_count": 15,
   "metadata": {},
   "outputs": [],
   "source": [
    "gas_output_data = output_data[['Gas [ug/m3] Bin01: lg(C*) = -5.5',\n",
    "       'Gas [ug/m3] Bin02: lg(C*) = -4.5', 'Gas [ug/m3] Bin03: lg(C*) = -3.5',\n",
    "       'Gas [ug/m3] Bin04: lg(C*) = -2.5', 'Gas [ug/m3] Bin05: lg(C*) = -1.5',\n",
    "       'Gas [ug/m3] Bin06: lg(C*) = -0.5', 'Gas [ug/m3] Bin07: lg(C*) =  0.5',\n",
    "       'Gas [ug/m3] Bin08: lg(C*) =  1.5', 'Gas [ug/m3] Bin09: lg(C*) =  2.5',\n",
    "       'Gas [ug/m3] Bin10: lg(C*) =  3.5', 'Gas [ug/m3] Bin11: lg(C*) =  4.5',\n",
    "       'Gas [ug/m3] Bin12: lg(C*) =  5.5', 'Gas [ug/m3] Bin13: lg(C*) =  6.5',\n",
    "       'Gas [ug/m3] Bin14: lg(C*) = -6.5',\n",
    "        'timestep']].copy()"
   ]
  },
  {
   "cell_type": "code",
   "execution_count": 16,
   "metadata": {},
   "outputs": [],
   "source": [
    "gas_predict_data = prediction_data[['Gas [ug/m3] Bin01: lg(C*) = -5.5',\n",
    "       'Gas [ug/m3] Bin02: lg(C*) = -4.5', 'Gas [ug/m3] Bin03: lg(C*) = -3.5',\n",
    "       'Gas [ug/m3] Bin04: lg(C*) = -2.5', 'Gas [ug/m3] Bin05: lg(C*) = -1.5',\n",
    "       'Gas [ug/m3] Bin06: lg(C*) = -0.5', 'Gas [ug/m3] Bin07: lg(C*) =  0.5',\n",
    "       'Gas [ug/m3] Bin08: lg(C*) =  1.5', 'Gas [ug/m3] Bin09: lg(C*) =  2.5',\n",
    "       'Gas [ug/m3] Bin10: lg(C*) =  3.5', 'Gas [ug/m3] Bin11: lg(C*) =  4.5',\n",
    "       'Gas [ug/m3] Bin12: lg(C*) =  5.5', 'Gas [ug/m3] Bin13: lg(C*) =  6.5',\n",
    "       'Gas [ug/m3] Bin14: lg(C*) = -6.5',\n",
    "        'timestep']].copy()"
   ]
  },
  {
   "cell_type": "code",
   "execution_count": 17,
   "metadata": {},
   "outputs": [
    {
     "name": "stdout",
     "output_type": "stream",
     "text": [
      "          gas_rmse_prediction  gas_rmse_persistance\n",
      "timestep                                           \n",
      "1                    0.000121              0.000572\n",
      "2                    0.000094              0.000552\n",
      "3                    0.000075              0.000528\n",
      "4                    0.000059              0.000511\n",
      "5                    0.000045              0.000498\n",
      "...                       ...                   ...\n",
      "571                  0.000018              0.000016\n",
      "572                  0.000018              0.000016\n",
      "573                  0.000018              0.000016\n",
      "574                  0.000018              0.000015\n",
      "575                  0.000018              0.000015\n",
      "\n",
      "[575 rows x 2 columns]\n"
     ]
    },
    {
     "data": {
      "image/png": "[encoded data removed]",
      "text/plain": [
       "<Figure size 432x288 with 1 Axes>"
      ]
     },
     "metadata": {
      "needs_background": "light"
     },
     "output_type": "display_data"
    }
   ],
   "source": [
    "#Gas RMSE Plots\n",
    "gas_columns = gas_output_data.columns[gas_output_data.columns.str.contains(\"Gas\")]\n",
    "total_gas_df = pd.DataFrame({\"gas_total_output\": gas_output_data[gas_columns].sum(axis = 1),\n",
    "                             \"gas_total_pred\": gas_predict_data[gas_columns].sum(axis = 1),\n",
    "                             \"gas_total_persist\": input_data[gas_columns].sum(axis = 1),\n",
    "                             'timestep': gas_output_data.timestep})\n",
    "total_gas_df[\"gas_rmse_prediction\"] = (total_gas_df.gas_total_output - total_gas_df.gas_total_pred)**2\n",
    "total_gas_df[\"gas_rmse_persistance\"] = (total_gas_df.gas_total_output - total_gas_df.gas_total_persist)**2\n",
    "\n",
    "\n",
    "gas_rmse_time = total_gas_df.groupby(by = 'timestep')[[\"gas_rmse_prediction\", \"gas_rmse_persistance\"]].mean()**0.5\n",
    "print(gas_rmse_time)\n",
    "\n",
    "gas_rmse_time.plot()\n",
    "plt.title(\"Gas RMSE\", fontsize=18)\n",
    "plt.xlabel(\"Time Step\", fontsize=14)\n",
    "plt.legend(fontsize=14)\n",
    "plt.savefig(\"rmse_plot_gas_trial_%s.png\" % trial_num, dpi=200, bbox_inches=\"tight\")"
   ]
  },
  {
   "cell_type": "code",
   "execution_count": 18,
   "metadata": {},
   "outputs": [
    {
     "data": {
      "image/png": "[encoded data removed]",
      "text/plain": [
       "<Figure size 432x288 with 1 Axes>"
      ]
     },
     "metadata": {
      "needs_background": "light"
     },
     "output_type": "display_data"
    }
   ],
   "source": [
    "#Gas Skill Score\n",
    "gas_rmse_time[\"gas_skill_score\"] = (1 - (gas_rmse_time.gas_rmse_prediction / gas_rmse_time.gas_rmse_persistance))\n",
    "plt.plot(gas_rmse_time.index , gas_rmse_time['gas_skill_score'])\n",
    "plt.ylim(bottom = -1, top = 1)\n",
    "plt.title(\"Gas Skill Score\", fontsize=18)\n",
    "plt.xlabel(\"Time Step\", fontsize=14)\n",
    "plt.plot(gas_rmse_time.index , np.zeros(gas_rmse_time.index.size), \"k--\")\n",
    "plt.savefig(\"skill_plot_gas_trial_%s.png\" % trial_num, dpi=200, bbox_inches=\"tight\")"
   ]
  },
  {
   "cell_type": "code",
   "execution_count": 19,
   "metadata": {},
   "outputs": [
    {
     "name": "stdout",
     "output_type": "stream",
     "text": [
      "-2.216433476182383e-07\n",
      "          gas_total_pred  gas_total_output\n",
      "timestep                                  \n",
      "1               0.000441          0.000462\n",
      "2               0.000899          0.000913\n",
      "3               0.001343          0.001345\n",
      "4               0.001768          0.001764\n",
      "5               0.002179          0.002173\n",
      "...                  ...               ...\n",
      "571             0.012043          0.012041\n",
      "572             0.012030          0.012028\n",
      "573             0.012017          0.012015\n",
      "574             0.012005          0.012002\n",
      "575             0.011992          0.011990\n",
      "\n",
      "[575 rows x 2 columns]\n"
     ]
    },
    {
     "data": {
      "image/png": "[encoded data removed]",
      "text/plain": [
       "<Figure size 432x288 with 1 Axes>"
      ]
     },
     "metadata": {
      "needs_background": "light"
     },
     "output_type": "display_data"
    }
   ],
   "source": [
    "#Gas Mean Error\n",
    "\n",
    "gas_mean_error = np.mean(gas_predict_data[gas_columns].sum(axis = 1) - gas_output_data[gas_columns].sum(axis = 1))\n",
    "print(gas_mean_error)\n",
    "\n",
    "gas_mean_df = total_gas_df.groupby(by = 'timestep')[[\"gas_total_pred\", \"gas_total_output\"]].mean()\n",
    "print(gas_mean_df)\n",
    "gas_mean_df[\"gas_mean_error_pt\"] = (gas_mean_df.gas_total_pred - gas_mean_df.gas_total_output)\n",
    "plt.plot(gas_mean_df.index , gas_mean_df['gas_mean_error_pt'])\n",
    "plt.ylim(bottom = -0.00005 , top = 0.00005)\n",
    "plt.title(\"Gas Mean Error\", fontsize=18)\n",
    "plt.xlabel(\"Time Step\", fontsize=14)\n",
    "plt.savefig(\"mean_gas_trial_%s.png\" % trial_num, dpi=200, bbox_inches=\"tight\")"
   ]
  },
  {
   "cell_type": "code",
   "execution_count": null,
   "metadata": {},
   "outputs": [],
   "source": [
    "# ~~Precursor Calculations ~~"
   ]
  },
  {
   "cell_type": "code",
   "execution_count": 20,
   "metadata": {},
   "outputs": [],
   "source": [
    "pre_output_data = output_data[['Precursor [ug/m3]',\n",
    "        'timestep']].copy()"
   ]
  },
  {
   "cell_type": "code",
   "execution_count": 21,
   "metadata": {},
   "outputs": [],
   "source": [
    "pre_predict_data = prediction_data[['Precursor [ug/m3]',\n",
    "        'timestep']].copy()"
   ]
  },
  {
   "cell_type": "code",
   "execution_count": 22,
   "metadata": {},
   "outputs": [
    {
     "name": "stdout",
     "output_type": "stream",
     "text": [
      "          precursor_rmse_prediction  precursor_rmse_persistance\n",
      "timestep                                                       \n",
      "1                          0.000038                    0.000434\n",
      "2                          0.000031                    0.000427\n",
      "3                          0.000029                    0.000420\n",
      "4                          0.000028                    0.000414\n",
      "5                          0.000028                    0.000407\n",
      "...                             ...                         ...\n",
      "571                        0.000025                    0.000014\n",
      "572                        0.000025                    0.000014\n",
      "573                        0.000025                    0.000014\n",
      "574                        0.000025                    0.000014\n",
      "575                        0.000025                    0.000014\n",
      "\n",
      "[575 rows x 2 columns]\n"
     ]
    },
    {
     "data": {
      "image/png": "[encoded data removed]",
      "text/plain": [
       "<Figure size 432x288 with 1 Axes>"
      ]
     },
     "metadata": {
      "needs_background": "light"
     },
     "output_type": "display_data"
    }
   ],
   "source": [
    "#Precursor RMSE Plots\n",
    "pre_columns = pre_output_data.columns[pre_output_data.columns.str.contains(\"Precursor\")]\n",
    "total_pre_df = pd.DataFrame({\"pre_total_output\": pre_output_data[pre_columns].sum(axis = 1),\n",
    "                             \"pre_total_pred\": pre_predict_data[pre_columns].sum(axis = 1),\n",
    "                             \"pre_total_persist\": input_data[pre_columns].sum(axis = 1),\n",
    "                             'timestep': pre_output_data.timestep})\n",
    "total_pre_df[\"precursor_rmse_prediction\"] = (total_pre_df.pre_total_output - total_pre_df.pre_total_pred)**2\n",
    "total_pre_df[\"precursor_rmse_persistance\"] = (total_pre_df.pre_total_output - total_pre_df.pre_total_persist)**2\n",
    "\n",
    "\n",
    "pre_rmse_time = total_pre_df.groupby(by = 'timestep')[[\"precursor_rmse_prediction\", \"precursor_rmse_persistance\"]].mean()**0.5\n",
    "print(pre_rmse_time)\n",
    "\n",
    "pre_rmse_time.plot()\n",
    "plt.title(\"Precursor RMSE\", fontsize=18)\n",
    "plt.xlabel(\"Time Step\", fontsize=14)\n",
    "plt.legend(fontsize=14)\n",
    "plt.savefig(\"rmse_plot_pre_trial_%s.png\" % trial_num, dpi=200, bbox_inches=\"tight\")\n"
   ]
  },
  {
   "cell_type": "code",
   "execution_count": 23,
   "metadata": {},
   "outputs": [
    {
     "data": {
      "image/png": "[encoded data removed]",
      "text/plain": [
       "<Figure size 432x288 with 1 Axes>"
      ]
     },
     "metadata": {
      "needs_background": "light"
     },
     "output_type": "display_data"
    }
   ],
   "source": [
    "#Pre Skill Score\n",
    "pre_rmse_time[\"pre_skill_score\"] = (1 - (pre_rmse_time.precursor_rmse_prediction / pre_rmse_time.precursor_rmse_persistance))\n",
    "plt.plot(pre_rmse_time.index , pre_rmse_time['pre_skill_score'])\n",
    "plt.ylim(bottom = -1, top = 1)\n",
    "plt.title(\"Precursor Skill Score\", fontsize=18)\n",
    "plt.xlabel(\"Time Step\", fontsize=14)\n",
    "plt.plot(pre_rmse_time.index , np.zeros(pre_rmse_time.index.size), \"k--\")\n",
    "plt.savefig(\"skill_plot_pre_trial_%s.png\" % trial_num, dpi=200, bbox_inches=\"tight\")"
   ]
  },
  {
   "cell_type": "code",
   "execution_count": 24,
   "metadata": {},
   "outputs": [
    {
     "name": "stdout",
     "output_type": "stream",
     "text": [
      "3.508370934371383e-06\n",
      "          pre_total_pred  pre_total_output\n",
      "timestep                                  \n",
      "1               0.037340          0.037332\n",
      "2               0.036990          0.036980\n",
      "3               0.036644          0.036633\n",
      "4               0.036301          0.036291\n",
      "5               0.035962          0.035953\n",
      "...                  ...               ...\n",
      "571             0.004620          0.004612\n",
      "572             0.004611          0.004603\n",
      "573             0.004603          0.004594\n",
      "574             0.004594          0.004585\n",
      "575             0.004585          0.004577\n",
      "\n",
      "[575 rows x 2 columns]\n"
     ]
    },
    {
     "data": {
      "image/png": "[encoded data removed]",
      "text/plain": [
       "<Figure size 432x288 with 1 Axes>"
      ]
     },
     "metadata": {
      "needs_background": "light"
     },
     "output_type": "display_data"
    }
   ],
   "source": [
    "#Precursor Mean Error\n",
    "\n",
    "pre_mean_error = np.mean(pre_predict_data[pre_columns].sum(axis = 1) - pre_output_data[pre_columns].sum(axis = 1))\n",
    "print(pre_mean_error)\n",
    "\n",
    "pre_mean_df = total_pre_df.groupby(by = 'timestep')[[\"pre_total_pred\", \"pre_total_output\"]].mean()\n",
    "print(pre_mean_df)\n",
    "pre_mean_df[\"pre_mean_error_pt\"] = (pre_mean_df.pre_total_pred - pre_mean_df.pre_total_output)\n",
    "plt.plot(pre_mean_df.index , pre_mean_df['pre_mean_error_pt'])\n",
    "plt.ylim(bottom = -0.00005 , top = 0.00005)\n",
    "plt.title(\"Precursor Mean Error\", fontsize=18)\n",
    "plt.xlabel(\"Time Step\", fontsize=14)\n",
    "plt.savefig(\"mean_pre_trial_%s.png\" % trial_num, dpi=200, bbox_inches=\"tight\")"
   ]
  },
  {
   "cell_type": "code",
   "execution_count": 47,
   "metadata": {},
   "outputs": [],
   "source": [
    "# ~~~~~~~~~~~~~~~~~~~~~~"
   ]
  },
  {
   "cell_type": "code",
   "execution_count": null,
   "metadata": {},
   "outputs": [],
   "source": [
    "# Misc Calculations"
   ]
  },
  {
   "cell_type": "code",
   "execution_count": 116,
   "metadata": {},
   "outputs": [
    {
     "name": "stdout",
     "output_type": "stream",
     "text": [
      "Aerosol [ug_m3] Bin01: lg(C*) = -5.5    0.997882\n",
      "Aerosol [ug_m3] Bin02: lg(C*) = -4.5    0.997696\n",
      "Aerosol [ug_m3] Bin03: lg(C*) = -3.5    0.997946\n",
      "Aerosol [ug_m3] Bin04: lg(C*) = -2.5    0.997899\n",
      "Aerosol [ug_m3] Bin05: lg(C*) = -1.5    0.997774\n",
      "Aerosol [ug_m3] Bin06: lg(C*) = -0.5    0.997580\n",
      "Aerosol [ug_m3] Bin07: lg(C*) =  0.5    0.997938\n",
      "Aerosol [ug_m3] Bin08: lg(C*) =  1.5    0.997695\n",
      "Aerosol [ug_m3] Bin09: lg(C*) =  2.5    0.997342\n",
      "Aerosol [ug_m3] Bin10: lg(C*) =  3.5    0.996794\n",
      "Aerosol [ug_m3] Bin11: lg(C*) =  4.5    0.996713\n",
      "Aerosol [ug_m3] Bin12: lg(C*) =  5.5    0.995036\n",
      "Aerosol [ug_m3] Bin13: lg(C*) =  6.5    0.992655\n",
      "Aerosol [ug_m3] Bin14: lg(C*) = -6.5    0.993041\n",
      "dtype: float64\n"
     ]
    }
   ],
   "source": [
    "#Aer Skill score\n",
    "\n",
    "#difr = aer_predict_mean.sub(aer_output_mean)\n",
    "#print(Sub)\n",
    "\n",
    "\n",
    "RMSE = np.sqrt(np.mean((aer_predict_mean - aer_output_mean)**2))\n",
    "\n",
    "RMSE_baseline = np.sqrt(np.mean((aer_output_mean.mean() - aer_output_mean)**2))\n",
    "\n",
    "skill_score = 1 - (RMSE / RMSE_baseline)\n",
    "print(skill_score)\n",
    "\n",
    "#print(RMSE)\n",
    "#print(RMSE_baseline)"
   ]
  },
  {
   "cell_type": "code",
   "execution_count": 19,
   "metadata": {},
   "outputs": [
    {
     "data": {
      "text/plain": [
       "<matplotlib.legend.Legend at 0x2b39020c8c10>"
      ]
     },
     "execution_count": 19,
     "metadata": {},
     "output_type": "execute_result"
    },
    {
     "data": {
      "image/png": "[encoded data removed]",
      "text/plain": [
       "<Figure size 360x360 with 1 Axes>"
      ]
     },
     "metadata": {
      "needs_background": "light"
     },
     "output_type": "display_data"
    }
   ],
   "source": [
    "#Aerosol [ug_m3] Bin06\n",
    "col2 = output_data.columns[output_data.columns.str.contains(\"Aerosol\")][5]\n",
    "plt.figure(figsize=(5, 5))\n",
    "plt.plot(output_data.loc[:574, col2], color='blue', label=\"GECKO-A\")\n",
    "plt.plot(prediction_data.loc[:574, col2], color=\"purple\", label=\"Dense ANN Emulator\")\n",
    "plt.title(\"Aerosol [ug_m3] Bin06\", fontsize=18)\n",
    "plt.ylabel(\"Aerosol Concentration\", fontsize=14)\n",
    "plt.xlabel(\"Time Step\", fontsize=14)\n",
    "plt.legend(fontsize=14)\n",
    "#plt.savefig(\"plot3_Bin06_trial_%s.png\" % trial, dpi=200, bbox_inches=\"tight\")"
   ]
  },
  {
   "cell_type": "code",
   "execution_count": 115,
   "metadata": {},
   "outputs": [
    {
     "name": "stdout",
     "output_type": "stream",
     "text": [
      "(3105000, 14)\n",
      "[2.76456438e-11 2.07512387e-10 8.41940970e-10 ... 1.53437691e-03\n",
      " 1.54504734e-03 1.55580013e-03]\n",
      "0.997627807376549\n",
      "6.8779447946630535e-06\n",
      "0.0028994040056735796\n"
     ]
    }
   ],
   "source": [
    "# Skill Score Aerosol\n",
    "\n",
    "aer_col1 = output_data.columns.str.contains(\"Aerosol\")\n",
    "aer_col2= prediction_data.columns.str.contains(\"Aerosol\")\n",
    "aer_output_dat_final= output_data.values[:, aer_col1]\n",
    "aer_out_pred_final= prediction_data.values[:, aer_col2]\n",
    "print(aer_output_dat_final.shape)\n",
    "aer_final_mass_data = np.sum(aer_output_dat_final, axis=1)\n",
    "aer_final_mass_pred = np.sum(aer_out_pred_final, axis=1)\n",
    "\n",
    "print(aer_final_mass_data)\n",
    "\n",
    "#aerosol_mass_RMSE = np.sqrt(np.square(np.subtract(aer_final_mass_data,aer_final_mass_pred)).mean())\n",
    "\n",
    "RMSE = np.sqrt(np.mean((aer_final_mass_pred - aer_final_mass_data)**2))\n",
    "\n",
    "RMSE_baseline = np.sqrt(np.mean((aer_final_mass_data.mean() - aer_final_mass_data)**2))\n",
    "\n",
    "skill_score = 1 - (RMSE / RMSE_baseline)\n",
    "print(skill_score)\n",
    "\n",
    "print(RMSE)\n",
    "print(RMSE_baseline)"
   ]
  },
  {
   "cell_type": "code",
   "execution_count": 14,
   "metadata": {},
   "outputs": [
    {
     "name": "stdout",
     "output_type": "stream",
     "text": [
      "(3105000, 14)\n",
      "0.9960187595869001\n",
      "2.339144136711348e-05\n",
      "0.005875415433377593\n"
     ]
    }
   ],
   "source": [
    "# Skill Score Gas\n",
    "\n",
    "gas_col1 = output_data.columns.str.contains(\"Gas\")\n",
    "gas_col2= prediction_data.columns.str.contains(\"Gas\")\n",
    "gas_output_dat_final= output_data.values[:, gas_col1]\n",
    "gas_out_pred_final= prediction_data.values[:, gas_col2]\n",
    "print(gas_output_dat_final.shape)\n",
    "gas_final_mass_data = np.sum(gas_output_dat_final, axis=1)\n",
    "gas_final_mass_pred = np.sum(gas_out_pred_final, axis=1)\n",
    "\n",
    "RMSE = np.sqrt(np.mean((gas_final_mass_pred - gas_final_mass_data)**2))\n",
    "\n",
    "RMSE_baseline = np.sqrt(np.mean((gas_final_mass_data.mean() - gas_final_mass_data)**2))\n",
    "\n",
    "skill_score = 1 - (RMSE / RMSE_baseline)\n",
    "print(skill_score)\n",
    "\n",
    "print(RMSE)\n",
    "print(RMSE_baseline)"
   ]
  },
  {
   "cell_type": "code",
   "execution_count": 15,
   "metadata": {},
   "outputs": [
    {
     "name": "stdout",
     "output_type": "stream",
     "text": [
      "(3105000, 1)\n",
      "0.9972231825629976\n",
      "3.249759454543541e-05\n",
      "0.011703180091132201\n"
     ]
    }
   ],
   "source": [
    "# Skill Score Precursor\n",
    "\n",
    "pre_col1 = output_data.columns.str.contains(\"Precursor\")\n",
    "pre_col2= prediction_data.columns.str.contains(\"Precursor\")\n",
    "pre_output_dat_final= output_data.values[:, pre_col1]\n",
    "pre_out_pred_final= prediction_data.values[:, pre_col2]\n",
    "print(pre_output_dat_final.shape)\n",
    "pre_final_mass_data = np.sum(pre_output_dat_final, axis=1)\n",
    "pre_final_mass_pred = np.sum(pre_out_pred_final, axis=1)\n",
    "\n",
    "RMSE = np.sqrt(np.mean((pre_final_mass_pred - pre_final_mass_data)**2))\n",
    "\n",
    "RMSE_baseline = np.sqrt(np.mean((pre_final_mass_data.mean() - pre_final_mass_data)**2))\n",
    "\n",
    "skill_score = 1 - (RMSE / RMSE_baseline)\n",
    "print(skill_score)\n",
    "\n",
    "print(RMSE)\n",
    "print(RMSE_baseline)"
   ]
  },
  {
   "cell_type": "code",
   "execution_count": null,
   "metadata": {},
   "outputs": [],
   "source": []
  }
 ],
 "metadata": {
  "kernelspec": {
   "display_name": "Python 3",
   "language": "python",
   "name": "python3"
  },
  "language_info": {
   "codemirror_mode": {
    "name": "ipython",
    "version": 3
   },
   "file_extension": ".py",
   "mimetype": "text/x-python",
   "name": "python",
   "nbconvert_exporter": "python",
   "pygments_lexer": "ipython3",
   "version": "3.7.4"
  }
 },
 "nbformat": 4,
 "nbformat_minor": 4
}
